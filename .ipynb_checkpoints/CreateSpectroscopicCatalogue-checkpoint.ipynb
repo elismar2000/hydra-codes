{
 "cells": [
  {
   "cell_type": "code",
   "execution_count": 1,
   "metadata": {
    "ExecuteTime": {
     "end_time": "2022-06-09T17:11:22.747313Z",
     "start_time": "2022-06-09T17:11:04.511083Z"
    }
   },
   "outputs": [],
   "source": [
    "import pandas as pd\n",
    "import numpy as np\n",
    "import os, time, threading\n",
    "from tqdm import tqdm\n",
    "\n",
    "from astroquery.utils.tap.core import TapPlus"
   ]
  },
  {
   "cell_type": "markdown",
   "metadata": {},
   "source": [
    "This notebook contains instructions to download all catalogues from VizieR and HEASARC that contain at least one column with redshifts (ucd = src.redshift).\n",
    "\n",
    "Since not all authors separate spectroscopic from photometric redshifts, you need to filter those by hand since they may enter the same column of redshift.\n",
    "\n",
    "Below I list five queries that I used on TOPCAT's TAP query service. They are used to \n",
    "1. Get the name of the RA and DEC columns. We need this to find which tables contain coordinates that are not in the J2000 epoch. This is done for all tables in the service\n",
    "2. Get the tables that have a column of redshifts. Some tables, for some reason, have a metallicity column with the redshift ucd, so you need to filter these out.\n",
    "3. Get the redshift error and flag columns and the morphological classification of the object. Very few tables have this information.\n",
    "\n",
    "---\n",
    "\n",
    "RA columns:\n",
    "```\n",
    "SELECT t.table_name, c.column_name AS ra_col, c.description as ra_desc\n",
    "FROM tap_schema.tables AS t\n",
    "JOIN tap_schema.columns AS c USING (table_name)\n",
    "WHERE c.ucd = 'pos.eq.ra;meta.main'\n",
    "```\n",
    "\n",
    "DEC columns:\n",
    "```\n",
    "SELECT t.table_name, c.column_name AS dec_col, c.description as dec_desc\n",
    "FROM tap_schema.tables AS t\n",
    "JOIN tap_schema.columns AS c USING (table_name)\n",
    "WHERE c.ucd = 'pos.eq.dec;meta.main'\n",
    "```\n",
    "\n",
    "Redshift tables:\n",
    "```\n",
    "SELECT t.table_name, t.description, c.column_name AS zcol, c.description as zcol_desc\n",
    "FROM tap_schema.tables AS t\n",
    "JOIN tap_schema.columns AS c USING (table_name)\n",
    "WHERE c.ucd = 'src.redshift'\n",
    "```\n",
    "\n",
    "Redshift error columns:\n",
    "```\n",
    "SELECT t.table_name, c.column_name AS zerr_col, c.description as zerr_desc\n",
    "FROM tap_schema.tables AS t\n",
    "JOIN tap_schema.columns AS c USING (table_name)\n",
    "WHERE c.ucd = 'stat.error;src.redshift'\n",
    "```\n",
    "\n",
    "Redshift flag columns:\n",
    "```\n",
    "SELECT t.table_name, t.description, c.column_name AS zflg_col, c.description as zflg_desc\n",
    "FROM tap_schema.tables AS t\n",
    "JOIN tap_schema.columns AS c USING (table_name)\n",
    "WHERE c.ucd = 'meta.code.error;src.redshift' -> VizieR\n",
    "WHERE c.ucd = 'meta.code;src.redshift' -> HEASARC\n",
    "```\n",
    "\n",
    "Morphological classification columns:\n",
    "```\n",
    "SELECT t.table_name, c.column_name AS class_col, c.description as class_desc\n",
    "FROM tap_schema.tables AS t\n",
    "JOIN tap_schema.columns AS c USING (table_name)\n",
    "WHERE c.ucd = 'meta.code.class' -> VizieR\n",
    "WHERE c.ucd = 'src.class' -> HEASARC\n",
    "```\n",
    "\n",
    "---\n",
    "\n",
    "After obtaining all these tables you need to crossmatch them to contruct a table that contains the table name, RA column, DEC column, redshift columns, and the morphological column. This information will be used on the query to download each table. I recommend doing this step on TOPCAT.\n",
    "\n",
    "CAUTION: Some tables have radial velocity instead of redshift, you need to divide those values (both z and z_err) by c."
   ]
  },
  {
   "cell_type": "markdown",
   "metadata": {
    "heading_collapsed": true
   },
   "source": [
    "# Vizier"
   ]
  },
  {
   "cell_type": "code",
   "execution_count": 2,
   "metadata": {
    "ExecuteTime": {
     "end_time": "2022-06-09T17:11:28.676054Z",
     "start_time": "2022-06-09T17:11:28.662896Z"
    },
    "hidden": true
   },
   "outputs": [],
   "source": [
    "Result_V = pd.read_csv('VizieR_TablesToDownload_WithCols.csv')"
   ]
  },
  {
   "cell_type": "code",
   "execution_count": 3,
   "metadata": {
    "ExecuteTime": {
     "end_time": "2022-06-09T17:11:31.025231Z",
     "start_time": "2022-06-09T17:11:30.980828Z"
    },
    "hidden": true
   },
   "outputs": [
    {
     "data": {
      "text/html": [
       "<div>\n",
       "<style scoped>\n",
       "    .dataframe tbody tr th:only-of-type {\n",
       "        vertical-align: middle;\n",
       "    }\n",
       "\n",
       "    .dataframe tbody tr th {\n",
       "        vertical-align: top;\n",
       "    }\n",
       "\n",
       "    .dataframe thead th {\n",
       "        text-align: right;\n",
       "    }\n",
       "</style>\n",
       "<table border=\"1\" class=\"dataframe\">\n",
       "  <thead>\n",
       "    <tr style=\"text-align: right;\">\n",
       "      <th></th>\n",
       "      <th>table_name</th>\n",
       "      <th>table_desc</th>\n",
       "      <th>zcol</th>\n",
       "      <th>zcol_desc</th>\n",
       "      <th>ra_col</th>\n",
       "      <th>ra_desc</th>\n",
       "      <th>dec_col</th>\n",
       "      <th>dec_desc</th>\n",
       "      <th>zflg_col</th>\n",
       "      <th>zflg_desc</th>\n",
       "      <th>zerr_col</th>\n",
       "      <th>zerr_desc</th>\n",
       "      <th>class_col</th>\n",
       "      <th>class_desc</th>\n",
       "    </tr>\n",
       "  </thead>\n",
       "  <tbody>\n",
       "    <tr>\n",
       "      <th>0</th>\n",
       "      <td>J/ApJ/679/140/sources</td>\n",
       "      <td>Observed properties of sources  in SDSS and CO...</td>\n",
       "      <td>z</td>\n",
       "      <td>Redshift (spectroscopic)</td>\n",
       "      <td>_RA</td>\n",
       "      <td>Positions derived from SDSS or COSMOS name (ri...</td>\n",
       "      <td>_DE</td>\n",
       "      <td>Positions derived from SDSS or COSMOS name (de...</td>\n",
       "      <td>NaN</td>\n",
       "      <td>NaN</td>\n",
       "      <td>NaN</td>\n",
       "      <td>NaN</td>\n",
       "      <td>NaN</td>\n",
       "      <td>NaN</td>\n",
       "    </tr>\n",
       "    <tr>\n",
       "      <th>1</th>\n",
       "      <td>J/ApJ/773/53/table1</td>\n",
       "      <td>Summary of observations, classification, and p...</td>\n",
       "      <td>z</td>\n",
       "      <td>[0.004/0.09]? Heliocentric redshift from NED, ...</td>\n",
       "      <td>_RA</td>\n",
       "      <td>Right Ascension (J2000) from SIMBAD (not part ...</td>\n",
       "      <td>_DE</td>\n",
       "      <td>Declination (J2000) from SIMBAD (not part of t...</td>\n",
       "      <td>NaN</td>\n",
       "      <td>NaN</td>\n",
       "      <td>NaN</td>\n",
       "      <td>NaN</td>\n",
       "      <td>NaN</td>\n",
       "      <td>NaN</td>\n",
       "    </tr>\n",
       "    <tr>\n",
       "      <th>2</th>\n",
       "      <td>J/A+A/659/A131/table2</td>\n",
       "      <td>Properties of control galaxies ( Deconto-Macha...</td>\n",
       "      <td>z</td>\n",
       "      <td>SDSS-III spectroscopic redshift</td>\n",
       "      <td>RAJ2000</td>\n",
       "      <td>Control galaxy Right ascension (J2000)</td>\n",
       "      <td>DEJ2000</td>\n",
       "      <td>Control galaxy Declination (J2000)</td>\n",
       "      <td>NaN</td>\n",
       "      <td>NaN</td>\n",
       "      <td>NaN</td>\n",
       "      <td>NaN</td>\n",
       "      <td>NaN</td>\n",
       "      <td>NaN</td>\n",
       "    </tr>\n",
       "    <tr>\n",
       "      <th>3</th>\n",
       "      <td>J/ApJ/731/103/GRBs</td>\n",
       "      <td>{gamma}-ray bursts studied: redshifts  and lum...</td>\n",
       "      <td>zsp</td>\n",
       "      <td>? Spectroscopic redshift</td>\n",
       "      <td>_RA</td>\n",
       "      <td>Positions from Simbad (right ascension part)</td>\n",
       "      <td>_DE</td>\n",
       "      <td>Positions from Simbad (declination part)</td>\n",
       "      <td>l_z</td>\n",
       "      <td>Limit flag on z</td>\n",
       "      <td>e_z</td>\n",
       "      <td>? Uncertainty in z</td>\n",
       "      <td>NaN</td>\n",
       "      <td>NaN</td>\n",
       "    </tr>\n",
       "    <tr>\n",
       "      <th>4</th>\n",
       "      <td>J/MNRAS/444/3258/SNe</td>\n",
       "      <td>Light-curve information, heliocentric  redshif...</td>\n",
       "      <td>z</td>\n",
       "      <td>[0/0.2] Heliocentric redshift</td>\n",
       "      <td>_RA</td>\n",
       "      <td>Positions form Simbad or Weizmann Interactive ...</td>\n",
       "      <td>_DE</td>\n",
       "      <td>Positions form Simbad or Weizmann Interactive ...</td>\n",
       "      <td>NaN</td>\n",
       "      <td>NaN</td>\n",
       "      <td>e_z</td>\n",
       "      <td>[0.000005/0.002] rms uncertainty on z</td>\n",
       "      <td>NaN</td>\n",
       "      <td>NaN</td>\n",
       "    </tr>\n",
       "    <tr>\n",
       "      <th>...</th>\n",
       "      <td>...</td>\n",
       "      <td>...</td>\n",
       "      <td>...</td>\n",
       "      <td>...</td>\n",
       "      <td>...</td>\n",
       "      <td>...</td>\n",
       "      <td>...</td>\n",
       "      <td>...</td>\n",
       "      <td>...</td>\n",
       "      <td>...</td>\n",
       "      <td>...</td>\n",
       "      <td>...</td>\n",
       "      <td>...</td>\n",
       "      <td>...</td>\n",
       "    </tr>\n",
       "    <tr>\n",
       "      <th>980</th>\n",
       "      <td>J/ApJ/791/128/table20</td>\n",
       "      <td>Galaxy Group Members near PG 1116+215 (z_abs =...</td>\n",
       "      <td>z</td>\n",
       "      <td>Heliocentric redshift (+/-30 km/s)</td>\n",
       "      <td>RAJ2000</td>\n",
       "      <td>Hour of Right Ascension (J2000)</td>\n",
       "      <td>DEJ2000</td>\n",
       "      <td>Degree of Declination (J2000)</td>\n",
       "      <td>NaN</td>\n",
       "      <td>NaN</td>\n",
       "      <td>NaN</td>\n",
       "      <td>NaN</td>\n",
       "      <td>NaN</td>\n",
       "      <td>NaN</td>\n",
       "    </tr>\n",
       "    <tr>\n",
       "      <th>981</th>\n",
       "      <td>J/ApJS/194/42/table3</td>\n",
       "      <td>Catalog of virial mass measurements ( Rafiee A...</td>\n",
       "      <td>z</td>\n",
       "      <td>Redshift (spectroscopic)</td>\n",
       "      <td>RAJ2000</td>\n",
       "      <td>Right Ascension in decimal degrees (J2000)</td>\n",
       "      <td>DEJ2000</td>\n",
       "      <td>Declination in decimal degrees (J2000)</td>\n",
       "      <td>NaN</td>\n",
       "      <td>NaN</td>\n",
       "      <td>NaN</td>\n",
       "      <td>NaN</td>\n",
       "      <td>NaN</td>\n",
       "      <td>NaN</td>\n",
       "    </tr>\n",
       "    <tr>\n",
       "      <th>982</th>\n",
       "      <td>J/ApJ/902/137/table2</td>\n",
       "      <td>The Ly{alpha} emitter (LAE) sample ( Guo Y., J...</td>\n",
       "      <td>z</td>\n",
       "      <td>[3/3.161] Spectroscopic redshift (1)</td>\n",
       "      <td>RAJ2000</td>\n",
       "      <td>[34.16/35.12] Right Ascension (J2000)</td>\n",
       "      <td>DEJ2000</td>\n",
       "      <td>[-5.6/-4.6] Declination (J2000)</td>\n",
       "      <td>NaN</td>\n",
       "      <td>NaN</td>\n",
       "      <td>NaN</td>\n",
       "      <td>NaN</td>\n",
       "      <td>NaN</td>\n",
       "      <td>NaN</td>\n",
       "    </tr>\n",
       "    <tr>\n",
       "      <th>983</th>\n",
       "      <td>J/ApJ/888/85/table2</td>\n",
       "      <td>Search results ( Fathivavsari H.)</td>\n",
       "      <td>z</td>\n",
       "      <td>[2.04/5.47] Quasar spectroscopic redshift</td>\n",
       "      <td>_RA</td>\n",
       "      <td>Position from SDSS-DR14 (right ascension part)</td>\n",
       "      <td>_DE</td>\n",
       "      <td>Position from SDSS-DR14 (declination part)</td>\n",
       "      <td>NaN</td>\n",
       "      <td>NaN</td>\n",
       "      <td>NaN</td>\n",
       "      <td>NaN</td>\n",
       "      <td>NaN</td>\n",
       "      <td>NaN</td>\n",
       "    </tr>\n",
       "    <tr>\n",
       "      <th>984</th>\n",
       "      <td>J/AJ/155/188/table7</td>\n",
       "      <td>Radio galaxy used in Section 2 ( Lin Y.-T., Hu...</td>\n",
       "      <td>z</td>\n",
       "      <td>[0.01047/0.34993] Spectroscopic redshift</td>\n",
       "      <td>RAJ2000</td>\n",
       "      <td>Right Ascension in decimal degrees (J2000)</td>\n",
       "      <td>DEJ2000</td>\n",
       "      <td>Declination in decimal degrees (J2000)</td>\n",
       "      <td>NaN</td>\n",
       "      <td>NaN</td>\n",
       "      <td>NaN</td>\n",
       "      <td>NaN</td>\n",
       "      <td>NaN</td>\n",
       "      <td>NaN</td>\n",
       "    </tr>\n",
       "  </tbody>\n",
       "</table>\n",
       "<p>985 rows × 14 columns</p>\n",
       "</div>"
      ],
      "text/plain": [
       "                table_name                                         table_desc  \\\n",
       "0    J/ApJ/679/140/sources  Observed properties of sources  in SDSS and CO...   \n",
       "1      J/ApJ/773/53/table1  Summary of observations, classification, and p...   \n",
       "2    J/A+A/659/A131/table2  Properties of control galaxies ( Deconto-Macha...   \n",
       "3       J/ApJ/731/103/GRBs  {gamma}-ray bursts studied: redshifts  and lum...   \n",
       "4     J/MNRAS/444/3258/SNe  Light-curve information, heliocentric  redshif...   \n",
       "..                     ...                                                ...   \n",
       "980  J/ApJ/791/128/table20  Galaxy Group Members near PG 1116+215 (z_abs =...   \n",
       "981   J/ApJS/194/42/table3  Catalog of virial mass measurements ( Rafiee A...   \n",
       "982   J/ApJ/902/137/table2  The Ly{alpha} emitter (LAE) sample ( Guo Y., J...   \n",
       "983    J/ApJ/888/85/table2                  Search results ( Fathivavsari H.)   \n",
       "984    J/AJ/155/188/table7  Radio galaxy used in Section 2 ( Lin Y.-T., Hu...   \n",
       "\n",
       "    zcol                                          zcol_desc   ra_col  \\\n",
       "0      z                           Redshift (spectroscopic)      _RA   \n",
       "1      z  [0.004/0.09]? Heliocentric redshift from NED, ...      _RA   \n",
       "2      z                    SDSS-III spectroscopic redshift  RAJ2000   \n",
       "3    zsp                           ? Spectroscopic redshift      _RA   \n",
       "4      z                      [0/0.2] Heliocentric redshift      _RA   \n",
       "..   ...                                                ...      ...   \n",
       "980    z                 Heliocentric redshift (+/-30 km/s)  RAJ2000   \n",
       "981    z                           Redshift (spectroscopic)  RAJ2000   \n",
       "982    z               [3/3.161] Spectroscopic redshift (1)  RAJ2000   \n",
       "983    z          [2.04/5.47] Quasar spectroscopic redshift      _RA   \n",
       "984    z           [0.01047/0.34993] Spectroscopic redshift  RAJ2000   \n",
       "\n",
       "                                               ra_desc  dec_col  \\\n",
       "0    Positions derived from SDSS or COSMOS name (ri...      _DE   \n",
       "1    Right Ascension (J2000) from SIMBAD (not part ...      _DE   \n",
       "2               Control galaxy Right ascension (J2000)  DEJ2000   \n",
       "3         Positions from Simbad (right ascension part)      _DE   \n",
       "4    Positions form Simbad or Weizmann Interactive ...      _DE   \n",
       "..                                                 ...      ...   \n",
       "980                    Hour of Right Ascension (J2000)  DEJ2000   \n",
       "981         Right Ascension in decimal degrees (J2000)  DEJ2000   \n",
       "982              [34.16/35.12] Right Ascension (J2000)  DEJ2000   \n",
       "983     Position from SDSS-DR14 (right ascension part)      _DE   \n",
       "984         Right Ascension in decimal degrees (J2000)  DEJ2000   \n",
       "\n",
       "                                              dec_desc zflg_col  \\\n",
       "0    Positions derived from SDSS or COSMOS name (de...      NaN   \n",
       "1    Declination (J2000) from SIMBAD (not part of t...      NaN   \n",
       "2                   Control galaxy Declination (J2000)      NaN   \n",
       "3             Positions from Simbad (declination part)      l_z   \n",
       "4    Positions form Simbad or Weizmann Interactive ...      NaN   \n",
       "..                                                 ...      ...   \n",
       "980                      Degree of Declination (J2000)      NaN   \n",
       "981             Declination in decimal degrees (J2000)      NaN   \n",
       "982                    [-5.6/-4.6] Declination (J2000)      NaN   \n",
       "983         Position from SDSS-DR14 (declination part)      NaN   \n",
       "984             Declination in decimal degrees (J2000)      NaN   \n",
       "\n",
       "           zflg_desc zerr_col                              zerr_desc  \\\n",
       "0                NaN      NaN                                    NaN   \n",
       "1                NaN      NaN                                    NaN   \n",
       "2                NaN      NaN                                    NaN   \n",
       "3    Limit flag on z      e_z                     ? Uncertainty in z   \n",
       "4                NaN      e_z  [0.000005/0.002] rms uncertainty on z   \n",
       "..               ...      ...                                    ...   \n",
       "980              NaN      NaN                                    NaN   \n",
       "981              NaN      NaN                                    NaN   \n",
       "982              NaN      NaN                                    NaN   \n",
       "983              NaN      NaN                                    NaN   \n",
       "984              NaN      NaN                                    NaN   \n",
       "\n",
       "    class_col class_desc  \n",
       "0         NaN        NaN  \n",
       "1         NaN        NaN  \n",
       "2         NaN        NaN  \n",
       "3         NaN        NaN  \n",
       "4         NaN        NaN  \n",
       "..        ...        ...  \n",
       "980       NaN        NaN  \n",
       "981       NaN        NaN  \n",
       "982       NaN        NaN  \n",
       "983       NaN        NaN  \n",
       "984       NaN        NaN  \n",
       "\n",
       "[985 rows x 14 columns]"
      ]
     },
     "execution_count": 3,
     "metadata": {},
     "output_type": "execute_result"
    }
   ],
   "source": [
    "Result_V"
   ]
  },
  {
   "cell_type": "markdown",
   "metadata": {
    "hidden": true
   },
   "source": [
    "Although I've already made this pre-processing of the tables, here is what the conditions look like:"
   ]
  },
  {
   "cell_type": "code",
   "execution_count": 4,
   "metadata": {
    "ExecuteTime": {
     "end_time": "2022-06-09T17:13:19.076212Z",
     "start_time": "2022-06-09T17:13:19.072282Z"
    },
    "code_folding": [
     0
    ],
    "hidden": true
   },
   "outputs": [],
   "source": [
    "## Remove tables with specific words on the redshift column description\n",
    "# Cond_No = ((~Result_V['zcol_desc'].str.contains('Photometric|photometric')) | \n",
    "#           (~Result_V['zcol_desc'].str.contains('Range|range')) | \n",
    "#           (~Result_V['zcol_desc'].str.contains('Interval|interval')) | \n",
    "#           (~Result_V['zcol_desc'].str.contains('Edge|edge')) | \n",
    "#           (~Result_V['zcol_desc'].str.contains('Peak|peak')) | \n",
    "#           (~Result_V['zcol_desc'].str.contains('Second|second')) | \n",
    "#           (~Result_V['zcol_desc'].str.contains('Metal|metal')) | \n",
    "#           (~Result_V['zcol_desc'].str.contains('Abundance|abundance')) | \n",
    "#           (~Result_V['zcol_desc'].str.contains('Plane|plane')) | \n",
    "#           (~Result_V['zcol_desc'].str.contains('Coordinate|coordinate')) | \n",
    "#           (~Result_V['zcol_desc'].str.contains('Alternate|alternate')) | \n",
    "#           (~Result_V['zcol_desc'].str.contains('Minimum|minimum')) | \n",
    "#           (~Result_V['zcol_desc'].str.contains('Solution|solution')) | \n",
    "#           (~Result_V['zcol_desc'].str.contains('Estimate|estimate')) | \n",
    "#           (~Result_V['zcol_desc'].str.contains('Confidence|confidence')) | \n",
    "#           (~Result_V['zcol_desc'].str.contains('Starting|starting')) | \n",
    "#           (~Result_V['zcol_desc'].str.contains('Ending|ending')) | \n",
    "#           (~Result_V['zcol_desc'].str.contains('Limiting|limiting')) | \n",
    "#           (~Result_V['zcol_desc'].str.contains('Lens|lens')) | \n",
    "#           (~Result_V['zcol_desc'].str.contains('Maximum|maximum')) | \n",
    "#           (~Result_V['zcol_desc'].str.contains('Minimum|minimum')))\n",
    "\n",
    "# # Select only tables with specific words on the columns description\n",
    "# Cond_Yes = ((Result_V['zcol_desc'].str.contains('Spectroscopic|spectroscopic')) | \n",
    "#            (Result_V['zcol_desc'].str.contains('Emission|emission')) | \n",
    "#            (Result_V['zcol_desc'].str.contains('Absortion|absortion')) | \n",
    "#            (Result_V['zcol_desc'].str.contains('Heliocentric|heliocentric')) |\n",
    "#            (Result_V['zcol_desc'] == 'Redshift|redshift'))\n",
    "\n",
    "# # Remove big SDSS catalogues\n",
    "# Cond_No_SDSS = (~Result_V['table_name'].str.contains('/sdss'))\n",
    "\n",
    "# Result_V = Result_V[Cond_No & Cond_Yes & Cond_No_SDSS]"
   ]
  },
  {
   "cell_type": "markdown",
   "metadata": {
    "hidden": true
   },
   "source": [
    "Now we download all these tables using the TapPlus function"
   ]
  },
  {
   "cell_type": "code",
   "execution_count": null,
   "metadata": {
    "ExecuteTime": {
     "end_time": "2022-06-04T12:43:34.979785Z",
     "start_time": "2022-06-04T12:43:34.975826Z"
    },
    "code_folding": [],
    "hidden": true
   },
   "outputs": [],
   "source": [
    "# Configure the TAP service\n",
    "TAP_VizieR = TapPlus(url=\"http://tapvizier.cds.unistra.fr/TAPVizieR/tap\")\n",
    "\n",
    "# Load the file with the tables and columns to download\n",
    "Result_V = pd.read_csv('VizieR_TablesToDownload_WithCols.csv')\n",
    "\n",
    "# Create the output folder if it doens't exist\n",
    "Output_Dir = 'SpectroscopicCatalogues/'\n",
    "print(\"# Output_Dir = '%s'\" %Output_Dir)\n",
    "if os.path.isdir(Output_Dir) == False:\n",
    "    os.makedirs(Output_Dir)\n",
    "        \n",
    "# Get already downloaded tables (in case you need to run this script again later, so you won't download everything again)\n",
    "Downloaded_Tables  = [s.replace('.', '/').replace('/csv', '') for s in os.listdir('SpectroscopicCatalogues/') if s.endswith('.csv')]\n",
    "Tables_To_Download = [s for s in np.setdiff1d(Result_V['table_name'], Downloaded_Tables)]\n",
    "\n",
    "DF_Loop = Result_V[Result_V['table_name'].isin(Tables_To_Download)]\n",
    "\n",
    "for key, line in tqdm(DF_Loop.iterrows()):\n",
    "    table     = line['table_name']\n",
    "    ra_col    = line['ra_col']\n",
    "    dec_col   = line['dec_col']\n",
    "    z_col     = line['zcol']\n",
    "    zerr_col  = line['zerr_col']\n",
    "    zflg_col  = line['zflg_col']\n",
    "    class_col = line['class_col']\n",
    "    \n",
    "    # Since not all tables contain all the columns we want, I used the conditions below to\n",
    "    # create and fill the columns with -99 if it doesn't exist in the catalogue.\n",
    "    if pd.isna(zerr_col)  == True: zerr_col  = '-99 as e_'+z_col\n",
    "    if pd.isna(zflg_col)  == True: zflg_col  = '-99 as f_'+z_col\n",
    "    if pd.isna(class_col) == True: class_col = '-99 as class_spec'\n",
    "    \n",
    "    print(table)\n",
    "    \n",
    "    # Now we download the tables\n",
    "    try:\n",
    "        Query  = TAP_VizieR.launch_job_async(f\"\"\"SELECT {ra_col}, {dec_col}, {z_col}, {zerr_col}, {zflg_col}, {class_col} FROM \"{table}\" WHERE {z_col} >= -99999\"\"\")\n",
    "\n",
    "        Result = Query.get_results().to_pandas()\n",
    "        Result['source'] = table\n",
    "        Result.to_csv(f\"SpectroscopicCatalogues/{table.replace('/', '.')}.csv\", index=False)\n",
    "    \n",
    "    except:\n",
    "        print(f\"Error on {table}\")\n",
    "        pass"
   ]
  },
  {
   "cell_type": "markdown",
   "metadata": {
    "heading_collapsed": true
   },
   "source": [
    "# HEASARC\n",
    "\n",
    "This follows the same idea from the VizieR part."
   ]
  },
  {
   "cell_type": "code",
   "execution_count": 5,
   "metadata": {
    "ExecuteTime": {
     "end_time": "2022-06-09T17:18:41.359264Z",
     "start_time": "2022-06-09T17:18:41.350202Z"
    },
    "hidden": true
   },
   "outputs": [],
   "source": [
    "Result_H = pd.read_csv('HEASARC_TablesToDownload_WithCols.csv')"
   ]
  },
  {
   "cell_type": "code",
   "execution_count": 6,
   "metadata": {
    "ExecuteTime": {
     "end_time": "2022-06-09T17:18:44.101508Z",
     "start_time": "2022-06-09T17:18:44.081676Z"
    },
    "hidden": true
   },
   "outputs": [
    {
     "data": {
      "text/html": [
       "<div>\n",
       "<style scoped>\n",
       "    .dataframe tbody tr th:only-of-type {\n",
       "        vertical-align: middle;\n",
       "    }\n",
       "\n",
       "    .dataframe tbody tr th {\n",
       "        vertical-align: top;\n",
       "    }\n",
       "\n",
       "    .dataframe thead th {\n",
       "        text-align: right;\n",
       "    }\n",
       "</style>\n",
       "<table border=\"1\" class=\"dataframe\">\n",
       "  <thead>\n",
       "    <tr style=\"text-align: right;\">\n",
       "      <th></th>\n",
       "      <th>table_name</th>\n",
       "      <th>tab_desc</th>\n",
       "      <th>z_col</th>\n",
       "      <th>z_col_desc</th>\n",
       "      <th>ra_col</th>\n",
       "      <th>ra_desc</th>\n",
       "      <th>dec_col</th>\n",
       "      <th>dec_desc</th>\n",
       "      <th>zerr_col</th>\n",
       "      <th>zerr_desc</th>\n",
       "      <th>zflg_col</th>\n",
       "      <th>zflg_desc</th>\n",
       "      <th>class_col</th>\n",
       "      <th>class_desc</th>\n",
       "    </tr>\n",
       "  </thead>\n",
       "  <tbody>\n",
       "    <tr>\n",
       "      <th>0</th>\n",
       "      <td>xmmcosmoid</td>\n",
       "      <td>XMM-COSMOS Catalog of Optical/IR Counterparts</td>\n",
       "      <td>redshift</td>\n",
       "      <td>Spectroscopic Redshift</td>\n",
       "      <td>ra</td>\n",
       "      <td>Right Ascension</td>\n",
       "      <td>dec</td>\n",
       "      <td>Declination</td>\n",
       "      <td>NaN</td>\n",
       "      <td>NaN</td>\n",
       "      <td>NaN</td>\n",
       "      <td>NaN</td>\n",
       "      <td>broad_type</td>\n",
       "      <td>Broad Classification of Source</td>\n",
       "    </tr>\n",
       "    <tr>\n",
       "      <th>1</th>\n",
       "      <td>actszclust</td>\n",
       "      <td>Atacama Cosmology Telescope DR5 Sunyaev-Zeldov...</td>\n",
       "      <td>redshift</td>\n",
       "      <td>Adopted Redshift for the Cluster</td>\n",
       "      <td>ra</td>\n",
       "      <td>Right Ascension</td>\n",
       "      <td>dec</td>\n",
       "      <td>Declination</td>\n",
       "      <td>redshift_error</td>\n",
       "      <td>Error in Adopted Redshift for the Cluster</td>\n",
       "      <td>redshift_type</td>\n",
       "      <td>Value Indicates Type of Redshift (spec = Spect...</td>\n",
       "      <td>NaN</td>\n",
       "      <td>NaN</td>\n",
       "    </tr>\n",
       "    <tr>\n",
       "      <th>2</th>\n",
       "      <td>osqsonvss</td>\n",
       "      <td>Optically-Selected QSOS NVSS-Detected Source C...</td>\n",
       "      <td>redshift</td>\n",
       "      <td>SDSS-DR7 Redshift</td>\n",
       "      <td>ra</td>\n",
       "      <td>Right Ascension</td>\n",
       "      <td>dec</td>\n",
       "      <td>Declination</td>\n",
       "      <td>NaN</td>\n",
       "      <td>NaN</td>\n",
       "      <td>NaN</td>\n",
       "      <td>NaN</td>\n",
       "      <td>NaN</td>\n",
       "      <td>NaN</td>\n",
       "    </tr>\n",
       "    <tr>\n",
       "      <th>3</th>\n",
       "      <td>reflex</td>\n",
       "      <td>ROSAT-ESO Flux-Limited X-Ray (REFLEX) Galaxy C...</td>\n",
       "      <td>redshift</td>\n",
       "      <td>Redshift</td>\n",
       "      <td>ra</td>\n",
       "      <td>Right Ascension</td>\n",
       "      <td>dec</td>\n",
       "      <td>Declination</td>\n",
       "      <td>NaN</td>\n",
       "      <td>NaN</td>\n",
       "      <td>NaN</td>\n",
       "      <td>NaN</td>\n",
       "      <td>NaN</td>\n",
       "      <td>NaN</td>\n",
       "    </tr>\n",
       "    <tr>\n",
       "      <th>4</th>\n",
       "      <td>at20gbss</td>\n",
       "      <td>Australia Telescope 20-GHz Survey Bright Sourc...</td>\n",
       "      <td>redshift</td>\n",
       "      <td>Redshift of Source</td>\n",
       "      <td>ra</td>\n",
       "      <td>Right Ascension</td>\n",
       "      <td>dec</td>\n",
       "      <td>Declination</td>\n",
       "      <td>NaN</td>\n",
       "      <td>NaN</td>\n",
       "      <td>NaN</td>\n",
       "      <td>NaN</td>\n",
       "      <td>NaN</td>\n",
       "      <td>NaN</td>\n",
       "    </tr>\n",
       "    <tr>\n",
       "      <th>...</th>\n",
       "      <td>...</td>\n",
       "      <td>...</td>\n",
       "      <td>...</td>\n",
       "      <td>...</td>\n",
       "      <td>...</td>\n",
       "      <td>...</td>\n",
       "      <td>...</td>\n",
       "      <td>...</td>\n",
       "      <td>...</td>\n",
       "      <td>...</td>\n",
       "      <td>...</td>\n",
       "      <td>...</td>\n",
       "      <td>...</td>\n",
       "      <td>...</td>\n",
       "    </tr>\n",
       "    <tr>\n",
       "      <th>194</th>\n",
       "      <td>nucosmosfc</td>\n",
       "      <td>NuSTAR COSMOS Field X-Ray Source Catalog</td>\n",
       "      <td>redshift</td>\n",
       "      <td>Spectroscopic Redshift</td>\n",
       "      <td>ra</td>\n",
       "      <td>Right Ascension</td>\n",
       "      <td>dec</td>\n",
       "      <td>Declination</td>\n",
       "      <td>NaN</td>\n",
       "      <td>NaN</td>\n",
       "      <td>NaN</td>\n",
       "      <td>NaN</td>\n",
       "      <td>NaN</td>\n",
       "      <td>NaN</td>\n",
       "    </tr>\n",
       "    <tr>\n",
       "      <th>195</th>\n",
       "      <td>vlacosxoid</td>\n",
       "      <td>VLA-COSMOS 3-GHz Large Project Multiwavelength...</td>\n",
       "      <td>redshift</td>\n",
       "      <td>Best Available Redshift</td>\n",
       "      <td>ra</td>\n",
       "      <td>Radio Source Right Ascension</td>\n",
       "      <td>dec</td>\n",
       "      <td>Radio Source Declination</td>\n",
       "      <td>NaN</td>\n",
       "      <td>NaN</td>\n",
       "      <td>NaN</td>\n",
       "      <td>NaN</td>\n",
       "      <td>NaN</td>\n",
       "      <td>NaN</td>\n",
       "    </tr>\n",
       "    <tr>\n",
       "      <th>196</th>\n",
       "      <td>exgalemobj</td>\n",
       "      <td>Hewitt &amp; Burbidge (1991) Catalog of Extragalac...</td>\n",
       "      <td>redshift</td>\n",
       "      <td>Emission Redshift</td>\n",
       "      <td>ra</td>\n",
       "      <td>Right Ascension</td>\n",
       "      <td>dec</td>\n",
       "      <td>Declination</td>\n",
       "      <td>NaN</td>\n",
       "      <td>NaN</td>\n",
       "      <td>NaN</td>\n",
       "      <td>NaN</td>\n",
       "      <td>class</td>\n",
       "      <td>Browse Object Classification</td>\n",
       "    </tr>\n",
       "    <tr>\n",
       "      <th>197</th>\n",
       "      <td>baxgalclus</td>\n",
       "      <td>BAX X-Ray Galaxy Clusters and Groups Catalog</td>\n",
       "      <td>redshift</td>\n",
       "      <td>Redshift</td>\n",
       "      <td>ra</td>\n",
       "      <td>Right Ascension</td>\n",
       "      <td>dec</td>\n",
       "      <td>Declination</td>\n",
       "      <td>NaN</td>\n",
       "      <td>NaN</td>\n",
       "      <td>NaN</td>\n",
       "      <td>NaN</td>\n",
       "      <td>NaN</td>\n",
       "      <td>NaN</td>\n",
       "    </tr>\n",
       "    <tr>\n",
       "      <th>198</th>\n",
       "      <td>xmmcty2agn</td>\n",
       "      <td>XMM-COSMOS X-Ray Selected Type-2 AGN</td>\n",
       "      <td>redshift</td>\n",
       "      <td>Spectroscopic Redshift</td>\n",
       "      <td>ra</td>\n",
       "      <td>Right Ascension</td>\n",
       "      <td>dec</td>\n",
       "      <td>Declination</td>\n",
       "      <td>NaN</td>\n",
       "      <td>NaN</td>\n",
       "      <td>NaN</td>\n",
       "      <td>NaN</td>\n",
       "      <td>NaN</td>\n",
       "      <td>NaN</td>\n",
       "    </tr>\n",
       "  </tbody>\n",
       "</table>\n",
       "<p>199 rows × 14 columns</p>\n",
       "</div>"
      ],
      "text/plain": [
       "     table_name                                           tab_desc     z_col  \\\n",
       "0    xmmcosmoid      XMM-COSMOS Catalog of Optical/IR Counterparts  redshift   \n",
       "1    actszclust  Atacama Cosmology Telescope DR5 Sunyaev-Zeldov...  redshift   \n",
       "2     osqsonvss  Optically-Selected QSOS NVSS-Detected Source C...  redshift   \n",
       "3        reflex  ROSAT-ESO Flux-Limited X-Ray (REFLEX) Galaxy C...  redshift   \n",
       "4      at20gbss  Australia Telescope 20-GHz Survey Bright Sourc...  redshift   \n",
       "..          ...                                                ...       ...   \n",
       "194  nucosmosfc           NuSTAR COSMOS Field X-Ray Source Catalog  redshift   \n",
       "195  vlacosxoid  VLA-COSMOS 3-GHz Large Project Multiwavelength...  redshift   \n",
       "196  exgalemobj  Hewitt & Burbidge (1991) Catalog of Extragalac...  redshift   \n",
       "197  baxgalclus       BAX X-Ray Galaxy Clusters and Groups Catalog  redshift   \n",
       "198  xmmcty2agn               XMM-COSMOS X-Ray Selected Type-2 AGN  redshift   \n",
       "\n",
       "                           z_col_desc ra_col                       ra_desc  \\\n",
       "0              Spectroscopic Redshift     ra               Right Ascension   \n",
       "1    Adopted Redshift for the Cluster     ra               Right Ascension   \n",
       "2                   SDSS-DR7 Redshift     ra               Right Ascension   \n",
       "3                            Redshift     ra               Right Ascension   \n",
       "4                  Redshift of Source     ra               Right Ascension   \n",
       "..                                ...    ...                           ...   \n",
       "194            Spectroscopic Redshift     ra               Right Ascension   \n",
       "195           Best Available Redshift     ra  Radio Source Right Ascension   \n",
       "196                 Emission Redshift     ra               Right Ascension   \n",
       "197                          Redshift     ra               Right Ascension   \n",
       "198            Spectroscopic Redshift     ra               Right Ascension   \n",
       "\n",
       "    dec_col                  dec_desc        zerr_col  \\\n",
       "0       dec               Declination             NaN   \n",
       "1       dec               Declination  redshift_error   \n",
       "2       dec               Declination             NaN   \n",
       "3       dec               Declination             NaN   \n",
       "4       dec               Declination             NaN   \n",
       "..      ...                       ...             ...   \n",
       "194     dec               Declination             NaN   \n",
       "195     dec  Radio Source Declination             NaN   \n",
       "196     dec               Declination             NaN   \n",
       "197     dec               Declination             NaN   \n",
       "198     dec               Declination             NaN   \n",
       "\n",
       "                                     zerr_desc       zflg_col  \\\n",
       "0                                          NaN            NaN   \n",
       "1    Error in Adopted Redshift for the Cluster  redshift_type   \n",
       "2                                          NaN            NaN   \n",
       "3                                          NaN            NaN   \n",
       "4                                          NaN            NaN   \n",
       "..                                         ...            ...   \n",
       "194                                        NaN            NaN   \n",
       "195                                        NaN            NaN   \n",
       "196                                        NaN            NaN   \n",
       "197                                        NaN            NaN   \n",
       "198                                        NaN            NaN   \n",
       "\n",
       "                                             zflg_desc   class_col  \\\n",
       "0                                                  NaN  broad_type   \n",
       "1    Value Indicates Type of Redshift (spec = Spect...         NaN   \n",
       "2                                                  NaN         NaN   \n",
       "3                                                  NaN         NaN   \n",
       "4                                                  NaN         NaN   \n",
       "..                                                 ...         ...   \n",
       "194                                                NaN         NaN   \n",
       "195                                                NaN         NaN   \n",
       "196                                                NaN       class   \n",
       "197                                                NaN         NaN   \n",
       "198                                                NaN         NaN   \n",
       "\n",
       "                         class_desc  \n",
       "0    Broad Classification of Source  \n",
       "1                               NaN  \n",
       "2                               NaN  \n",
       "3                               NaN  \n",
       "4                               NaN  \n",
       "..                              ...  \n",
       "194                             NaN  \n",
       "195                             NaN  \n",
       "196    Browse Object Classification  \n",
       "197                             NaN  \n",
       "198                             NaN  \n",
       "\n",
       "[199 rows x 14 columns]"
      ]
     },
     "execution_count": 6,
     "metadata": {},
     "output_type": "execute_result"
    }
   ],
   "source": [
    "Result_H"
   ]
  },
  {
   "cell_type": "code",
   "execution_count": 7,
   "metadata": {
    "ExecuteTime": {
     "end_time": "2022-06-04T12:43:06.471245Z",
     "start_time": "2022-06-04T12:43:06.457873Z"
    },
    "hidden": true
   },
   "outputs": [
    {
     "data": {
      "text/plain": [
       "array(['redshift', 'spect_redshift', 'ctrpart_1_redshift',\n",
       "       'spec_redshift', 'rosopt_redshift', 'previous_redshift',\n",
       "       'redshift_1', 'assoc_redshift', 'redshift_dr16', 'host_redshift',\n",
       "       'pipeline_redshift'], dtype=object)"
      ]
     },
     "execution_count": 7,
     "metadata": {},
     "output_type": "execute_result"
    }
   ],
   "source": [
    "# This was used to get a list containing the unique redshift column names\n",
    "Result_H['z_col'].unique()"
   ]
  },
  {
   "cell_type": "code",
   "execution_count": 8,
   "metadata": {
    "ExecuteTime": {
     "end_time": "2022-06-09T17:19:25.346067Z",
     "start_time": "2022-06-09T17:19:25.341502Z"
    },
    "hidden": true
   },
   "outputs": [],
   "source": [
    "# # I already did this\n",
    "# # Remove tables with 'Photometric' in the description\n",
    "# Cond_No = (\n",
    "#           (~Result_H['z_col'].str.contains('phot'))\n",
    "#           )\n",
    "\n",
    "# Result_H = Result_H[Cond_No]"
   ]
  },
  {
   "cell_type": "code",
   "execution_count": 9,
   "metadata": {
    "ExecuteTime": {
     "end_time": "2022-06-04T13:44:17.272220Z",
     "start_time": "2022-06-04T13:43:57.720627Z"
    },
    "hidden": true
   },
   "outputs": [
    {
     "name": "stderr",
     "output_type": "stream",
     "text": [
      "199it [00:00, 11647.11it/s]"
     ]
    },
    {
     "name": "stdout",
     "output_type": "stream",
     "text": [
      "xmmcosmoid\n",
      "Error on xmmcosmoid\n",
      "actszclust\n",
      "Error on actszclust\n",
      "osqsonvss\n",
      "Error on osqsonvss\n",
      "reflex\n",
      "Error on reflex\n",
      "at20gbss\n",
      "Error on at20gbss\n",
      "spicescxo\n",
      "Error on spicescxo\n",
      "nuecdfscat\n",
      "Error on nuecdfscat\n",
      "vlalhn3ghz\n",
      "Error on vlalhn3ghz\n",
      "rixos\n",
      "Error on rixos\n",
      "cdfn2msoi2\n",
      "Error on cdfn2msoi2\n",
      "fermilgrb\n",
      "Error on fermilgrb\n",
      "xmmvaragn\n",
      "Error on xmmvaragn\n",
      "clasxs\n",
      "Error on clasxs\n",
      "markarian\n",
      "Error on markarian\n",
      "cdfsagncxo\n",
      "Error on cdfsagncxo\n",
      "sdsswhlgc\n",
      "Error on sdsswhlgc\n",
      "uvqs\n",
      "Error on uvqs\n",
      "aegisxdcxo\n",
      "Error on aegisxdcxo\n",
      "zcat\n",
      "Error on zcat\n",
      "w2ragncat\n",
      "Error on w2ragncat\n",
      "sbsggencat\n",
      "Error on sbsggencat\n",
      "xmmcosmagn\n",
      "Error on xmmcosmagn\n",
      "spidersxmm\n",
      "Error on spidersxmm\n",
      "acceptcat\n",
      "Error on acceptcat\n",
      "a2pic\n",
      "Error on a2pic\n",
      "swbatagn60\n",
      "Error on swbatagn60\n",
      "clansoid\n",
      "Error on clansoid\n",
      "nustarssc2\n",
      "Error on nustarssc2\n",
      "hcg\n",
      "Error on hcg\n",
      "dxrbs\n",
      "Error on dxrbs\n",
      "ssa22cxo\n",
      "Error on ssa22cxo\n",
      "clasxsoid\n",
      "Error on clasxsoid\n",
      "fsvsclustr\n",
      "Error on fsvsclustr\n",
      "ccosrssfag\n",
      "Error on ccosrssfag\n",
      "sdsslasqso\n",
      "Error on sdsslasqso\n",
      "atlasesid\n",
      "Error on atlasesid\n",
      "shkgalaxy\n",
      "Error on shkgalaxy\n",
      "xmmlssclas\n",
      "Error on xmmlssclas\n",
      "maxigschgl\n",
      "Error on maxigschgl\n",
      "aegis20id\n",
      "Error on aegis20id\n",
      "rassebcs\n",
      "Error on rassebcs\n",
      "rosgalclus\n",
      "Error on rosgalclus\n",
      "swiftgrb\n",
      "Error on swiftgrb\n",
      "xmmsdssgcs\n",
      "Error on xmmsdssgcs\n",
      "saxhellasr\n",
      "Error on saxhellasr\n",
      "cfhtlsgxmm\n",
      "Error on cfhtlsgxmm\n",
      "warps2\n",
      "Error on warps2\n",
      "maxigsc7yr\n",
      "Error on maxigsc7yr\n",
      "vlaecdfsoi\n",
      "Error on vlaecdfsoi\n",
      "rass6dfgs\n",
      "Error on rass6dfgs\n",
      "xmmbssagn\n",
      "Error on xmmbssagn\n",
      "cosxfirmwc\n",
      "Error on cosxfirmwc\n",
      "vlasxdf1p4\n",
      "Error on vlasxdf1p4\n",
      "xrayselbll\n",
      "Error on xrayselbll\n",
      "allwiseagn\n",
      "Error on allwiseagn\n",
      "ascaegclus\n",
      "Error on ascaegclus\n",
      "sptszspsc\n",
      "Error on sptszspsc\n",
      "rssgrbag\n",
      "Error on rssgrbag\n",
      "xcs\n",
      "Error on xcs\n",
      "xmmcdfs210\n",
      "Error on xmmcdfs210\n",
      "mcxc\n",
      "Error on mcxc\n",
      "nustarssc\n",
      "Error on nustarssc\n",
      "candelscxo\n",
      "Error on candelscxo\n",
      "saisncat\n",
      "Error on saisncat\n",
      "rasshgsoft\n",
      "Error on rasshgsoft\n",
      "plancksz\n",
      "Error on plancksz\n",
      "lowzvlqvla\n",
      "Error on lowzvlqvla\n",
      "fermilatra\n",
      "Error on fermilatra\n",
      "sdssxmmqso\n",
      "Error on sdssxmmqso\n",
      "warps\n",
      "Error on warps\n",
      "abellzcat\n",
      "Error on abellzcat\n",
      "rosatrlq\n",
      "Error on rosatrlq\n",
      "roxa\n",
      "Error on roxa\n",
      "xshzagncxo\n",
      "Error on xshzagncxo\n",
      "intibisagn\n",
      "Error on intibisagn\n",
      "rasssdssgc\n",
      "Error on rasssdssgc\n",
      "atlas2p3gh\n",
      "Error on atlas2p3gh\n",
      "fermilhesc\n",
      "Error on fermilhesc\n",
      "rassnorsam\n",
      "Error on rassnorsam\n",
      "markarian2\n",
      "Error on markarian2\n",
      "sdssunuqsr\n",
      "Error on sdssunuqsr\n",
      "chandfs7ms\n",
      "Error on chandfs7ms\n",
      "arxa\n",
      "Error on arxa\n",
      "fricat\n",
      "Error on fricat\n",
      "xmmsdssgce\n",
      "Error on xmmsdssgce\n",
      "mostatlas\n",
      "Error on mostatlas\n",
      "cgrabs\n",
      "Error on cgrabs\n",
      "glxsdssqso\n",
      "Error on glxsdssqso\n",
      "veroncat\n",
      "Error on veroncat\n",
      "rosnepagn\n",
      "Error on rosnepagn\n",
      "ecdfsnew\n",
      "Error on ecdfsnew\n",
      "rosnepoid\n",
      "Error on rosnepoid\n",
      "ros13hrcxo\n",
      "Error on ros13hrcxo\n",
      "intagncat\n",
      "Error on intagncat\n",
      "sdssnbcqsc\n",
      "Error on sdssnbcqsc\n",
      "rosatrqq\n",
      "Error on rosatrqq\n",
      "agnsdssxm2\n",
      "Error on agnsdssxm2\n",
      "vlaecdfscls\n",
      "Error on vlaecdfscls\n",
      "xms\n",
      "Error on xms\n",
      "sax2to10\n",
      "Error on sax2to10\n",
      "maranoxmm\n",
      "Error on maranoxmm\n",
      "emss\n",
      "Error on emss\n",
      "atlascsid\n",
      "Error on atlascsid\n",
      "asiagosn\n",
      "Error on asiagosn\n",
      "lbqs\n",
      "Error on lbqs\n",
      "rbs\n",
      "Error on rbs\n",
      "romabzcat\n",
      "Error on romabzcat\n",
      "qso\n",
      "Error on qso\n",
      "swsdssqso\n",
      "Error on swsdssqso\n",
      "spidersros\n",
      "Error on spidersros\n",
      "ecdfsoid2\n",
      "Error on ecdfsoid2\n",
      "milliquas\n",
      "Error on milliquas\n",
      "le\n",
      "Error on le\n",
      "cosmosvlba\n",
      "Error on cosmosvlba\n",
      "lqac\n",
      "Error on lqac\n",
      "mggammacat\n",
      "Error on mggammacat\n",
      "wisehspcat\n",
      "Error on wisehspcat\n",
      "xteasscat\n",
      "Error on xteasscat\n",
      "pdsoid\n",
      "Error on pdsoid\n",
      "wbl\n",
      "Error on wbl\n",
      "sdsss82xmm\n",
      "Error on sdsss82xmm\n",
      "rosnepxray\n",
      "Error on rosnepxray\n",
      "xwas\n",
      "Error on xwas\n",
      "bhrfscid\n",
      "Error on bhrfscid\n",
      "fbsbsocat\n",
      "Error on fbsbsocat\n",
      "rassfirst\n",
      "Error on rassfirst\n",
      "vlasxdfoid\n",
      "Error on vlasxdfoid\n",
      "fermilac\n",
      "Error on fermilac\n",
      "xmmslewegs\n",
      "Error on xmmslewegs\n",
      "ccosmosoid\n",
      "Error on ccosmosoid\n",
      "wblgalaxy\n",
      "Error on wblgalaxy\n",
      "twodfqsoz\n",
      "Error on twodfqsoz\n",
      "sixsrvycat\n",
      "Error on sixsrvycat\n",
      "xteassagn\n",
      "Error on xteassagn\n",
      "swbat105m\n",
      "Error on swbat105m\n",
      "fermi3fhl\n",
      "Error on fermi3fhl\n",
      "ecdfsoid\n",
      "Error on ecdfsoid\n",
      "chandfs4ms\n",
      "Error on chandfs4ms\n",
      "atlasspecz\n",
      "Error on atlasspecz\n",
      "fermiltrns\n",
      "Error on fermiltrns\n",
      "fermifhl\n",
      "Error on fermifhl\n",
      "elaisfbmc\n",
      "Error on elaisfbmc\n",
      "rassdssagn\n",
      "Error on rassdssagn\n",
      "egret3\n",
      "Error on egret3\n",
      "spidersxmm\n",
      "Error on spidersxmm\n",
      "chansexagn\n",
      "Error on chansexagn\n",
      "morx\n",
      "Error on morx\n",
      "pkscat90\n",
      "Error on pkscat90\n",
      "tevcat\n",
      "Error on tevcat\n",
      "cdfn2msnew\n",
      "Error on cdfn2msnew\n",
      "cyder\n",
      "Error on cyder\n",
      "rasshgsft2\n",
      "Error on rasshgsft2\n",
      "sdsss82cxo\n",
      "Error on sdsss82cxo\n",
      "athdfsoid\n",
      "Error on athdfsoid\n",
      "kuehr\n",
      "Error on kuehr\n",
      "sdssbalqso\n",
      "Error on sdssbalqso\n",
      "rassaeqso\n",
      "Error on rassaeqso\n",
      "sdsscxoqso\n",
      "Error on sdsscxoqso\n",
      "intibisag2\n",
      "Error on intibisag2\n",
      "gwsstrpcxo\n",
      "Error on gwsstrpcxo\n",
      "rbscnvss\n",
      "Error on rbscnvss\n",
      "qorgcat\n",
      "Error on qorgcat\n",
      "chandfs2ms\n",
      "Error on chandfs2ms\n",
      "elaiss1oid\n",
      "Error on elaiss1oid\n",
      "lockmanoir\n",
      "Error on lockmanoir\n",
      "elaiss1xmm\n",
      "Error on elaiss1xmm\n",
      "vlacdfscat\n",
      "Error on vlacdfscat\n",
      "planckeszc\n",
      "Error on planckeszc\n",
      "sdssbalqs2\n",
      "Error on sdssbalqs2\n",
      "exopubs\n",
      "Error on exopubs\n",
      "agnsdssxmm\n",
      "Error on agnsdssxmm\n",
      "wgacat\n",
      "Error on wgacat\n",
      "caixa\n",
      "Error on caixa\n",
      "xmmomcdfs\n",
      "Error on xmmomcdfs\n",
      "xdeep2\n",
      "Error on xdeep2\n",
      "xmmcfrsoid\n",
      "Error on xmmcfrsoid\n",
      "exohgls\n",
      "Error on exohgls\n",
      "friicat\n",
      "Error on friicat\n",
      "noras\n",
      "Error on noras\n",
      "sptszgalcl\n",
      "Error on sptszgalcl\n",
      "lockmanxmm\n",
      "Error on lockmanxmm\n",
      "eingalclus\n",
      "Error on eingalclus\n",
      "champsdssa\n",
      "Error on champsdssa\n",
      "osrilqxray\n",
      "Error on osrilqxray\n",
      "xmmcdfs510\n",
      "Error on xmmcdfs510\n",
      "pdsoid2\n",
      "Error on pdsoid2\n",
      "champhxagn\n",
      "Error on champhxagn\n",
      "galextdsc\n",
      "Error on galextdsc\n",
      "sdssquasar\n",
      "Error on sdssquasar\n",
      "vla3701p4\n",
      "Error on vla3701p4\n",
      "plancksz2\n",
      "Error on plancksz2\n",
      "at20g1fgl\n",
      "Error on at20g1fgl\n",
      "ros400gcls\n",
      "Error on ros400gcls\n",
      "xmmlssoid\n",
      "Error on xmmlssoid\n",
      "nucosmosfc\n",
      "Error on nucosmosfc\n",
      "vlacosxoid\n",
      "Error on vlacosxoid\n",
      "exgalemobj\n",
      "Error on exgalemobj\n",
      "baxgalclus\n",
      "Error on baxgalclus\n",
      "xmmcty2agn\n",
      "Error on xmmcty2agn\n"
     ]
    },
    {
     "name": "stderr",
     "output_type": "stream",
     "text": [
      "\n"
     ]
    }
   ],
   "source": [
    "# Download files\n",
    "Result_H = pd.read_csv('HEASARC_TablesToDownload_WithCols.csv')\n",
    "\n",
    "Downloaded_Tables  = [s.replace('.', '/').replace('/csv', '') for s in os.listdir('SpectroscopicCatalogues/') if s.endswith('.csv')]\n",
    "Tables_To_Download = [s for s in np.setdiff1d(Result_H['table_name'], Downloaded_Tables)]\n",
    "\n",
    "DF_Loop = Result_H[Result_H['table_name'].isin(Tables_To_Download)]\n",
    "\n",
    "for key, line in tqdm(DF_Loop.iterrows()):\n",
    "    table     = line['table_name']\n",
    "    ra_col    = 'ra'\n",
    "    dec_col   = 'dec'\n",
    "    z_col     = line['z_col']\n",
    "    zerr_col  = line['zerr_col']\n",
    "    zflg_col  = line['zflg_col']\n",
    "    class_col = line['class_col']\n",
    "    \n",
    "    if pd.isna(zerr_col)  == True: zerr_col  = '-99 as e_'+z_col\n",
    "    if pd.isna(zflg_col)  == True: zflg_col  = '-99 as f_'+z_col\n",
    "    if pd.isna(class_col) == True: class_col = '-99 as class_spec'\n",
    "    \n",
    "    print(table)\n",
    "    \n",
    "    try:\n",
    "        Query  = TAP_HEASARC.launch_job_async(f\"\"\"SELECT {ra_col}, {dec_col}, {z_col}, {zerr_col}, {zflg_col}, {class_col} FROM \"{table}\" WHERE {z_col} >= -99999\"\"\")\n",
    "\n",
    "        Result = Query.get_results().to_pandas()\n",
    "        Result['source'] = table\n",
    "        Result.to_csv(f\"SpectroscopicCatalogues/{table.replace('/', '.')}.csv\", index=False)\n",
    "    \n",
    "    except:\n",
    "        print(f\"Error on {table}\")\n",
    "        pass"
   ]
  },
  {
   "cell_type": "markdown",
   "metadata": {
    "heading_collapsed": true
   },
   "source": [
    "# Merge catalogues"
   ]
  },
  {
   "cell_type": "code",
   "execution_count": 10,
   "metadata": {
    "ExecuteTime": {
     "end_time": "2022-06-04T15:55:37.532524Z",
     "start_time": "2022-06-04T15:55:37.529213Z"
    },
    "hidden": true
   },
   "outputs": [],
   "source": [
    "pd.options.mode.chained_assignment = None"
   ]
  },
  {
   "cell_type": "code",
   "execution_count": 11,
   "metadata": {
    "ExecuteTime": {
     "end_time": "2022-06-04T13:47:06.135128Z",
     "start_time": "2022-06-04T13:46:42.783000Z"
    },
    "hidden": true
   },
   "outputs": [
    {
     "name": "stdout",
     "output_type": "stream",
     "text": [
      "J/AJ/112/62/table3/csv contains RA/DEC with 19\n",
      "J/MNRAS/274/75/table1/csv contains RA/DEC with 19\n",
      "VIII/50/catalog/csv contains RA/DEC with 19\n",
      "J/A+AS/116/43/table4/csv contains RA/DEC with 19\n",
      "VII/231/catalog/csv contains RA/DEC with 19\n",
      "VII/182/table4/csv contains RA/DEC with 19\n",
      "J/ApJ/552/427/table1/csv contains RA/DEC with 19\n",
      "J/AJ/112/62/table4/csv contains RA/DEC with 19\n",
      "J/MNRAS/243/1/table6/csv contains RA/DEC with 19\n",
      "J/MNRAS/243/1/table7/csv contains RA/DEC with 19\n",
      "VII/69/catalog/csv contains RA/DEC with 19\n",
      "J/MNRAS/235/827/table3/csv contains RA/DEC with 19\n"
     ]
    }
   ],
   "source": [
    "# Create a list to store dataframes\n",
    "DFs = []\n",
    "\n",
    "# Get the list of tables downloaded\n",
    "Downloaded_Tables  = [s for s in os.listdir('SpectroscopicCatalogues/') if s.endswith('.csv')]\n",
    "\n",
    "# In a loop, load all tables\n",
    "for table in Downloaded_Tables:\n",
    "    Spec_DF = pd.read_csv('SpectroscopicCatalogues/'+table)\n",
    "    \n",
    "    # If any table has the coordinates in J1900 or J1950 epoch, they will not\n",
    "    # be included in the list and you will need to verify if they have J2000\n",
    "    # coordinates and download them again\n",
    "    if pd.Series(Spec_DF.columns.values).str.contains('19').any() == True:\n",
    "        print(f\"{table.replace('.', '/')} contains RA/DEC with 19\")\n",
    "        pass\n",
    "    \n",
    "    else:\n",
    "        Spec_DF.columns = ['RA', 'DEC', 'z', 'e_z', 'f_z', 'class', 'source']\n",
    "        DFs.append(Spec_DF)"
   ]
  },
  {
   "cell_type": "code",
   "execution_count": 12,
   "metadata": {
    "ExecuteTime": {
     "end_time": "2022-06-04T13:48:59.806103Z",
     "start_time": "2022-06-04T13:48:58.342630Z"
    },
    "hidden": true
   },
   "outputs": [],
   "source": [
    "# Concatenate all tables\n",
    "Spectroscopic_DF = pd.concat(DFs)"
   ]
  },
  {
   "cell_type": "code",
   "execution_count": 13,
   "metadata": {
    "ExecuteTime": {
     "end_time": "2022-06-04T13:56:54.664322Z",
     "start_time": "2022-06-04T13:55:35.468927Z"
    },
    "hidden": true
   },
   "outputs": [],
   "source": [
    "# Save all tables to file\n",
    "Spectroscopic_DF.to_csv('Concatenated_Catalogue.csv', index=False)"
   ]
  },
  {
   "cell_type": "markdown",
   "metadata": {
    "heading_collapsed": true
   },
   "source": [
    "# Morphology and flags"
   ]
  },
  {
   "cell_type": "markdown",
   "metadata": {
    "hidden": true
   },
   "source": [
    "The two subsections below are quite a mess because I had to do them by hand, looking at the documentation of each table to find the classifications and 'good' flags.\n",
    "\n",
    "I really wish astronomers reached some kind of concensus on this."
   ]
  },
  {
   "cell_type": "markdown",
   "metadata": {
    "heading_collapsed": true,
    "hidden": true
   },
   "source": [
    "## Classes"
   ]
  },
  {
   "cell_type": "code",
   "execution_count": 14,
   "metadata": {
    "ExecuteTime": {
     "end_time": "2022-06-04T15:55:53.134471Z",
     "start_time": "2022-06-04T15:55:37.534512Z"
    },
    "hidden": true
   },
   "outputs": [
    {
     "name": "stderr",
     "output_type": "stream",
     "text": [
      "/tmp/ipykernel_65875/845989651.py:1: DtypeWarning: Columns (4,5) have mixed types. Specify dtype option on import or set low_memory=False.\n",
      "  Spectroscopic_DF = pd.read_csv('Concatenated_Catalogue.csv')\n"
     ]
    }
   ],
   "source": [
    "Spectroscopic_DF = pd.read_csv('Concatenated_Catalogue.csv')"
   ]
  },
  {
   "cell_type": "code",
   "execution_count": 15,
   "metadata": {
    "ExecuteTime": {
     "end_time": "2022-06-04T15:55:53.314200Z",
     "start_time": "2022-06-04T15:55:53.137098Z"
    },
    "hidden": true
   },
   "outputs": [],
   "source": [
    "Spectroscopic_DF['old_class'] = Spectroscopic_DF['class']"
   ]
  },
  {
   "cell_type": "code",
   "execution_count": 16,
   "metadata": {
    "ExecuteTime": {
     "end_time": "2022-06-04T15:55:58.646915Z",
     "start_time": "2022-06-04T15:55:53.316860Z"
    },
    "hidden": true
   },
   "outputs": [],
   "source": [
    "Spectroscopic_DF['numeric_class'] = pd.to_numeric(Spectroscopic_DF['class'], errors='coerce')"
   ]
  },
  {
   "cell_type": "code",
   "execution_count": 17,
   "metadata": {
    "ExecuteTime": {
     "end_time": "2022-06-04T15:56:00.574929Z",
     "start_time": "2022-06-04T15:55:58.648884Z"
    },
    "hidden": true,
    "scrolled": true
   },
   "outputs": [],
   "source": [
    "# HEASARC classes\n",
    "Spectroscopic_DF['class'][Spectroscopic_DF['numeric_class'].between(1000, 2999)] = \"STAR\"\n",
    "Spectroscopic_DF['class'][Spectroscopic_DF['numeric_class'].between(3000, 3999)] = \"EXTENDED\"\n",
    "Spectroscopic_DF['class'][Spectroscopic_DF['numeric_class'].between(4000, 4999)] = \"WHITE_DWARF\"\n",
    "Spectroscopic_DF['class'][Spectroscopic_DF['numeric_class'].between(5000, 5099)] = \"CLUSTER_GAL\"\n",
    "Spectroscopic_DF['class'][Spectroscopic_DF['numeric_class'] == 5500]             = \"XRAY_BG\"\n",
    "Spectroscopic_DF['class'][Spectroscopic_DF['numeric_class'].between(6000, 6999)] = \"GALAXY\"\n",
    "Spectroscopic_DF['class'][Spectroscopic_DF['numeric_class'].between(7000, 7999)] = \"AGN\"\n",
    "Spectroscopic_DF['class'][Spectroscopic_DF['numeric_class'].between(8000, 8999)] = \"SOLAR_SYSTEM\"\n",
    "Spectroscopic_DF['class'][Spectroscopic_DF['numeric_class'] == 9000]             = \"UNUSUAL\"\n",
    "Spectroscopic_DF['class'][Spectroscopic_DF['numeric_class'].between(9100, 9199)] = \"SUPERNOVA\"\n",
    "Spectroscopic_DF['class'][Spectroscopic_DF['numeric_class'] == 9200]             = \"HYPERNOVA\"\n",
    "Spectroscopic_DF['class'][Spectroscopic_DF['numeric_class'] == 9300]             = \"ULX\"\n",
    "Spectroscopic_DF['class'][Spectroscopic_DF['numeric_class'] == 9400]             = \"SBH\"\n",
    "Spectroscopic_DF['class'][Spectroscopic_DF['numeric_class'] == 9999]             = -99"
   ]
  },
  {
   "cell_type": "code",
   "execution_count": 18,
   "metadata": {
    "ExecuteTime": {
     "end_time": "2022-06-04T15:56:01.635516Z",
     "start_time": "2022-06-04T15:56:00.577853Z"
    },
    "hidden": true
   },
   "outputs": [],
   "source": [
    "# -99 strings to -99 numbers\n",
    "Spectroscopic_DF['class'][Spectroscopic_DF['class'] == '-99'] = -99"
   ]
  },
  {
   "cell_type": "code",
   "execution_count": 19,
   "metadata": {
    "ExecuteTime": {
     "end_time": "2022-06-04T15:56:02.617527Z",
     "start_time": "2022-06-04T15:56:01.637543Z"
    },
    "hidden": true
   },
   "outputs": [],
   "source": [
    "# Q to QSO\n",
    "Spectroscopic_DF['class'][Spectroscopic_DF['class'] == 'Q'] = 'QSO'"
   ]
  },
  {
   "cell_type": "code",
   "execution_count": 20,
   "metadata": {
    "ExecuteTime": {
     "end_time": "2022-06-04T16:09:32.346198Z",
     "start_time": "2022-06-04T16:09:31.346896Z"
    },
    "hidden": true
   },
   "outputs": [],
   "source": [
    "# S to STAR\n",
    "Spectroscopic_DF['class'][Spectroscopic_DF['class'] == 'S'] = 'STAR'"
   ]
  },
  {
   "cell_type": "code",
   "execution_count": 21,
   "metadata": {
    "ExecuteTime": {
     "end_time": "2022-06-04T15:56:03.601706Z",
     "start_time": "2022-06-04T15:56:02.619778Z"
    },
    "hidden": true
   },
   "outputs": [],
   "source": [
    "# X to XRAY\n",
    "Spectroscopic_DF['class'][Spectroscopic_DF['class'] == 'X'] = 'XRAY'"
   ]
  },
  {
   "cell_type": "code",
   "execution_count": 22,
   "metadata": {
    "ExecuteTime": {
     "end_time": "2022-06-04T15:56:04.587528Z",
     "start_time": "2022-06-04T15:56:03.605027Z"
    },
    "hidden": true
   },
   "outputs": [],
   "source": [
    "# R to RADIO\n",
    "Spectroscopic_DF['class'][Spectroscopic_DF['class'] == 'R'] = 'RADIO'"
   ]
  },
  {
   "cell_type": "code",
   "execution_count": 23,
   "metadata": {
    "ExecuteTime": {
     "end_time": "2022-06-04T15:56:05.557067Z",
     "start_time": "2022-06-04T15:56:04.589395Z"
    },
    "hidden": true
   },
   "outputs": [],
   "source": [
    "# Fill NaNs with -99\n",
    "Spectroscopic_DF['class'] = Spectroscopic_DF['class'].fillna(-99)"
   ]
  },
  {
   "cell_type": "code",
   "execution_count": 24,
   "metadata": {
    "ExecuteTime": {
     "end_time": "2022-06-04T15:57:04.426800Z",
     "start_time": "2022-06-04T15:56:05.559285Z"
    },
    "code_folding": [
     3
    ],
    "hidden": true
   },
   "outputs": [],
   "source": [
    "# ARXA\n",
    "Cond_Source = (Spectroscopic_DF['source'] == 'arxa')\n",
    "\n",
    "for classif in Spectroscopic_DF['class'][Spectroscopic_DF['source'] == 'arxa'].unique():\n",
    "    if classif.startswith('Q'):\n",
    "        ObjType = 'QSO'\n",
    "    if classif.startswith('A'):\n",
    "        ObjType = 'AGN'\n",
    "    if classif.startswith('B'):\n",
    "        ObjType = 'BLLAC'\n",
    "    if classif.startswith('G'):\n",
    "        ObjType = 'GALAXY'\n",
    "    if classif.startswith('L'):\n",
    "        ObjType = 'LENTIC_GALAXY'\n",
    "    if classif.startswith('N'):\n",
    "        ObjType = 'GALAXY'\n",
    "    if classif.startswith('M'):\n",
    "        ObjType = 'CLUSTER_GAL'\n",
    "    if classif.startswith('S'):\n",
    "        ObjType = 'STAR'\n",
    "    if classif.startswith('W'):\n",
    "        ObjType = 'WHITE_DWARF'\n",
    "    if classif.startswith('H'):\n",
    "        ObjType = 'EXTENDED'\n",
    "    if classif.startswith('q'):\n",
    "        ObjType = 'REMOVE'\n",
    "    if classif.startswith('g'):\n",
    "        ObjType = 'REMOVE'\n",
    "        \n",
    "    Spectroscopic_DF['class'][Cond_Source & (Spectroscopic_DF['class'] == classif)] = ObjType+'_'+classif[1:]"
   ]
  },
  {
   "cell_type": "code",
   "execution_count": 25,
   "metadata": {
    "ExecuteTime": {
     "end_time": "2022-06-04T15:57:21.297523Z",
     "start_time": "2022-06-04T15:57:04.428834Z"
    },
    "code_folding": [
     0
    ],
    "hidden": true
   },
   "outputs": [],
   "source": [
    "# PKSCAT90\n",
    "Cond_Source = (Spectroscopic_DF['source'] == 'pkscat90')\n",
    "\n",
    "Spectroscopic_DF['class'][Cond_Source & (Spectroscopic_DF['class'] == 'BLC')] = 'BLLAC'\n",
    "Spectroscopic_DF['class'][Cond_Source & (Spectroscopic_DF['class'] == 'D')]   = 'GALAXY'\n",
    "Spectroscopic_DF['class'][Cond_Source & (Spectroscopic_DF['class'] == 'DB')]  = 'GALAXY'\n",
    "Spectroscopic_DF['class'][Cond_Source & (Spectroscopic_DF['class'] == 'E')]   = 'GALAXY'\n",
    "Spectroscopic_DF['class'][Cond_Source & (Spectroscopic_DF['class'] == 'G')]   = 'GALAXY'\n",
    "Spectroscopic_DF['class'][Cond_Source & (Spectroscopic_DF['class'] == 'HII')] = 'EXTENDED'\n",
    "Spectroscopic_DF['class'][Cond_Source & (Spectroscopic_DF['class'] == 'IRR')] = 'IRREGULAR'\n",
    "Spectroscopic_DF['class'][Cond_Source & (Spectroscopic_DF['class'] == 'N')]   = 'GALAXY'\n",
    "Spectroscopic_DF['class'][Cond_Source & (Spectroscopic_DF['class'] == 'PN')]  = 'PLNEB'\n",
    "Spectroscopic_DF['class'][Cond_Source & (Spectroscopic_DF['class'] == 'Q')]   = 'QSO'\n",
    "Spectroscopic_DF['class'][Cond_Source & (Spectroscopic_DF['class'] == 'QC')]  = 'QSO'\n",
    "Spectroscopic_DF['class'][Cond_Source & (Spectroscopic_DF['class'] == 'S')]   = 'GALAXY'\n",
    "Spectroscopic_DF['class'][Cond_Source & (Spectroscopic_DF['class'] == 'SB')]  = 'GALAXY'\n",
    "Spectroscopic_DF['class'][Cond_Source & (Spectroscopic_DF['class'] == 'Sc')]  = 'GALAXY'\n",
    "Spectroscopic_DF['class'][Cond_Source & (Spectroscopic_DF['class'] == 'SNR')] = 'SUPERNOVA'\n",
    "Spectroscopic_DF['class'][Cond_Source & (Spectroscopic_DF['class'] == 'S0')]  = 'GALAXY'"
   ]
  },
  {
   "cell_type": "code",
   "execution_count": 26,
   "metadata": {
    "ExecuteTime": {
     "end_time": "2022-06-04T16:06:44.220714Z",
     "start_time": "2022-06-04T16:05:54.167134Z"
    },
    "code_folding": [],
    "hidden": true
   },
   "outputs": [],
   "source": [
    "# MILLIQUAS\n",
    "Cond_Source = (Spectroscopic_DF['source'] == 'milliquas')\n",
    "\n",
    "for classif in Spectroscopic_DF['class'][Spectroscopic_DF['source'] == 'milliquas'].unique():\n",
    "    if classif.startswith('Q'):\n",
    "        ObjType = 'QSO'\n",
    "    if classif.startswith('A'):\n",
    "        ObjType = 'AGN'\n",
    "    if classif.startswith('B'):\n",
    "        ObjType = 'BLLAC'\n",
    "    if classif.startswith('K'):\n",
    "        ObjType = 'QSO'\n",
    "    if classif.startswith('N'):\n",
    "        ObjType = 'AGN'\n",
    "        \n",
    "    Spectroscopic_DF['class'][Cond_Source & (Spectroscopic_DF['class'] == classif)] = ObjType+'_'+classif[1:]"
   ]
  },
  {
   "cell_type": "code",
   "execution_count": 27,
   "metadata": {
    "ExecuteTime": {
     "end_time": "2022-06-04T15:57:33.250771Z",
     "start_time": "2022-06-04T15:57:31.256958Z"
    },
    "hidden": true
   },
   "outputs": [],
   "source": [
    "# QUASAR TO QSO\n",
    "Spectroscopic_DF['class'][Spectroscopic_DF['class'] == 'QUASAR'] = 'QSO'\n",
    "\n",
    "# Galaxy to GALAXY\n",
    "Spectroscopic_DF['class'][Spectroscopic_DF['class'] == 'Galaxy'] = 'GALAXY'"
   ]
  },
  {
   "cell_type": "code",
   "execution_count": 28,
   "metadata": {
    "ExecuteTime": {
     "end_time": "2022-06-04T15:58:03.702930Z",
     "start_time": "2022-06-04T15:57:33.253990Z"
    },
    "code_folding": [
     0
    ],
    "hidden": true
   },
   "outputs": [],
   "source": [
    "# VERONCAT\n",
    "Cond_Source = (Spectroscopic_DF['source'] == 'veroncat')\n",
    "\n",
    "for classif in Spectroscopic_DF['class'][Spectroscopic_DF['source'] == 'veroncat'].unique():\n",
    "    if classif.startswith('B'):\n",
    "        ObjType = 'BLLAC'\n",
    "    if classif.startswith('Q'):\n",
    "        ObjType = 'QSO'\n",
    "    if classif == 'STAR_2':\n",
    "        ObjType = 'STAR'\n",
    "        \n",
    "    SeyfertClass = ['S1.5', 'S?', 'S1', 'S1i', 'S1.2', 'S1.8', 'S3', \n",
    "                    'S', 'S1.9', 'S1h', 'S1n', 'S1.0', 'S3b', 'S1n2', \n",
    "                    'S1n5', 'S1n0', 'S3h', 'S2?']\n",
    "    if classif in (SeyfertClass):\n",
    "        ObjType = 'GALAXY_SEYFERT'\n",
    "        \n",
    "    Spectroscopic_DF['class'][Cond_Source & (Spectroscopic_DF['class'] == classif)] = ObjType"
   ]
  },
  {
   "cell_type": "code",
   "execution_count": 29,
   "metadata": {
    "ExecuteTime": {
     "end_time": "2022-06-04T15:58:07.531649Z",
     "start_time": "2022-06-04T15:58:03.705152Z"
    },
    "code_folding": [
     0
    ],
    "hidden": true
   },
   "outputs": [],
   "source": [
    "# xmmcosmoid\n",
    "\n",
    "Cond_Source = (Spectroscopic_DF['source'] == 'xmmcosmoid')\n",
    "Spectroscopic_DF['class'][Cond_Source & (Spectroscopic_DF['class'] == '1')] = 'AGN'\n",
    "Spectroscopic_DF['class'][Cond_Source & (Spectroscopic_DF['class'] == '2')] = 'AGN'\n",
    "Spectroscopic_DF['class'][Cond_Source & (Spectroscopic_DF['class'] == '3')] = 'GALAXY'"
   ]
  },
  {
   "cell_type": "code",
   "execution_count": 30,
   "metadata": {
    "ExecuteTime": {
     "end_time": "2022-06-04T15:58:08.535380Z",
     "start_time": "2022-06-04T15:58:07.533715Z"
    },
    "code_folding": [
     0
    ],
    "hidden": true
   },
   "outputs": [],
   "source": [
    "# ccosrssfag\n",
    "Cond_Source = (Spectroscopic_DF['source'] == 'ccosrssfag')\n",
    "Spectroscopic_DF['class'][Cond_Source] = 'AGN'"
   ]
  },
  {
   "cell_type": "code",
   "execution_count": 31,
   "metadata": {
    "ExecuteTime": {
     "end_time": "2022-06-04T15:58:12.390332Z",
     "start_time": "2022-06-04T15:58:08.537600Z"
    },
    "code_folding": [
     0
    ],
    "hidden": true
   },
   "outputs": [],
   "source": [
    "# mgczcat\n",
    "\n",
    "Cond_Source = (Spectroscopic_DF['source'] == 'VII/240/mgczcat')\n",
    "Spectroscopic_DF['class'][Cond_Source & (Spectroscopic_DF['class'] == '1')] = 'GALAXY'\n",
    "Spectroscopic_DF['class'][Cond_Source & (Spectroscopic_DF['class'] == '7')] = 'QSO'\n",
    "Spectroscopic_DF['class'][Cond_Source & (Spectroscopic_DF['class'] == '8')] = 'STAR'"
   ]
  },
  {
   "cell_type": "code",
   "execution_count": 32,
   "metadata": {
    "ExecuteTime": {
     "end_time": "2022-06-04T15:58:13.372210Z",
     "start_time": "2022-06-04T15:58:12.392709Z"
    },
    "code_folding": [],
    "hidden": true
   },
   "outputs": [],
   "source": [
    "# TWOMASSSRSC\n",
    "Spectroscopic_DF['class'][Spectroscopic_DF['class'] == '98'] = 'GALAXY'"
   ]
  },
  {
   "cell_type": "code",
   "execution_count": 33,
   "metadata": {
    "ExecuteTime": {
     "end_time": "2022-06-04T15:58:17.280373Z",
     "start_time": "2022-06-04T15:58:13.374339Z"
    },
    "hidden": true
   },
   "outputs": [],
   "source": [
    "# Other QSO to QSO\n",
    "Spectroscopic_DF['class'][Spectroscopic_DF['class'] == 'DR1QSO'] = 'QSO'\n",
    "Spectroscopic_DF['class'][Spectroscopic_DF['class'] == 'DR2QSO'] = 'QSO'\n",
    "Spectroscopic_DF['class'][Spectroscopic_DF['class'] == '2QZQSO'] = 'QSO'\n",
    "Spectroscopic_DF['class'][Spectroscopic_DF['class'] == 'QSO RLoud flat radio sp.'] = 'QSO'"
   ]
  },
  {
   "cell_type": "code",
   "execution_count": 34,
   "metadata": {
    "ExecuteTime": {
     "end_time": "2022-06-04T15:58:25.058103Z",
     "start_time": "2022-06-04T15:58:17.282670Z"
    },
    "code_folding": [
     0
    ],
    "hidden": true
   },
   "outputs": [],
   "source": [
    "# clansoid\n",
    "\n",
    "Cond_Source = (Spectroscopic_DF['source'] == 'clansoid')\n",
    "Spectroscopic_DF['class'][Cond_Source & (Spectroscopic_DF['class'] == '-1')] = 'REMOVE'\n",
    "Spectroscopic_DF['class'][Cond_Source & (Spectroscopic_DF['class'] == '3')] = -99\n",
    "Spectroscopic_DF['class'][Cond_Source & (Spectroscopic_DF['class'] == '4')] = 'AGN'\n",
    "Spectroscopic_DF['class'][Cond_Source & (Spectroscopic_DF['class'] == '0')] = 'GALAXY'\n",
    "Spectroscopic_DF['class'][Cond_Source & (Spectroscopic_DF['class'] == '1')] = 'GALAXY'\n",
    "Spectroscopic_DF['class'][Cond_Source & (Spectroscopic_DF['class'] == '99')] = -99\n",
    "Spectroscopic_DF['class'][Cond_Source & (Spectroscopic_DF['class'] == '-2')] = 'STAR'"
   ]
  },
  {
   "cell_type": "code",
   "execution_count": 35,
   "metadata": {
    "ExecuteTime": {
     "end_time": "2022-06-04T15:58:51.811977Z",
     "start_time": "2022-06-04T15:58:25.060704Z"
    },
    "code_folding": [
     0
    ],
    "hidden": true,
    "scrolled": true
   },
   "outputs": [],
   "source": [
    "# twomassrsc\n",
    "\n",
    "Cond_Source = (Spectroscopic_DF['source'] == 'twomassrsc')\n",
    "Spectroscopic_DF['class'][Cond_Source & (Spectroscopic_DF['class'] == '-9')] = 'QSO/AGN'\n",
    "Spectroscopic_DF['class'][Cond_Source & (Spectroscopic_DF['class'] == '-7')] = 'GALAXY'\n",
    "Spectroscopic_DF['class'][Cond_Source & (Spectroscopic_DF['class'] == '-6')] = 'GALAXY'\n",
    "Spectroscopic_DF['class'][Cond_Source & (Spectroscopic_DF['class'] == '-5')] = 'GALAXY'\n",
    "Spectroscopic_DF['class'][Cond_Source & (Spectroscopic_DF['class'] == '-4')] = 'LENT_GALAXY'\n",
    "Spectroscopic_DF['class'][Cond_Source & (Spectroscopic_DF['class'] == '-3')] = 'LENT_GALAXY'\n",
    "Spectroscopic_DF['class'][Cond_Source & (Spectroscopic_DF['class'] == '-2')] = 'LENT_GALAXY'\n",
    "Spectroscopic_DF['class'][Cond_Source & (Spectroscopic_DF['class'] == '-1')] = 'LENT_GALAXY'\n",
    "Spectroscopic_DF['class'][Cond_Source & (Spectroscopic_DF['class'] == '0')] = 'GALAXY'\n",
    "Spectroscopic_DF['class'][Cond_Source & (Spectroscopic_DF['class'] == '1')] = 'GALAXY'\n",
    "Spectroscopic_DF['class'][Cond_Source & (Spectroscopic_DF['class'] == '2')] = 'GALAXY'\n",
    "Spectroscopic_DF['class'][Cond_Source & (Spectroscopic_DF['class'] == '3')] = 'GALAXY'\n",
    "Spectroscopic_DF['class'][Cond_Source & (Spectroscopic_DF['class'] == '4')] = 'GALAXY'\n",
    "Spectroscopic_DF['class'][Cond_Source & (Spectroscopic_DF['class'] == '5')] = 'GALAXY'\n",
    "Spectroscopic_DF['class'][Cond_Source & (Spectroscopic_DF['class'] == '6')] = 'GALAXY'\n",
    "Spectroscopic_DF['class'][Cond_Source & (Spectroscopic_DF['class'] == '7')] = 'GALAXY'\n",
    "Spectroscopic_DF['class'][Cond_Source & (Spectroscopic_DF['class'] == '8')] = 'GALAXY'\n",
    "Spectroscopic_DF['class'][Cond_Source & (Spectroscopic_DF['class'] == '9')] = 'GALAXY'\n",
    "Spectroscopic_DF['class'][Cond_Source & (Spectroscopic_DF['class'] == '10')] = 'GALAXY'\n",
    "Spectroscopic_DF['class'][Cond_Source & (Spectroscopic_DF['class'] == '11')] = 'GALAXY/EXTENDED'\n",
    "Spectroscopic_DF['class'][Cond_Source & (Spectroscopic_DF['class'] == '12')] = 'EXTENDED'\n",
    "Spectroscopic_DF['class'][Cond_Source & (Spectroscopic_DF['class'] == '15')] = 'PECULIAR'\n",
    "Spectroscopic_DF['class'][Cond_Source & (Spectroscopic_DF['class'] == '16')] = 'GALAXY'\n",
    "Spectroscopic_DF['class'][Cond_Source & (Spectroscopic_DF['class'] == '19')] = 'GALAXY'\n",
    "Spectroscopic_DF['class'][Cond_Source & (Spectroscopic_DF['class'] == '20')] = 'GALAXY'\n",
    "Spectroscopic_DF['class'][Cond_Source & (Spectroscopic_DF['class'] == '98')] = 'GALAXY'"
   ]
  },
  {
   "cell_type": "code",
   "execution_count": 36,
   "metadata": {
    "ExecuteTime": {
     "end_time": "2022-06-04T16:02:27.386253Z",
     "start_time": "2022-06-04T16:02:18.675558Z"
    },
    "hidden": true
   },
   "outputs": [],
   "source": [
    "Cond_Source = (Spectroscopic_DF['source'] == 'cosmosvlba')\n",
    "Spectroscopic_DF['class'][Cond_Source & (Spectroscopic_DF['class'] == '7')] = 'GALAXY'\n",
    "Spectroscopic_DF['class'][Cond_Source & (Spectroscopic_DF['class'] == '10')] = 'GALAXY'\n",
    "Spectroscopic_DF['class'][Cond_Source & (Spectroscopic_DF['class'] == '5')] = 'AGN'\n",
    "Spectroscopic_DF['class'][Cond_Source & (Spectroscopic_DF['class'] == '1')] = 'GALAXY'\n",
    "Spectroscopic_DF['class'][Cond_Source & (Spectroscopic_DF['class'] == '3')] = 'GALAXY'\n",
    "Spectroscopic_DF['class'][Cond_Source & (Spectroscopic_DF['class'] == '4')] = 'GALAXY_MERGER'\n",
    "Spectroscopic_DF['class'][Cond_Source & (Spectroscopic_DF['class'] == '6')] = 'AGN'\n",
    "Spectroscopic_DF['class'][Cond_Source & (Spectroscopic_DF['class'] == '11')] = 'AGN'"
   ]
  },
  {
   "cell_type": "code",
   "execution_count": 37,
   "metadata": {
    "ExecuteTime": {
     "end_time": "2022-06-04T16:02:34.166544Z",
     "start_time": "2022-06-04T16:02:27.388775Z"
    },
    "hidden": true
   },
   "outputs": [],
   "source": [
    "Cond_Source = (Spectroscopic_DF['source'] == 'saxhellasr')\n",
    "Spectroscopic_DF['class'][Cond_Source & (Spectroscopic_DF['class'] == '1')] = 'AGN'\n",
    "Spectroscopic_DF['class'][Cond_Source & (Spectroscopic_DF['class'] == '3')] = 'BLLAC'\n",
    "Spectroscopic_DF['class'][Cond_Source & (Spectroscopic_DF['class'] == '5')] = 'GALAXY'\n",
    "Spectroscopic_DF['class'][Cond_Source & (Spectroscopic_DF['class'] == '0')] = -99\n",
    "Spectroscopic_DF['class'][Cond_Source & (Spectroscopic_DF['class'] == '6')] = 'GALAXY'\n",
    "Spectroscopic_DF['class'][Cond_Source & (Spectroscopic_DF['class'] == '4')] = 'CLUSTER_GAL'"
   ]
  },
  {
   "cell_type": "code",
   "execution_count": 38,
   "metadata": {
    "ExecuteTime": {
     "end_time": "2022-06-04T16:01:40.478663Z",
     "start_time": "2022-06-04T16:01:38.618451Z"
    },
    "hidden": true
   },
   "outputs": [],
   "source": [
    "Cond_Source = (Spectroscopic_DF['source'] == 'J/MNRAS/450/3893/dame_qso')\n",
    "Spectroscopic_DF['class'][Cond_Source & (Spectroscopic_DF['class'] == 'BROADLINE')] = 'QSO/AGN'"
   ]
  },
  {
   "cell_type": "code",
   "execution_count": 39,
   "metadata": {
    "ExecuteTime": {
     "end_time": "2022-06-04T17:24:55.453704Z",
     "start_time": "2022-06-04T17:24:48.564842Z"
    },
    "hidden": true
   },
   "outputs": [],
   "source": [
    "Spectroscopic_DF['source'][Spectroscopic_DF['class'] == 'e'] = -99\n",
    "Spectroscopic_DF['source'][Spectroscopic_DF['class'] == 'Ia'] = 'SUPERNOVA'\n",
    "Spectroscopic_DF['source'][Spectroscopic_DF['class'] == 'Abs'] = 'GALAXY'\n",
    "Spectroscopic_DF['source'][Spectroscopic_DF['class'] == 'H'] = -99\n",
    "Spectroscopic_DF['source'][Spectroscopic_DF['class'] == '0.0'] = -99\n",
    "Spectroscopic_DF['source'][Spectroscopic_DF['class'] == 'G'] = 'GALAXY'\n",
    "Spectroscopic_DF['source'][Spectroscopic_DF['class'] == 'SF'] = 'GALAXY'"
   ]
  },
  {
   "cell_type": "code",
   "execution_count": 40,
   "metadata": {
    "ExecuteTime": {
     "end_time": "2022-06-04T17:20:53.129902Z",
     "start_time": "2022-06-04T17:20:12.694921Z"
    },
    "hidden": true
   },
   "outputs": [],
   "source": [
    "# sdssbalqso\n",
    "\n",
    "for classif in Spectroscopic_DF['class'][Spectroscopic_DF['source'] == 'J/ApJS/170/33/table1'].unique():\n",
    "    if classif in ['e', 'a', 'a;e', 'e;a', 'a;e:', 'E;a']:\n",
    "        ObjType = 'GALAXY'\n",
    "    if str(classif).startswith('B'):\n",
    "        ObjtType = 'BLLAC'\n",
    "    if str(classif).startswith('Q'):\n",
    "        ObjType = 'QSO'\n",
    "    if classif == 'star':\n",
    "        ObjType = 'STAR'\n",
    "        \n",
    "    SeyfertClass = ['SB', 'WR', 'Sy1', 'Sy2', 'Sy1.5', 'Sy1.9', 'Sy',\n",
    "                    'QSO', 'Sy3', 'Sy?', 'SB, WR', 'WR?', 'Sy1:', 'Sy1.8',\n",
    "                    'HII', 'HII, WR', 'Sy2+e', 'SB, WR?', 'BL', 'd3', 'Sy1?',\n",
    "                    'Sy1.2', 'Sy3?', 'Sy2+Sy2', 'Sy3+e', 'Sy2, WR', 'Sy2?, WR',\n",
    "                    'Sy2?', 'BL?', 'Sy1.5, WR', 'sd2e', 'Sy1+e']\n",
    "    if classif in (SeyfertClass):\n",
    "        ObjType = 'GALAXY_SEYFERT'\n",
    "        \n",
    "    Spectroscopic_DF['class'][Cond_Source & (Spectroscopic_DF['class'] == classif)] = ObjType"
   ]
  },
  {
   "cell_type": "code",
   "execution_count": 41,
   "metadata": {
    "ExecuteTime": {
     "end_time": "2022-06-04T17:21:07.896003Z",
     "start_time": "2022-06-04T17:20:55.624198Z"
    },
    "hidden": true
   },
   "outputs": [],
   "source": [
    "Cond_Source = (Spectroscopic_DF['source'] == 'J/AJ/112/407/egal')\n",
    "Spectroscopic_DF['class'][Cond_Source] = 'GALAXY'\n",
    "\n",
    "Cond_Source = (Spectroscopic_DF['source'] == 'sdssbalqso')\n",
    "Spectroscopic_DF['class'][Cond_Source & (Spectroscopic_DF['class'] == 'Hi')] = 'QSO'\n",
    "\n",
    "Cond_Source = (Spectroscopic_DF['source'] == 'IX/52/3xlsopts')\n",
    "Spectroscopic_DF['class'][Cond_Source & (Spectroscopic_DF['class'] == '1.0')] = -99\n",
    "\n",
    "Cond_Source = (Spectroscopic_DF['source'] == 'J/A+A/488/417/catalog')\n",
    "Spectroscopic_DF['class'][Cond_Source & (Spectroscopic_DF['class'] == '1.0')] = 'AGN'\n",
    "\n",
    "Cond_Source = (Spectroscopic_DF['source'] == 'J/AJ/150/31/table5')\n",
    "Spectroscopic_DF['class'][Cond_Source & (Spectroscopic_DF['class'] == '1.0')] = -99\n",
    "\n",
    "Cond_Source = (Spectroscopic_DF['source'] == 'J/ApJS/179/1/clans')\n",
    "Spectroscopic_DF['class'][Cond_Source & (Spectroscopic_DF['class'] == '1.0')] = 'GALAXY'\n",
    "\n",
    "Cond_Source = (Spectroscopic_DF['source'] == 'J/ApJ/703/1778/table2')\n",
    "Spectroscopic_DF['class'][Cond_Source & (Spectroscopic_DF['class'] == '1.0')] = 'AGN'"
   ]
  },
  {
   "cell_type": "code",
   "execution_count": 42,
   "metadata": {
    "ExecuteTime": {
     "end_time": "2022-06-04T17:21:11.854626Z",
     "start_time": "2022-06-04T17:21:07.898880Z"
    },
    "hidden": true
   },
   "outputs": [],
   "source": [
    "Cond_Source = (Spectroscopic_DF['source'] == 'J/ApJ/663/81/table1')\n",
    "Spectroscopic_DF['class'][Cond_Source] = 'AGN'\n",
    "\n",
    "Cond_Source = (Spectroscopic_DF['source'] == 'J/ApJ/742/3/table3')\n",
    "Spectroscopic_DF['class'][Cond_Source] = -99\n",
    "\n",
    "Cond_Source = (Spectroscopic_DF['source'] == 'J/ApJ/776/71/table4')\n",
    "Spectroscopic_DF['class'][Cond_Source] = -99\n",
    "\n",
    "Cond_Source = (Spectroscopic_DF['source'] == 'J/ApJS/256/40/morph')\n",
    "Spectroscopic_DF['class'][Cond_Source] = 'AGN'"
   ]
  },
  {
   "cell_type": "code",
   "execution_count": 43,
   "metadata": {
    "ExecuteTime": {
     "end_time": "2022-06-04T17:05:30.606300Z",
     "start_time": "2022-06-04T17:05:24.788969Z"
    },
    "hidden": true
   },
   "outputs": [],
   "source": [
    "Cond_Source = (Spectroscopic_DF['source'] == 'J/ApJ/703/1778/table2')\n",
    "Spectroscopic_DF['class'][Cond_Source & (Spectroscopic_DF['class'] == '1')] = 'AGN'\n",
    "Spectroscopic_DF['class'][Cond_Source & (Spectroscopic_DF['class'] == '2')] = 'AGN'\n",
    "Spectroscopic_DF['class'][Cond_Source & (Spectroscopic_DF['class'] == '3')] = 'GALAXY'\n",
    "Spectroscopic_DF['class'][Cond_Source & (Spectroscopic_DF['class'] == '4')] = 'GALAXY'\n",
    "Spectroscopic_DF['class'][Cond_Source & (Spectroscopic_DF['class'] == '5')] = 'STAR'"
   ]
  },
  {
   "cell_type": "code",
   "execution_count": 44,
   "metadata": {
    "ExecuteTime": {
     "end_time": "2022-06-04T17:00:28.389926Z",
     "start_time": "2022-06-04T17:00:08.930054Z"
    },
    "hidden": true
   },
   "outputs": [],
   "source": [
    "Cond_Source = (Spectroscopic_DF['source'] == 'J/A+A/488/417/catalog')\n",
    "Spectroscopic_DF['class'][Cond_Source & (Spectroscopic_DF['class'] == '0.0')] = 'AGN'\n",
    "Spectroscopic_DF['class'][Cond_Source & (Spectroscopic_DF['class'] == '2.0')] = 'GALAXY'\n",
    "Spectroscopic_DF['class'][Cond_Source & (Spectroscopic_DF['class'] == '3.0')] = 'GALAXY'\n",
    "Spectroscopic_DF['class'][Cond_Source & (Spectroscopic_DF['class'] == '4.0')] = 'STAR'\n",
    "Spectroscopic_DF['class'][Cond_Source & (Spectroscopic_DF['class'] == '5.0')] = 'AGN'\n",
    "Spectroscopic_DF['class'][Cond_Source & (Spectroscopic_DF['class'] == '6.0')] = 'GALAXY'\n",
    "Spectroscopic_DF['class'][Cond_Source & (Spectroscopic_DF['class'] == '-1.0')] = -99\n",
    "\n",
    "Cond_Source = (Spectroscopic_DF['source'] == 'ccosmosoid')\n",
    "Spectroscopic_DF['class'][Cond_Source & (Spectroscopic_DF['class'] == '0.0')] = 'STAR'\n",
    "Spectroscopic_DF['class'][Cond_Source & (Spectroscopic_DF['class'] == '1.0')] = 'AGN'\n",
    "Spectroscopic_DF['class'][Cond_Source & (Spectroscopic_DF['class'] == '2.0')] = 'AGN'\n",
    "\n",
    "Cond_Source = (Spectroscopic_DF['source'] == 'intagncat')\n",
    "Spectroscopic_DF['class'][Cond_Source & (Spectroscopic_DF['class'] == '0.0')] = 'AGN'\n",
    "Spectroscopic_DF['class'][Cond_Source & (Spectroscopic_DF['class'] == '1.0')] = 'GALAXY_SEYFERT'\n",
    "Spectroscopic_DF['class'][Cond_Source & (Spectroscopic_DF['class'] == '1.2')] = 'GALAXY_SEYFERT'\n",
    "Spectroscopic_DF['class'][Cond_Source & (Spectroscopic_DF['class'] == '1.5')] = 'GALAXY_SEYFERT'\n",
    "Spectroscopic_DF['class'][Cond_Source & (Spectroscopic_DF['class'] == '2.0')] = 'GALAXY_SEYFERT'\n",
    "Spectroscopic_DF['class'][Cond_Source & (Spectroscopic_DF['class'] == '3.0')] = 'BLLAC'\n",
    "Spectroscopic_DF['class'][Cond_Source & (Spectroscopic_DF['class'] == '4.0')] = 'CLUTER_GAL'"
   ]
  },
  {
   "cell_type": "code",
   "execution_count": 45,
   "metadata": {
    "ExecuteTime": {
     "end_time": "2022-06-04T16:34:57.802088Z",
     "start_time": "2022-06-04T16:34:55.828639Z"
    },
    "hidden": true
   },
   "outputs": [],
   "source": [
    "Cond_Source = (Spectroscopic_DF['source'] == 'J/A+A/622/A1/merge')\n",
    "Spectroscopic_DF['class'][Cond_Source] = -99\n",
    "\n",
    "Cond_Source = (Spectroscopic_DF['source'] == 'J/ApJS/183/295/catalog')\n",
    "Spectroscopic_DF['class'][Cond_Source] = -99\n",
    "\n",
    "Cond_Source = (Spectroscopic_DF['source'] == 'IX/52/3xlsopts')\n",
    "Spectroscopic_DF['class'][Cond_Source] = -99\n",
    "\n",
    "Cond_Source = (Spectroscopic_DF['source'] == 'J/AJ/150/31/table5')\n",
    "Spectroscopic_DF['class'][Cond_Source] = -99"
   ]
  },
  {
   "cell_type": "code",
   "execution_count": 46,
   "metadata": {
    "ExecuteTime": {
     "end_time": "2022-06-04T17:00:08.927711Z",
     "start_time": "2022-06-04T17:00:04.023582Z"
    },
    "hidden": true
   },
   "outputs": [],
   "source": [
    "Cond_Source = (Spectroscopic_DF['source'] == 'J/A+A/468/807/table2')\n",
    "Spectroscopic_DF['class'][Cond_Source & (Spectroscopic_DF['class'] == 'U')] = -99\n",
    "Spectroscopic_DF['class'][Cond_Source & (Spectroscopic_DF['class'] == 'M')] = 'GALAXY'\n",
    "Spectroscopic_DF['class'][Cond_Source & (Spectroscopic_DF['class'] == 'L')] = 'GALAXY'\n",
    "Spectroscopic_DF['class'][Cond_Source & (Spectroscopic_DF['class'] == 'E')] = 'GALAXY'"
   ]
  },
  {
   "cell_type": "code",
   "execution_count": 47,
   "metadata": {
    "ExecuteTime": {
     "end_time": "2022-06-04T16:19:00.541886Z",
     "start_time": "2022-06-04T16:18:59.534400Z"
    },
    "hidden": true
   },
   "outputs": [],
   "source": [
    "Cond_Source = (Spectroscopic_DF['source'] == 'J/AJ/132/1275/table1')\n",
    "Spectroscopic_DF['class'][Cond_Source] = -99"
   ]
  },
  {
   "cell_type": "code",
   "execution_count": 48,
   "metadata": {
    "ExecuteTime": {
     "end_time": "2022-06-04T16:29:29.980419Z",
     "start_time": "2022-06-04T16:29:24.219786Z"
    },
    "hidden": true
   },
   "outputs": [],
   "source": [
    "Cond_Source = (Spectroscopic_DF['source'] == 'J/ApJ/801/97/goodss')\n",
    "Spectroscopic_DF['class'][Cond_Source & (Spectroscopic_DF['class'] == '0')] = -99\n",
    "Spectroscopic_DF['class'][Cond_Source & (Spectroscopic_DF['class'] == '1')] = 'STAR'\n",
    "\n",
    "Cond_Source = (Spectroscopic_DF['source'] == 'J/ApJ/801/97/uds')\n",
    "Spectroscopic_DF['class'][Cond_Source & (Spectroscopic_DF['class'] == '0')] = -99\n",
    "Spectroscopic_DF['class'][Cond_Source & (Spectroscopic_DF['class'] == '1')] = 'STAR'"
   ]
  },
  {
   "cell_type": "code",
   "execution_count": 49,
   "metadata": {
    "ExecuteTime": {
     "end_time": "2022-06-04T17:00:04.020033Z",
     "start_time": "2022-06-04T16:59:34.622239Z"
    },
    "hidden": true
   },
   "outputs": [],
   "source": [
    "Cond_Source = (Spectroscopic_DF['source'] == 'J/ApJS/179/1/clans')\n",
    "Spectroscopic_DF['class'][Cond_Source & (Spectroscopic_DF['class'] == '0')] = 'GALAXY'\n",
    "Spectroscopic_DF['class'][Cond_Source & (Spectroscopic_DF['class'] == '1')] = 'GALAXY'\n",
    "Spectroscopic_DF['class'][Cond_Source & (Spectroscopic_DF['class'] == '3')] = 'GALAXY'\n",
    "Spectroscopic_DF['class'][Cond_Source & (Spectroscopic_DF['class'] == '4')] = 'AGN'\n",
    "Spectroscopic_DF['class'][Cond_Source & (Spectroscopic_DF['class'] == '-1')] = -99\n",
    "Spectroscopic_DF['class'][Cond_Source & (Spectroscopic_DF['class'] == '-2')] = 'STAR'\n",
    "Spectroscopic_DF['class'][Cond_Source & (Spectroscopic_DF['class'] == '10')] = -99\n",
    "Spectroscopic_DF['class'][Cond_Source & (Spectroscopic_DF['class'] == '-99')] = -99\n",
    "\n",
    "Cond_Source = (Spectroscopic_DF['source'] == 'J/ApJS/179/1/table12')\n",
    "Spectroscopic_DF['class'][Cond_Source & (Spectroscopic_DF['class'] == '0')] = 'GALAXY'\n",
    "Spectroscopic_DF['class'][Cond_Source & (Spectroscopic_DF['class'] == '1')] = 'GALAXY'\n",
    "Spectroscopic_DF['class'][Cond_Source & (Spectroscopic_DF['class'] == '3')] = 'GALAXY'\n",
    "Spectroscopic_DF['class'][Cond_Source & (Spectroscopic_DF['class'] == '4')] = 'AGN'\n",
    "Spectroscopic_DF['class'][Cond_Source & (Spectroscopic_DF['class'] == '-1')] = -99\n",
    "Spectroscopic_DF['class'][Cond_Source & (Spectroscopic_DF['class'] == '-2')] = 'STAR'\n",
    "Spectroscopic_DF['class'][Cond_Source & (Spectroscopic_DF['class'] == '10')] = -99\n",
    "Spectroscopic_DF['class'][Cond_Source & (Spectroscopic_DF['class'] == '-99')] = -99\n",
    "\n",
    "Cond_Source = (Spectroscopic_DF['source'] == 'J/ApJS/179/1/table13')\n",
    "Spectroscopic_DF['class'][Cond_Source & (Spectroscopic_DF['class'] == '0')] = 'GALAXY'\n",
    "Spectroscopic_DF['class'][Cond_Source & (Spectroscopic_DF['class'] == '1')] = 'GALAXY'\n",
    "Spectroscopic_DF['class'][Cond_Source & (Spectroscopic_DF['class'] == '3')] = 'GALAXY'\n",
    "Spectroscopic_DF['class'][Cond_Source & (Spectroscopic_DF['class'] == '4')] = 'AGN'\n",
    "Spectroscopic_DF['class'][Cond_Source & (Spectroscopic_DF['class'] == '-1')] = -99\n",
    "Spectroscopic_DF['class'][Cond_Source & (Spectroscopic_DF['class'] == '-2')] = 'STAR'\n",
    "Spectroscopic_DF['class'][Cond_Source & (Spectroscopic_DF['class'] == '10')] = -99\n",
    "Spectroscopic_DF['class'][Cond_Source & (Spectroscopic_DF['class'] == '-99')] = -99"
   ]
  },
  {
   "cell_type": "code",
   "execution_count": 50,
   "metadata": {
    "ExecuteTime": {
     "end_time": "2022-06-04T16:22:53.370351Z",
     "start_time": "2022-06-04T16:22:51.520953Z"
    },
    "hidden": true
   },
   "outputs": [],
   "source": [
    "Cond_Source = (Spectroscopic_DF['source'] == 'exopubs')\n",
    "Spectroscopic_DF['class'][Cond_Source & (Spectroscopic_DF['class'] == '0')] = -99"
   ]
  },
  {
   "cell_type": "code",
   "execution_count": 51,
   "metadata": {
    "ExecuteTime": {
     "end_time": "2022-06-04T16:23:13.953365Z",
     "start_time": "2022-06-04T16:22:54.341935Z"
    },
    "hidden": true
   },
   "outputs": [],
   "source": [
    "Cond_Source = (Spectroscopic_DF['source'] == 'J/MNRAS/351/1290/unassoc')\n",
    "Spectroscopic_DF['class'][Cond_Source & (Spectroscopic_DF['class'] == '0')] = -99\n",
    "Spectroscopic_DF['class'][Cond_Source & (Spectroscopic_DF['class'] == '1')] = 'GALAXY'\n",
    "Spectroscopic_DF['class'][Cond_Source & (Spectroscopic_DF['class'] == '2')] = 'GALAXY'\n",
    "Spectroscopic_DF['class'][Cond_Source & (Spectroscopic_DF['class'] == '3')] = 'GALAXY'\n",
    "Spectroscopic_DF['class'][Cond_Source & (Spectroscopic_DF['class'] == '4')] = 'AGN'\n",
    "Spectroscopic_DF['class'][Cond_Source & (Spectroscopic_DF['class'] == '5')] = 'GALAXY_SEYFERT'\n",
    "Spectroscopic_DF['class'][Cond_Source & (Spectroscopic_DF['class'] == '6')] = 'GALAXY_SEYFERT'\n",
    "Spectroscopic_DF['class'][Cond_Source & (Spectroscopic_DF['class'] == '7')] = 'STAR'\n",
    "Spectroscopic_DF['class'][Cond_Source & (Spectroscopic_DF['class'] == '8')] = 'GALAXY_LINER'\n",
    "\n",
    "Cond_Source = (Spectroscopic_DF['source'] == 'J/MNRAS/351/1290/catalog')\n",
    "Spectroscopic_DF['class'][Cond_Source & (Spectroscopic_DF['class'] == '0')] = -99\n",
    "Spectroscopic_DF['class'][Cond_Source & (Spectroscopic_DF['class'] == '1')] = 'GALAXY'\n",
    "Spectroscopic_DF['class'][Cond_Source & (Spectroscopic_DF['class'] == '2')] = 'GALAXY'\n",
    "Spectroscopic_DF['class'][Cond_Source & (Spectroscopic_DF['class'] == '3')] = 'GALAXY'\n",
    "Spectroscopic_DF['class'][Cond_Source & (Spectroscopic_DF['class'] == '4')] = 'AGN'\n",
    "Spectroscopic_DF['class'][Cond_Source & (Spectroscopic_DF['class'] == '5')] = 'GALAXY_SEYFERT'\n",
    "Spectroscopic_DF['class'][Cond_Source & (Spectroscopic_DF['class'] == '6')] = 'GALAXY_SEYFERT'\n",
    "Spectroscopic_DF['class'][Cond_Source & (Spectroscopic_DF['class'] == '7')] = 'STAR'\n",
    "Spectroscopic_DF['class'][Cond_Source & (Spectroscopic_DF['class'] == '8')] = 'GALAXY_LINER'"
   ]
  },
  {
   "cell_type": "code",
   "execution_count": 52,
   "metadata": {
    "ExecuteTime": {
     "end_time": "2022-06-04T16:17:21.985426Z",
     "start_time": "2022-06-04T16:17:13.240771Z"
    },
    "hidden": true
   },
   "outputs": [],
   "source": [
    "Cond_Source = (Spectroscopic_DF['source'] == 'J/A+A/418/885/table1')\n",
    "Spectroscopic_DF['class'][Cond_Source & (Spectroscopic_DF['class'] == '1')] = 'GALAXY'\n",
    "Spectroscopic_DF['class'][Cond_Source & (Spectroscopic_DF['class'] == '2')] = 'GALAXY'\n",
    "Spectroscopic_DF['class'][Cond_Source & (Spectroscopic_DF['class'] == '3')] = 'GALAXY'\n",
    "Spectroscopic_DF['class'][Cond_Source & (Spectroscopic_DF['class'] == '4')] = 'GALAXY'\n",
    "Spectroscopic_DF['class'][Cond_Source & (Spectroscopic_DF['class'] == '5')] = 'GALAXY'\n",
    "Spectroscopic_DF['class'][Cond_Source & (Spectroscopic_DF['class'] == '6')] = 'GALAXY'\n",
    "Spectroscopic_DF['class'][Cond_Source & (Spectroscopic_DF['class'] == '7')] = 'QSO'\n",
    "Spectroscopic_DF['class'][Cond_Source & (Spectroscopic_DF['class'] == '8')] = 'STAR'"
   ]
  },
  {
   "cell_type": "code",
   "execution_count": 53,
   "metadata": {
    "ExecuteTime": {
     "end_time": "2022-06-04T16:20:26.215726Z",
     "start_time": "2022-06-04T16:20:16.500904Z"
    },
    "hidden": true
   },
   "outputs": [],
   "source": [
    "Cond_Source = (Spectroscopic_DF['source'] == 'elaisfbmc')\n",
    "Spectroscopic_DF['class'][Cond_Source & (Spectroscopic_DF['class'] == '0')] = -99\n",
    "Spectroscopic_DF['class'][Cond_Source & (Spectroscopic_DF['class'] == '1')] = 'GALAXY'\n",
    "Spectroscopic_DF['class'][Cond_Source & (Spectroscopic_DF['class'] == '2')] = 'GALAXY'\n",
    "Spectroscopic_DF['class'][Cond_Source & (Spectroscopic_DF['class'] == '3')] = 'GALAXY'\n",
    "Spectroscopic_DF['class'][Cond_Source & (Spectroscopic_DF['class'] == '4')] = 'AGN'\n",
    "Spectroscopic_DF['class'][Cond_Source & (Spectroscopic_DF['class'] == '5')] = 'GALAXY_SEYFERT'\n",
    "Spectroscopic_DF['class'][Cond_Source & (Spectroscopic_DF['class'] == '6')] = 'GALAXY_SEYFERT'\n",
    "Spectroscopic_DF['class'][Cond_Source & (Spectroscopic_DF['class'] == '7')] = 'STAR'\n",
    "Spectroscopic_DF['class'][Cond_Source & (Spectroscopic_DF['class'] == '8')] = 'GALAXY_LINER'"
   ]
  },
  {
   "cell_type": "code",
   "execution_count": 54,
   "metadata": {
    "ExecuteTime": {
     "end_time": "2022-06-04T16:20:33.963993Z",
     "start_time": "2022-06-04T16:20:26.218088Z"
    },
    "hidden": true
   },
   "outputs": [],
   "source": [
    "Cond_Source = (Spectroscopic_DF['source'] == 'elaiss1oid')\n",
    "Spectroscopic_DF['class'][Cond_Source & (Spectroscopic_DF['class'] == '0')] = -99\n",
    "Spectroscopic_DF['class'][Cond_Source & (Spectroscopic_DF['class'] == '1')] = 'AGN'\n",
    "Spectroscopic_DF['class'][Cond_Source & (Spectroscopic_DF['class'] == '2')] = 'GALAXY'\n",
    "Spectroscopic_DF['class'][Cond_Source & (Spectroscopic_DF['class'] == '3')] = 'GALAXY'\n",
    "Spectroscopic_DF['class'][Cond_Source & (Spectroscopic_DF['class'] == '4')] = 'STAR'\n",
    "Spectroscopic_DF['class'][Cond_Source & (Spectroscopic_DF['class'] == '5')] = 'AGN'\n",
    "Spectroscopic_DF['class'][Cond_Source & (Spectroscopic_DF['class'] == '6')] = 'GALAXY'"
   ]
  },
  {
   "cell_type": "code",
   "execution_count": 55,
   "metadata": {
    "ExecuteTime": {
     "end_time": "2022-06-04T16:14:19.530327Z",
     "start_time": "2022-06-04T16:14:17.555812Z"
    },
    "hidden": true
   },
   "outputs": [],
   "source": [
    "Cond_Source = (Spectroscopic_DF['source'] == 'rosnepagn')\n",
    "Spectroscopic_DF['class'][Cond_Source] = 'AGN'\n",
    "\n",
    "Cond_Source = (Spectroscopic_DF['source'] == 'rassdssagn')\n",
    "Spectroscopic_DF['class'][Cond_Source] = 'AGN'"
   ]
  },
  {
   "cell_type": "code",
   "execution_count": 56,
   "metadata": {
    "hidden": true
   },
   "outputs": [
    {
     "data": {
      "text/plain": [
       "array([], dtype=object)"
      ]
     },
     "execution_count": 56,
     "metadata": {},
     "output_type": "execute_result"
    }
   ],
   "source": [
    "Spectroscopic_DF['source'][Spectroscopic_DF['class'] == 'Ia'].unique()\n",
    "\n",
    "Spectroscopic_DF['class'][Spectroscopic_DF['source'] == 'J/ApJS/170/33/table1'].unique()"
   ]
  },
  {
   "cell_type": "code",
   "execution_count": 57,
   "metadata": {
    "ExecuteTime": {
     "end_time": "2022-06-04T17:26:32.613786Z",
     "start_time": "2022-06-04T17:26:31.389271Z"
    },
    "hidden": true
   },
   "outputs": [],
   "source": [
    "Cond = Spectroscopic_DF['class'].value_counts() < 1000\n",
    "LessThan1000 = Spectroscopic_DF['class'].value_counts()[Cond]"
   ]
  },
  {
   "cell_type": "code",
   "execution_count": 58,
   "metadata": {
    "ExecuteTime": {
     "end_time": "2022-06-04T17:52:41.630056Z",
     "start_time": "2022-06-04T17:27:16.444455Z"
    },
    "hidden": true
   },
   "outputs": [],
   "source": [
    "for classif in LessThan1000.index:\n",
    "    Spectroscopic_DF['class'][(Spectroscopic_DF['class'] == classif)] = -99"
   ]
  },
  {
   "cell_type": "code",
   "execution_count": 59,
   "metadata": {
    "ExecuteTime": {
     "end_time": "2022-06-04T17:54:25.400877Z",
     "start_time": "2022-06-04T17:52:41.632576Z"
    },
    "hidden": true
   },
   "outputs": [],
   "source": [
    "Spectroscopic_DF.to_csv('Concatenated_Catalogue_2.csv', index=False)"
   ]
  },
  {
   "cell_type": "markdown",
   "metadata": {
    "heading_collapsed": true,
    "hidden": true
   },
   "source": [
    "## Flags"
   ]
  },
  {
   "cell_type": "code",
   "execution_count": 60,
   "metadata": {
    "ExecuteTime": {
     "end_time": "2022-06-04T19:27:52.723339Z",
     "start_time": "2022-06-04T19:27:31.859638Z"
    },
    "hidden": true
   },
   "outputs": [
    {
     "name": "stderr",
     "output_type": "stream",
     "text": [
      "/tmp/ipykernel_65875/3442220317.py:1: DtypeWarning: Columns (4,5,7) have mixed types. Specify dtype option on import or set low_memory=False.\n",
      "  Spectroscopic_DF = pd.read_csv('Concatenated_Catalogue_2.csv')\n"
     ]
    }
   ],
   "source": [
    "Spectroscopic_DF = pd.read_csv('Concatenated_Catalogue_2.csv')"
   ]
  },
  {
   "cell_type": "code",
   "execution_count": 61,
   "metadata": {
    "ExecuteTime": {
     "end_time": "2022-06-04T19:27:53.832942Z",
     "start_time": "2022-06-04T19:27:52.726324Z"
    },
    "hidden": true
   },
   "outputs": [],
   "source": [
    "Spectroscopic_DF['f_z'][Spectroscopic_DF['f_z'] == '-99'] = -99"
   ]
  },
  {
   "cell_type": "code",
   "execution_count": 62,
   "metadata": {
    "ExecuteTime": {
     "end_time": "2022-06-04T19:27:56.829919Z",
     "start_time": "2022-06-04T19:27:53.835139Z"
    },
    "hidden": true
   },
   "outputs": [],
   "source": [
    "Spectroscopic_DF = Spectroscopic_DF[((Spectroscopic_DF['f_z'] != \"phot\") & \n",
    "                   (Spectroscopic_DF['f_z'] != \"photo-z\"))]"
   ]
  },
  {
   "cell_type": "code",
   "execution_count": 63,
   "metadata": {
    "ExecuteTime": {
     "end_time": "2022-06-04T19:29:07.109903Z",
     "start_time": "2022-06-04T19:27:56.833074Z"
    },
    "hidden": true
   },
   "outputs": [
    {
     "name": "stdout",
     "output_type": "stream",
     "text": [
      "J/AJ/112/407/fbqs\n"
     ]
    },
    {
     "data": {
      "text/plain": [
       "2404979    NaN\n",
       "2404980    NaN\n",
       "2404981    NaN\n",
       "2404982    NaN\n",
       "2404983    NaN\n",
       "          ... \n",
       "2405043    NaN\n",
       "2405044    NaN\n",
       "2405045    NaN\n",
       "2405046    NaN\n",
       "2405047    NaN\n",
       "Name: f_z, Length: 69, dtype: object"
      ]
     },
     "metadata": {},
     "output_type": "display_data"
    },
    {
     "name": "stdout",
     "output_type": "stream",
     "text": [
      "J/A+A/482/419/data\n"
     ]
    },
    {
     "data": {
      "text/plain": [
       "2491314     ::\n",
       "2491315    NaN\n",
       "2491316    NaN\n",
       "2491317    NaN\n",
       "2491318    NaN\n",
       "          ... \n",
       "2492657    NaN\n",
       "2492658    NaN\n",
       "2492659    NaN\n",
       "2492660    NaN\n",
       "2492661    NaN\n",
       "Name: f_z, Length: 1348, dtype: object"
      ]
     },
     "metadata": {},
     "output_type": "display_data"
    },
    {
     "name": "stdout",
     "output_type": "stream",
     "text": [
      "VII/276/table12\n"
     ]
    },
    {
     "data": {
      "text/plain": [
       "2612254    NaN\n",
       "2612255    NaN\n",
       "2612256    NaN\n",
       "2612257    NaN\n",
       "2612258    NaN\n",
       "          ... \n",
       "2612844    NaN\n",
       "2612845    NaN\n",
       "2612846    NaN\n",
       "2612847    NaN\n",
       "2612848    NaN\n",
       "Name: f_z, Length: 595, dtype: object"
      ]
     },
     "metadata": {},
     "output_type": "display_data"
    },
    {
     "name": "stdout",
     "output_type": "stream",
     "text": [
      "J/MNRAS/372/741/table3\n"
     ]
    },
    {
     "data": {
      "text/plain": [
       "2758207    NaN\n",
       "2758208    NaN\n",
       "2758209    NaN\n",
       "2758210    NaN\n",
       "2758211    NaN\n",
       "          ... \n",
       "2758265    NaN\n",
       "2758266    NaN\n",
       "2758267    NaN\n",
       "2758268    NaN\n",
       "2758269    NaN\n",
       "Name: f_z, Length: 63, dtype: object"
      ]
     },
     "metadata": {},
     "output_type": "display_data"
    },
    {
     "name": "stdout",
     "output_type": "stream",
     "text": [
      "J/A+A/569/A95/tablea2\n"
     ]
    },
    {
     "data": {
      "text/plain": [
       "3226985    NaN\n",
       "3226986    NaN\n",
       "3226987    NaN\n",
       "3226988    NaN\n",
       "3226989    NaN\n",
       "          ... \n",
       "3227106    NaN\n",
       "3227107    NaN\n",
       "3227108    NaN\n",
       "3227109      >\n",
       "3227110    NaN\n",
       "Name: f_z, Length: 126, dtype: object"
      ]
     },
     "metadata": {},
     "output_type": "display_data"
    },
    {
     "name": "stdout",
     "output_type": "stream",
     "text": [
      "J/ApJ/731/103/GRBs\n"
     ]
    },
    {
     "data": {
      "text/plain": [
       "3507484    NaN\n",
       "3507485    NaN\n",
       "3507486    NaN\n",
       "3507487    NaN\n",
       "3507488    NaN\n",
       "          ... \n",
       "3507564    NaN\n",
       "3507565    NaN\n",
       "3507566    NaN\n",
       "3507567    NaN\n",
       "3507568    NaN\n",
       "Name: f_z, Length: 85, dtype: object"
      ]
     },
     "metadata": {},
     "output_type": "display_data"
    },
    {
     "name": "stdout",
     "output_type": "stream",
     "text": [
      "J/ApJ/634/861/table4\n"
     ]
    },
    {
     "data": {
      "text/plain": [
       "4922015    NaN\n",
       "4922016    NaN\n",
       "4922017    NaN\n",
       "4922018    NaN\n",
       "4922019    NaN\n",
       "          ... \n",
       "4922087    NaN\n",
       "4922088    NaN\n",
       "4922089    NaN\n",
       "4922090    NaN\n",
       "4922091    NaN\n",
       "Name: f_z, Length: 77, dtype: object"
      ]
     },
     "metadata": {},
     "output_type": "display_data"
    },
    {
     "name": "stdout",
     "output_type": "stream",
     "text": [
      "J/A+A/427/397/cl1216\n"
     ]
    },
    {
     "data": {
      "text/plain": [
       "6510068    NaN\n",
       "6510069     ::\n",
       "6510070      :\n",
       "6510071    NaN\n",
       "6510072    NaN\n",
       "          ... \n",
       "6510194    NaN\n",
       "6510195    NaN\n",
       "6510196    NaN\n",
       "6510197    NaN\n",
       "6510198    NaN\n",
       "Name: f_z, Length: 131, dtype: object"
      ]
     },
     "metadata": {},
     "output_type": "display_data"
    },
    {
     "name": "stdout",
     "output_type": "stream",
     "text": [
      "J/ApJ/764/135/table3\n"
     ]
    },
    {
     "data": {
      "text/plain": [
       "6516274      :\n",
       "6516275    NaN\n",
       "6516276    NaN\n",
       "6516277    NaN\n",
       "6516278    NaN\n",
       "          ... \n",
       "6516364    NaN\n",
       "6516365    NaN\n",
       "6516366    NaN\n",
       "6516367    NaN\n",
       "6516368    NaN\n",
       "Name: f_z, Length: 95, dtype: object"
      ]
     },
     "metadata": {},
     "output_type": "display_data"
    },
    {
     "name": "stdout",
     "output_type": "stream",
     "text": [
      "J/A+AS/96/389/table2\n"
     ]
    },
    {
     "data": {
      "text/plain": [
       "6537922    NaN\n",
       "6537923    NaN\n",
       "6537924    NaN\n",
       "6537925    NaN\n",
       "6537926    NaN\n",
       "          ... \n",
       "6538415    NaN\n",
       "6538416    NaN\n",
       "6538417    NaN\n",
       "6538418    NaN\n",
       "6538419    NaN\n",
       "Name: f_z, Length: 498, dtype: object"
      ]
     },
     "metadata": {},
     "output_type": "display_data"
    },
    {
     "name": "stdout",
     "output_type": "stream",
     "text": [
      "J/A+A/427/397/cl105412\n"
     ]
    },
    {
     "data": {
      "text/plain": [
       "6615724    NaN\n",
       "6615725    NaN\n",
       "6615726    NaN\n",
       "6615727    NaN\n",
       "6615728    NaN\n",
       "          ... \n",
       "6615831    NaN\n",
       "6615832    NaN\n",
       "6615833    NaN\n",
       "6615834    NaN\n",
       "6615835    NaN\n",
       "Name: f_z, Length: 112, dtype: object"
      ]
     },
     "metadata": {},
     "output_type": "display_data"
    },
    {
     "name": "stdout",
     "output_type": "stream",
     "text": [
      "J/A+A/427/397/cl1232\n"
     ]
    },
    {
     "data": {
      "text/plain": [
       "6655324     ::\n",
       "6655325    NaN\n",
       "6655326    NaN\n",
       "6655327    NaN\n",
       "6655328    NaN\n",
       "          ... \n",
       "6655426    NaN\n",
       "6655427    NaN\n",
       "6655428    NaN\n",
       "6655429    NaN\n",
       "6655430    NaN\n",
       "Name: f_z, Length: 107, dtype: object"
      ]
     },
     "metadata": {},
     "output_type": "display_data"
    },
    {
     "name": "stdout",
     "output_type": "stream",
     "text": [
      "J/ApJS/238/9/table1\n"
     ]
    },
    {
     "data": {
      "text/plain": [
       "6661792    NaN\n",
       "6661793    NaN\n",
       "6661794    NaN\n",
       "6661795    NaN\n",
       "6661796    NaN\n",
       "          ... \n",
       "6662136    NaN\n",
       "6662137    NaN\n",
       "6662138    NaN\n",
       "6662139    NaN\n",
       "6662140    NaN\n",
       "Name: f_z, Length: 349, dtype: object"
      ]
     },
     "metadata": {},
     "output_type": "display_data"
    },
    {
     "name": "stdout",
     "output_type": "stream",
     "text": [
      "J/MNRAS/459/1626/table46\n"
     ]
    },
    {
     "data": {
      "text/plain": [
       "6662141    NaN\n",
       "6662142    NaN\n",
       "6662143    NaN\n",
       "6662144      ~\n",
       "6662145    NaN\n",
       "          ... \n",
       "6662399      ~\n",
       "6662400      ~\n",
       "6662401      ~\n",
       "6662402      ~\n",
       "6662403      ~\n",
       "Name: f_z, Length: 263, dtype: object"
      ]
     },
     "metadata": {},
     "output_type": "display_data"
    },
    {
     "name": "stdout",
     "output_type": "stream",
     "text": [
      "J/A+A/507/1277/table1\n"
     ]
    },
    {
     "data": {
      "text/plain": [
       "6744500    NaN\n",
       "6744501    NaN\n",
       "6744502    NaN\n",
       "6744503    NaN\n",
       "6744504    NaN\n",
       "          ... \n",
       "6744674    NaN\n",
       "6744675    NaN\n",
       "6744676    NaN\n",
       "6744677    NaN\n",
       "6744678    NaN\n",
       "Name: f_z, Length: 179, dtype: object"
      ]
     },
     "metadata": {},
     "output_type": "display_data"
    },
    {
     "name": "stdout",
     "output_type": "stream",
     "text": [
      "-99\n"
     ]
    },
    {
     "data": {
      "text/plain": [
       "20947      -99\n",
       "20982      -99\n",
       "20988      -99\n",
       "20992      -99\n",
       "20993      -99\n",
       "          ... \n",
       "7115928    NaN\n",
       "7115929    NaN\n",
       "7115930    NaN\n",
       "7115931    NaN\n",
       "7115932    NaN\n",
       "Name: f_z, Length: 1193, dtype: object"
      ]
     },
     "metadata": {},
     "output_type": "display_data"
    },
    {
     "name": "stdout",
     "output_type": "stream",
     "text": [
      "J/AJ/112/407/egal\n"
     ]
    },
    {
     "data": {
      "text/plain": [
       "7115933    NaN\n",
       "7115934    NaN\n",
       "7115935    NaN\n",
       "7115936    NaN\n",
       "7115937    NaN\n",
       "7115938    NaN\n",
       "7115939    NaN\n",
       "7115940    NaN\n",
       "7115941    NaN\n",
       "7115942    NaN\n",
       "7115943    NaN\n",
       "7115944    NaN\n",
       "7115945      :\n",
       "7115946    NaN\n",
       "7115947    NaN\n",
       "7115948    NaN\n",
       "7115949    NaN\n",
       "7115950    NaN\n",
       "7115951    NaN\n",
       "7115952    NaN\n",
       "7115953    NaN\n",
       "7115954    NaN\n",
       "7115955    NaN\n",
       "7115956    NaN\n",
       "7115957    NaN\n",
       "7115958    NaN\n",
       "7115959    NaN\n",
       "7115960    NaN\n",
       "7115961    NaN\n",
       "7115962    NaN\n",
       "7115963    NaN\n",
       "7115964    NaN\n",
       "7115965    NaN\n",
       "7115966    NaN\n",
       "7115967    NaN\n",
       "7115968    NaN\n",
       "7115969    NaN\n",
       "Name: f_z, dtype: object"
      ]
     },
     "metadata": {},
     "output_type": "display_data"
    },
    {
     "name": "stdout",
     "output_type": "stream",
     "text": [
      "J/ApJ/678/635/binQSO\n"
     ]
    },
    {
     "data": {
      "text/plain": [
       "7552773    NaN\n",
       "7552774    NaN\n",
       "7552775    NaN\n",
       "7552776    NaN\n",
       "7552777    NaN\n",
       "7552778      ?\n",
       "7552779    NaN\n",
       "7552780    NaN\n",
       "7552781      ?\n",
       "7552782    NaN\n",
       "Name: f_z, dtype: object"
      ]
     },
     "metadata": {},
     "output_type": "display_data"
    },
    {
     "name": "stdout",
     "output_type": "stream",
     "text": [
      "J/A+A/427/397/cl1040\n"
     ]
    },
    {
     "data": {
      "text/plain": [
       "7707240    NaN\n",
       "7707241    NaN\n",
       "7707242      :\n",
       "7707243    NaN\n",
       "7707244    NaN\n",
       "          ... \n",
       "7707374      :\n",
       "7707375    NaN\n",
       "7707376    NaN\n",
       "7707377    NaN\n",
       "7707378    NaN\n",
       "Name: f_z, Length: 139, dtype: object"
      ]
     },
     "metadata": {},
     "output_type": "display_data"
    },
    {
     "name": "stdout",
     "output_type": "stream",
     "text": [
      "VII/276/table6\n"
     ]
    },
    {
     "data": {
      "text/plain": [
       "7707415    NaN\n",
       "7707416    NaN\n",
       "7707417    NaN\n",
       "7707418    NaN\n",
       "7707419    NaN\n",
       "          ... \n",
       "7709113    NaN\n",
       "7709114    NaN\n",
       "7709115    NaN\n",
       "7709116    NaN\n",
       "7709117    NaN\n",
       "Name: f_z, Length: 1703, dtype: object"
      ]
     },
     "metadata": {},
     "output_type": "display_data"
    }
   ],
   "source": [
    "SourcesWithFlag = Spectroscopic_DF[(Spectroscopic_DF['f_z'] != -99)]['source'].unique()\n",
    "\n",
    "for source in SourcesWithFlag:\n",
    "    print(source)\n",
    "    Cond = (Spectroscopic_DF['source'] == source)\n",
    "    display(Spectroscopic_DF[Cond]['f_z'])"
   ]
  },
  {
   "cell_type": "code",
   "execution_count": 64,
   "metadata": {
    "ExecuteTime": {
     "end_time": "2022-06-04T19:35:42.689895Z",
     "start_time": "2022-06-04T19:29:07.112147Z"
    },
    "hidden": true
   },
   "outputs": [
    {
     "ename": "ValueError",
     "evalue": "could not convert string to float: '>'",
     "output_type": "error",
     "traceback": [
      "\u001b[0;31m---------------------------------------------------------------------------\u001b[0m",
      "\u001b[0;31mValueError\u001b[0m                                Traceback (most recent call last)",
      "Input \u001b[0;32mIn [64]\u001b[0m, in \u001b[0;36m<cell line: 116>\u001b[0;34m()\u001b[0m\n\u001b[1;32m    113\u001b[0m Spectroscopic_DF\u001b[38;5;241m.\u001b[39mdrop(Spectroscopic_DF[Cond_Source \u001b[38;5;241m&\u001b[39m Cond_Flag]\u001b[38;5;241m.\u001b[39mindex, inplace\u001b[38;5;241m=\u001b[39m\u001b[38;5;28;01mTrue\u001b[39;00m)\n\u001b[1;32m    115\u001b[0m Cond_Source \u001b[38;5;241m=\u001b[39m (Spectroscopic_DF[\u001b[38;5;124m'\u001b[39m\u001b[38;5;124msource\u001b[39m\u001b[38;5;124m'\u001b[39m] \u001b[38;5;241m==\u001b[39m \u001b[38;5;124m'\u001b[39m\u001b[38;5;124mJ/A+A/569/A95/tablea2\u001b[39m\u001b[38;5;124m'\u001b[39m)\n\u001b[0;32m--> 116\u001b[0m Cond_Flag   \u001b[38;5;241m=\u001b[39m \u001b[38;5;241m~\u001b[39m(\u001b[43mSpectroscopic_DF\u001b[49m\u001b[43m[\u001b[49m\u001b[43mCond_Source\u001b[49m\u001b[43m]\u001b[49m\u001b[43m[\u001b[49m\u001b[38;5;124;43m'\u001b[39;49m\u001b[38;5;124;43mf_z\u001b[39;49m\u001b[38;5;124;43m'\u001b[39;49m\u001b[43m]\u001b[49m\u001b[38;5;241;43m.\u001b[39;49m\u001b[43mastype\u001b[49m\u001b[43m(\u001b[49m\u001b[38;5;28;43mfloat\u001b[39;49m\u001b[43m)\u001b[49m\u001b[38;5;241m.\u001b[39mbetween(\u001b[38;5;241m3\u001b[39m, \u001b[38;5;241m4\u001b[39m))\n\u001b[1;32m    117\u001b[0m Spectroscopic_DF\u001b[38;5;241m.\u001b[39mdrop(Spectroscopic_DF[Cond_Source \u001b[38;5;241m&\u001b[39m Cond_Flag]\u001b[38;5;241m.\u001b[39mindex, inplace\u001b[38;5;241m=\u001b[39m\u001b[38;5;28;01mTrue\u001b[39;00m)\n\u001b[1;32m    119\u001b[0m Cond_Source \u001b[38;5;241m=\u001b[39m (Spectroscopic_DF[\u001b[38;5;124m'\u001b[39m\u001b[38;5;124msource\u001b[39m\u001b[38;5;124m'\u001b[39m] \u001b[38;5;241m==\u001b[39m \u001b[38;5;124m'\u001b[39m\u001b[38;5;124mJ/A+AS/96/389/table2\u001b[39m\u001b[38;5;124m'\u001b[39m)\n",
      "File \u001b[0;32m~/anaconda3/lib/python3.9/site-packages/pandas/core/generic.py:5912\u001b[0m, in \u001b[0;36mNDFrame.astype\u001b[0;34m(self, dtype, copy, errors)\u001b[0m\n\u001b[1;32m   5905\u001b[0m     results \u001b[38;5;241m=\u001b[39m [\n\u001b[1;32m   5906\u001b[0m         \u001b[38;5;28mself\u001b[39m\u001b[38;5;241m.\u001b[39miloc[:, i]\u001b[38;5;241m.\u001b[39mastype(dtype, copy\u001b[38;5;241m=\u001b[39mcopy)\n\u001b[1;32m   5907\u001b[0m         \u001b[38;5;28;01mfor\u001b[39;00m i \u001b[38;5;129;01min\u001b[39;00m \u001b[38;5;28mrange\u001b[39m(\u001b[38;5;28mlen\u001b[39m(\u001b[38;5;28mself\u001b[39m\u001b[38;5;241m.\u001b[39mcolumns))\n\u001b[1;32m   5908\u001b[0m     ]\n\u001b[1;32m   5910\u001b[0m \u001b[38;5;28;01melse\u001b[39;00m:\n\u001b[1;32m   5911\u001b[0m     \u001b[38;5;66;03m# else, only a single dtype is given\u001b[39;00m\n\u001b[0;32m-> 5912\u001b[0m     new_data \u001b[38;5;241m=\u001b[39m \u001b[38;5;28;43mself\u001b[39;49m\u001b[38;5;241;43m.\u001b[39;49m\u001b[43m_mgr\u001b[49m\u001b[38;5;241;43m.\u001b[39;49m\u001b[43mastype\u001b[49m\u001b[43m(\u001b[49m\u001b[43mdtype\u001b[49m\u001b[38;5;241;43m=\u001b[39;49m\u001b[43mdtype\u001b[49m\u001b[43m,\u001b[49m\u001b[43m \u001b[49m\u001b[43mcopy\u001b[49m\u001b[38;5;241;43m=\u001b[39;49m\u001b[43mcopy\u001b[49m\u001b[43m,\u001b[49m\u001b[43m \u001b[49m\u001b[43merrors\u001b[49m\u001b[38;5;241;43m=\u001b[39;49m\u001b[43merrors\u001b[49m\u001b[43m)\u001b[49m\n\u001b[1;32m   5913\u001b[0m     \u001b[38;5;28;01mreturn\u001b[39;00m \u001b[38;5;28mself\u001b[39m\u001b[38;5;241m.\u001b[39m_constructor(new_data)\u001b[38;5;241m.\u001b[39m__finalize__(\u001b[38;5;28mself\u001b[39m, method\u001b[38;5;241m=\u001b[39m\u001b[38;5;124m\"\u001b[39m\u001b[38;5;124mastype\u001b[39m\u001b[38;5;124m\"\u001b[39m)\n\u001b[1;32m   5915\u001b[0m \u001b[38;5;66;03m# GH 33113: handle empty frame or series\u001b[39;00m\n",
      "File \u001b[0;32m~/anaconda3/lib/python3.9/site-packages/pandas/core/internals/managers.py:419\u001b[0m, in \u001b[0;36mBaseBlockManager.astype\u001b[0;34m(self, dtype, copy, errors)\u001b[0m\n\u001b[1;32m    418\u001b[0m \u001b[38;5;28;01mdef\u001b[39;00m \u001b[38;5;21mastype\u001b[39m(\u001b[38;5;28mself\u001b[39m: T, dtype, copy: \u001b[38;5;28mbool\u001b[39m \u001b[38;5;241m=\u001b[39m \u001b[38;5;28;01mFalse\u001b[39;00m, errors: \u001b[38;5;28mstr\u001b[39m \u001b[38;5;241m=\u001b[39m \u001b[38;5;124m\"\u001b[39m\u001b[38;5;124mraise\u001b[39m\u001b[38;5;124m\"\u001b[39m) \u001b[38;5;241m-\u001b[39m\u001b[38;5;241m>\u001b[39m T:\n\u001b[0;32m--> 419\u001b[0m     \u001b[38;5;28;01mreturn\u001b[39;00m \u001b[38;5;28;43mself\u001b[39;49m\u001b[38;5;241;43m.\u001b[39;49m\u001b[43mapply\u001b[49m\u001b[43m(\u001b[49m\u001b[38;5;124;43m\"\u001b[39;49m\u001b[38;5;124;43mastype\u001b[39;49m\u001b[38;5;124;43m\"\u001b[39;49m\u001b[43m,\u001b[49m\u001b[43m \u001b[49m\u001b[43mdtype\u001b[49m\u001b[38;5;241;43m=\u001b[39;49m\u001b[43mdtype\u001b[49m\u001b[43m,\u001b[49m\u001b[43m \u001b[49m\u001b[43mcopy\u001b[49m\u001b[38;5;241;43m=\u001b[39;49m\u001b[43mcopy\u001b[49m\u001b[43m,\u001b[49m\u001b[43m \u001b[49m\u001b[43merrors\u001b[49m\u001b[38;5;241;43m=\u001b[39;49m\u001b[43merrors\u001b[49m\u001b[43m)\u001b[49m\n",
      "File \u001b[0;32m~/anaconda3/lib/python3.9/site-packages/pandas/core/internals/managers.py:304\u001b[0m, in \u001b[0;36mBaseBlockManager.apply\u001b[0;34m(self, f, align_keys, ignore_failures, **kwargs)\u001b[0m\n\u001b[1;32m    302\u001b[0m         applied \u001b[38;5;241m=\u001b[39m b\u001b[38;5;241m.\u001b[39mapply(f, \u001b[38;5;241m*\u001b[39m\u001b[38;5;241m*\u001b[39mkwargs)\n\u001b[1;32m    303\u001b[0m     \u001b[38;5;28;01melse\u001b[39;00m:\n\u001b[0;32m--> 304\u001b[0m         applied \u001b[38;5;241m=\u001b[39m \u001b[38;5;28;43mgetattr\u001b[39;49m\u001b[43m(\u001b[49m\u001b[43mb\u001b[49m\u001b[43m,\u001b[49m\u001b[43m \u001b[49m\u001b[43mf\u001b[49m\u001b[43m)\u001b[49m\u001b[43m(\u001b[49m\u001b[38;5;241;43m*\u001b[39;49m\u001b[38;5;241;43m*\u001b[39;49m\u001b[43mkwargs\u001b[49m\u001b[43m)\u001b[49m\n\u001b[1;32m    305\u001b[0m \u001b[38;5;28;01mexcept\u001b[39;00m (\u001b[38;5;167;01mTypeError\u001b[39;00m, \u001b[38;5;167;01mNotImplementedError\u001b[39;00m):\n\u001b[1;32m    306\u001b[0m     \u001b[38;5;28;01mif\u001b[39;00m \u001b[38;5;129;01mnot\u001b[39;00m ignore_failures:\n",
      "File \u001b[0;32m~/anaconda3/lib/python3.9/site-packages/pandas/core/internals/blocks.py:580\u001b[0m, in \u001b[0;36mBlock.astype\u001b[0;34m(self, dtype, copy, errors)\u001b[0m\n\u001b[1;32m    562\u001b[0m \u001b[38;5;124;03m\"\"\"\u001b[39;00m\n\u001b[1;32m    563\u001b[0m \u001b[38;5;124;03mCoerce to the new dtype.\u001b[39;00m\n\u001b[1;32m    564\u001b[0m \n\u001b[0;32m   (...)\u001b[0m\n\u001b[1;32m    576\u001b[0m \u001b[38;5;124;03mBlock\u001b[39;00m\n\u001b[1;32m    577\u001b[0m \u001b[38;5;124;03m\"\"\"\u001b[39;00m\n\u001b[1;32m    578\u001b[0m values \u001b[38;5;241m=\u001b[39m \u001b[38;5;28mself\u001b[39m\u001b[38;5;241m.\u001b[39mvalues\n\u001b[0;32m--> 580\u001b[0m new_values \u001b[38;5;241m=\u001b[39m \u001b[43mastype_array_safe\u001b[49m\u001b[43m(\u001b[49m\u001b[43mvalues\u001b[49m\u001b[43m,\u001b[49m\u001b[43m \u001b[49m\u001b[43mdtype\u001b[49m\u001b[43m,\u001b[49m\u001b[43m \u001b[49m\u001b[43mcopy\u001b[49m\u001b[38;5;241;43m=\u001b[39;49m\u001b[43mcopy\u001b[49m\u001b[43m,\u001b[49m\u001b[43m \u001b[49m\u001b[43merrors\u001b[49m\u001b[38;5;241;43m=\u001b[39;49m\u001b[43merrors\u001b[49m\u001b[43m)\u001b[49m\n\u001b[1;32m    582\u001b[0m new_values \u001b[38;5;241m=\u001b[39m maybe_coerce_values(new_values)\n\u001b[1;32m    583\u001b[0m newb \u001b[38;5;241m=\u001b[39m \u001b[38;5;28mself\u001b[39m\u001b[38;5;241m.\u001b[39mmake_block(new_values)\n",
      "File \u001b[0;32m~/anaconda3/lib/python3.9/site-packages/pandas/core/dtypes/cast.py:1292\u001b[0m, in \u001b[0;36mastype_array_safe\u001b[0;34m(values, dtype, copy, errors)\u001b[0m\n\u001b[1;32m   1289\u001b[0m     dtype \u001b[38;5;241m=\u001b[39m dtype\u001b[38;5;241m.\u001b[39mnumpy_dtype\n\u001b[1;32m   1291\u001b[0m \u001b[38;5;28;01mtry\u001b[39;00m:\n\u001b[0;32m-> 1292\u001b[0m     new_values \u001b[38;5;241m=\u001b[39m \u001b[43mastype_array\u001b[49m\u001b[43m(\u001b[49m\u001b[43mvalues\u001b[49m\u001b[43m,\u001b[49m\u001b[43m \u001b[49m\u001b[43mdtype\u001b[49m\u001b[43m,\u001b[49m\u001b[43m \u001b[49m\u001b[43mcopy\u001b[49m\u001b[38;5;241;43m=\u001b[39;49m\u001b[43mcopy\u001b[49m\u001b[43m)\u001b[49m\n\u001b[1;32m   1293\u001b[0m \u001b[38;5;28;01mexcept\u001b[39;00m (\u001b[38;5;167;01mValueError\u001b[39;00m, \u001b[38;5;167;01mTypeError\u001b[39;00m):\n\u001b[1;32m   1294\u001b[0m     \u001b[38;5;66;03m# e.g. astype_nansafe can fail on object-dtype of strings\u001b[39;00m\n\u001b[1;32m   1295\u001b[0m     \u001b[38;5;66;03m#  trying to convert to float\u001b[39;00m\n\u001b[1;32m   1296\u001b[0m     \u001b[38;5;28;01mif\u001b[39;00m errors \u001b[38;5;241m==\u001b[39m \u001b[38;5;124m\"\u001b[39m\u001b[38;5;124mignore\u001b[39m\u001b[38;5;124m\"\u001b[39m:\n",
      "File \u001b[0;32m~/anaconda3/lib/python3.9/site-packages/pandas/core/dtypes/cast.py:1237\u001b[0m, in \u001b[0;36mastype_array\u001b[0;34m(values, dtype, copy)\u001b[0m\n\u001b[1;32m   1234\u001b[0m     values \u001b[38;5;241m=\u001b[39m values\u001b[38;5;241m.\u001b[39mastype(dtype, copy\u001b[38;5;241m=\u001b[39mcopy)\n\u001b[1;32m   1236\u001b[0m \u001b[38;5;28;01melse\u001b[39;00m:\n\u001b[0;32m-> 1237\u001b[0m     values \u001b[38;5;241m=\u001b[39m \u001b[43mastype_nansafe\u001b[49m\u001b[43m(\u001b[49m\u001b[43mvalues\u001b[49m\u001b[43m,\u001b[49m\u001b[43m \u001b[49m\u001b[43mdtype\u001b[49m\u001b[43m,\u001b[49m\u001b[43m \u001b[49m\u001b[43mcopy\u001b[49m\u001b[38;5;241;43m=\u001b[39;49m\u001b[43mcopy\u001b[49m\u001b[43m)\u001b[49m\n\u001b[1;32m   1239\u001b[0m \u001b[38;5;66;03m# in pandas we don't store numpy str dtypes, so convert to object\u001b[39;00m\n\u001b[1;32m   1240\u001b[0m \u001b[38;5;28;01mif\u001b[39;00m \u001b[38;5;28misinstance\u001b[39m(dtype, np\u001b[38;5;241m.\u001b[39mdtype) \u001b[38;5;129;01mand\u001b[39;00m \u001b[38;5;28missubclass\u001b[39m(values\u001b[38;5;241m.\u001b[39mdtype\u001b[38;5;241m.\u001b[39mtype, \u001b[38;5;28mstr\u001b[39m):\n",
      "File \u001b[0;32m~/anaconda3/lib/python3.9/site-packages/pandas/core/dtypes/cast.py:1181\u001b[0m, in \u001b[0;36mastype_nansafe\u001b[0;34m(arr, dtype, copy, skipna)\u001b[0m\n\u001b[1;32m   1177\u001b[0m     \u001b[38;5;28;01mraise\u001b[39;00m \u001b[38;5;167;01mValueError\u001b[39;00m(msg)\n\u001b[1;32m   1179\u001b[0m \u001b[38;5;28;01mif\u001b[39;00m copy \u001b[38;5;129;01mor\u001b[39;00m is_object_dtype(arr\u001b[38;5;241m.\u001b[39mdtype) \u001b[38;5;129;01mor\u001b[39;00m is_object_dtype(dtype):\n\u001b[1;32m   1180\u001b[0m     \u001b[38;5;66;03m# Explicit copy, or required since NumPy can't view from / to object.\u001b[39;00m\n\u001b[0;32m-> 1181\u001b[0m     \u001b[38;5;28;01mreturn\u001b[39;00m \u001b[43marr\u001b[49m\u001b[38;5;241;43m.\u001b[39;49m\u001b[43mastype\u001b[49m\u001b[43m(\u001b[49m\u001b[43mdtype\u001b[49m\u001b[43m,\u001b[49m\u001b[43m \u001b[49m\u001b[43mcopy\u001b[49m\u001b[38;5;241;43m=\u001b[39;49m\u001b[38;5;28;43;01mTrue\u001b[39;49;00m\u001b[43m)\u001b[49m\n\u001b[1;32m   1183\u001b[0m \u001b[38;5;28;01mreturn\u001b[39;00m arr\u001b[38;5;241m.\u001b[39mastype(dtype, copy\u001b[38;5;241m=\u001b[39mcopy)\n",
      "\u001b[0;31mValueError\u001b[0m: could not convert string to float: '>'"
     ]
    }
   ],
   "source": [
    "# Columns to remove\n",
    "Cond_Source = (Spectroscopic_DF['source'] == 'actszclust')\n",
    "Cond_Flag   = ~(Spectroscopic_DF[Cond_Source]['f_z'] == 'spec')\n",
    "Spectroscopic_DF.drop(Spectroscopic_DF[Cond_Source & Cond_Flag].index, inplace=True)\n",
    "\n",
    "Cond_Source = (Spectroscopic_DF['source'] == 'aegisxdcxo')\n",
    "Cond_Flag   = ~(Spectroscopic_DF[Cond_Source]['f_z'].astype(float) >= 3)\n",
    "Spectroscopic_DF.drop(Spectroscopic_DF[Cond_Source & Cond_Flag].index, inplace=True)\n",
    "\n",
    "Cond_Source = (Spectroscopic_DF['source'] == 'allwiseagn')\n",
    "Cond_Flag   = ~(Spectroscopic_DF[Cond_Source]['f_z'] == 's')\n",
    "Spectroscopic_DF.drop(Spectroscopic_DF[Cond_Source & Cond_Flag].index, inplace=True)\n",
    "\n",
    "Cond_Source = (Spectroscopic_DF['source'] == 'ascaegclus')\n",
    "Cond_Flag   = Spectroscopic_DF[Cond_Source]['f_z'] == 'E'\n",
    "Spectroscopic_DF.drop(Spectroscopic_DF[Cond_Source & Cond_Flag].index, inplace=True)\n",
    "\n",
    "Cond_Source = (Spectroscopic_DF['source'] == 'ccosmosoid')\n",
    "Cond_Flag   = ~(Spectroscopic_DF[Cond_Source]['f_z'].astype(float).between(2,5))\n",
    "Spectroscopic_DF.drop(Spectroscopic_DF[Cond_Source & Cond_Flag].index, inplace=True)\n",
    "\n",
    "Cond_Source = (Spectroscopic_DF['source'] == 'ccosrssfag')\n",
    "Cond_Flag   = Spectroscopic_DF[Cond_Source]['f_z'] == 'a'\n",
    "Spectroscopic_DF.drop(Spectroscopic_DF[Cond_Source & Cond_Flag].index, inplace=True)\n",
    "\n",
    "Cond_Source = (Spectroscopic_DF['source'] == 'cdfsagncxo')\n",
    "Cond_Flag   = ~(Spectroscopic_DF[Cond_Source]['f_z'].astype(float) >= 1)\n",
    "Spectroscopic_DF.drop(Spectroscopic_DF[Cond_Source & Cond_Flag].index, inplace=True)\n",
    "\n",
    "Cond_Source = (Spectroscopic_DF['source'] == 'chandfs4ms')\n",
    "Cond_Flag   = Spectroscopic_DF[Cond_Source]['f_z'] == 'Insecure'\n",
    "Spectroscopic_DF.drop(Spectroscopic_DF[Cond_Source & Cond_Flag].index, inplace=True)\n",
    "\n",
    "Cond_Source = (Spectroscopic_DF['source'] == 'chandfs7ms')\n",
    "Cond_Flag   = Spectroscopic_DF[Cond_Source]['f_z'] == 'Insecure'\n",
    "Spectroscopic_DF.drop(Spectroscopic_DF[Cond_Source & Cond_Flag].index, inplace=True)\n",
    "\n",
    "Cond_Source = (Spectroscopic_DF['source'] == 'cosxfirmwc')\n",
    "Cond_Flag   = Spectroscopic_DF[Cond_Source]['f_z'] == 'phot'\n",
    "Spectroscopic_DF.drop(Spectroscopic_DF[Cond_Source & Cond_Flag].index, inplace=True)\n",
    "\n",
    "Cond_Source = (Spectroscopic_DF['source'] == 'dxrbs')\n",
    "Cond_Flag   = Spectroscopic_DF[Cond_Source]['f_z'] == '?'\n",
    "Spectroscopic_DF.drop(Spectroscopic_DF[Cond_Source & Cond_Flag].index, inplace=True)\n",
    "\n",
    "Cond_Source = (Spectroscopic_DF['source'] == 'ecdfsnew')\n",
    "Cond_Flag   = ~(Spectroscopic_DF[Cond_Source]['f_z'] == 'Secure')\n",
    "Spectroscopic_DF.drop(Spectroscopic_DF[Cond_Source & Cond_Flag].index, inplace=True)\n",
    "\n",
    "Cond_Source = (Spectroscopic_DF['source'] == 'ecdfsoid2')\n",
    "Cond_Flag   = ~(Spectroscopic_DF[Cond_Source]['f_z'].astype(float) >= 1)\n",
    "Spectroscopic_DF.drop(Spectroscopic_DF[Cond_Source & Cond_Flag].index, inplace=True)\n",
    "\n",
    "# Cond_Source = (Spectroscopic_DF['source'] == 'ext.spec_2dflens')\n",
    "# Cond_Flag   = Spectroscopic_DF[Cond_Source]['f_z'] == ''\n",
    "\n",
    "Cond_Source = (Spectroscopic_DF['source'] == 'fermilatra')\n",
    "Cond_Flag   = Spectroscopic_DF[Cond_Source]['f_z'] == '?'\n",
    "Spectroscopic_DF.drop(Spectroscopic_DF[Cond_Source & Cond_Flag].index, inplace=True)\n",
    "\n",
    "Cond_Source = (Spectroscopic_DF['source'] == 'fermilhesc')\n",
    "Cond_Flag   = Spectroscopic_DF[Cond_Source]['f_z'] == '?'\n",
    "Spectroscopic_DF.drop(Spectroscopic_DF[Cond_Source & Cond_Flag].index, inplace=True)\n",
    "\n",
    "Cond_Source = (Spectroscopic_DF['source'] == 'III/250/vvds_dp')\n",
    "Cond_Flag   = ~(Spectroscopic_DF[Cond_Source]['f_z'].astype(float) >= 3)\n",
    "Spectroscopic_DF.drop(Spectroscopic_DF[Cond_Source & Cond_Flag].index, inplace=True)\n",
    "\n",
    "Cond_Source = (Spectroscopic_DF['source'] == 'III/268/deep2all')\n",
    "Cond_Flag   = ~(Spectroscopic_DF[Cond_Source]['f_z'].astype(float) >= 3)\n",
    "Spectroscopic_DF.drop(Spectroscopic_DF[Cond_Source & Cond_Flag].index, inplace=True)\n",
    "\n",
    "Cond_Source = (Spectroscopic_DF['source'] == 'J/A+A/427/397/cl1040')\n",
    "Cond_Flag   = (Spectroscopic_DF[Cond_Source]['f_z'] == ':') | (Spectroscopic_DF[Cond_Source]['f_z'] == '::')\n",
    "Spectroscopic_DF.drop(Spectroscopic_DF[Cond_Source & Cond_Flag].index, inplace=True)\n",
    "\n",
    "Cond_Source = (Spectroscopic_DF['source'] == 'J/A+A/427/397/cl105411')\n",
    "Cond_Flag   = (Spectroscopic_DF[Cond_Source]['f_z'] == ':') | (Spectroscopic_DF[Cond_Source]['f_z'] == '::')\n",
    "Spectroscopic_DF.drop(Spectroscopic_DF[Cond_Source & Cond_Flag].index, inplace=True)\n",
    "\n",
    "Cond_Source = (Spectroscopic_DF['source'] == 'J/A+A/427/397/cl105412')\n",
    "Cond_Flag   = (Spectroscopic_DF[Cond_Source]['f_z'] == ':') | (Spectroscopic_DF[Cond_Source]['f_z'] == '::')\n",
    "Spectroscopic_DF.drop(Spectroscopic_DF[Cond_Source & Cond_Flag].index, inplace=True)\n",
    "\n",
    "Cond_Source = (Spectroscopic_DF['source'] == 'J/A+A/427/397/cl1216')\n",
    "Cond_Flag   = (Spectroscopic_DF[Cond_Source]['f_z'] == ':') | (Spectroscopic_DF[Cond_Source]['f_z'] == '::')\n",
    "Spectroscopic_DF.drop(Spectroscopic_DF[Cond_Source & Cond_Flag].index, inplace=True)\n",
    "\n",
    "Cond_Source = (Spectroscopic_DF['source'] == 'J/A+A/427/397/cl1232')\n",
    "Cond_Flag   = (Spectroscopic_DF[Cond_Source]['f_z'] == ':') | (Spectroscopic_DF[Cond_Source]['f_z'] == '::')\n",
    "Spectroscopic_DF.drop(Spectroscopic_DF[Cond_Source & Cond_Flag].index, inplace=True)\n",
    "\n",
    "Cond_Source = (Spectroscopic_DF['source'] == 'J/A+A/428/1043/vcdfs')\n",
    "Cond_Flag   = ~(Spectroscopic_DF[Cond_Source]['f_z'].astype(float).between(3, 4) |\n",
    "                Spectroscopic_DF[Cond_Source]['f_z'].astype(float).between(13, 14) |\n",
    "                Spectroscopic_DF[Cond_Source]['f_z'].astype(float).between(23, 24))\n",
    "Spectroscopic_DF.drop(Spectroscopic_DF[Cond_Source & Cond_Flag].index, inplace=True)\n",
    "\n",
    "Cond_Source = (Spectroscopic_DF['source'] == 'J/A+A/482/419/data')\n",
    "Cond_Flag   = (Spectroscopic_DF[Cond_Source]['f_z'] == ':') | (Spectroscopic_DF[Cond_Source]['f_z'] == '::')\n",
    "Spectroscopic_DF.drop(Spectroscopic_DF[Cond_Source & Cond_Flag].index, inplace=True)\n",
    "\n",
    "Cond_Source = (Spectroscopic_DF['source'] == 'J/A+A/495/53/catalog')\n",
    "Cond_Flag   = ~(Spectroscopic_DF[Cond_Source]['f_z'].astype(float).between(3, 4))\n",
    "Spectroscopic_DF.drop(Spectroscopic_DF[Cond_Source & Cond_Flag].index, inplace=True)\n",
    "\n",
    "Cond_Source = (Spectroscopic_DF['source'] == 'J/A+A/507/1277/table1')\n",
    "Cond_Flag   = Spectroscopic_DF[Cond_Source]['f_z'] == '>'\n",
    "Spectroscopic_DF.drop(Spectroscopic_DF[Cond_Source & Cond_Flag].index, inplace=True)\n",
    "\n",
    "Cond_Source = (Spectroscopic_DF['source'] == 'J/A+A/562/A23/spectro')\n",
    "Cond_Flag   = ~(Spectroscopic_DF[Cond_Source]['f_z'].astype(float).between(3, 4))\n",
    "Spectroscopic_DF.drop(Spectroscopic_DF[Cond_Source & Cond_Flag].index, inplace=True)\n",
    "\n",
    "Cond_Source = (Spectroscopic_DF['source'] == 'J/A+A/569/A95/tablea2')\n",
    "Cond_Flag   = ~(Spectroscopic_DF[Cond_Source]['f_z'].astype(float).between(3, 4))\n",
    "Spectroscopic_DF.drop(Spectroscopic_DF[Cond_Source & Cond_Flag].index, inplace=True)\n",
    "\n",
    "Cond_Source = (Spectroscopic_DF['source'] == 'J/A+AS/96/389/table2')\n",
    "Cond_Flag   = Spectroscopic_DF[Cond_Source]['f_z'] == '::'\n",
    "Spectroscopic_DF.drop(Spectroscopic_DF[Cond_Source & Cond_Flag].index, inplace=True)\n",
    "\n",
    "Cond_Source = (Spectroscopic_DF['source'] == 'J/AJ/112/407/egal')\n",
    "Cond_Flag   = (Spectroscopic_DF[Cond_Source]['f_z'] == ':')\n",
    "Spectroscopic_DF.drop(Spectroscopic_DF[Cond_Source & Cond_Flag].index, inplace=True)\n",
    "\n",
    "# Cond_Source = (Spectroscopic_DF['source'] == 'J/AJ/112/407/fbqs')\n",
    "# Cond_Flag   = Spectroscopic_DF[Cond_Source]['f_z'] == ''\n",
    "\n",
    "Cond_Source = (Spectroscopic_DF['source'] == 'J/ApJ/634/861/table4')\n",
    "Cond_Flag   = Spectroscopic_DF[Cond_Source]['f_z'] == ':'\n",
    "Spectroscopic_DF.drop(Spectroscopic_DF[Cond_Source & Cond_Flag].index, inplace=True)\n",
    "\n",
    "Cond_Source = (Spectroscopic_DF['source'] == 'J/ApJ/678/635/binQSO')\n",
    "Cond_Flag   = (Spectroscopic_DF[Cond_Source]['f_z'] == '?')\n",
    "Spectroscopic_DF.drop(Spectroscopic_DF[Cond_Source & Cond_Flag].index, inplace=True)\n",
    "\n",
    "Cond_Source = (Spectroscopic_DF['source'] == 'J/ApJ/731/103/GRBs')\n",
    "Cond_Flag   = Spectroscopic_DF[Cond_Source]['f_z'] == '<'\n",
    "Spectroscopic_DF.drop(Spectroscopic_DF[Cond_Source & Cond_Flag].index, inplace=True)\n",
    "\n",
    "Cond_Source = (Spectroscopic_DF['source'] == 'J/ApJ/764/135/table3')\n",
    "Cond_Flag   = Spectroscopic_DF[Cond_Source]['f_z'] == ''\n",
    "Spectroscopic_DF.drop(Spectroscopic_DF[Cond_Source & Cond_Flag].index, inplace=True)\n",
    "\n",
    "Cond_Source = (Spectroscopic_DF['source'] == 'J/ApJS/172/70/zcosmos')\n",
    "Cond_Flag   = ~(Spectroscopic_DF[Cond_Source]['f_z'].astype(float) >= 2)\n",
    "Spectroscopic_DF.drop(Spectroscopic_DF[Cond_Source & Cond_Flag].index, inplace=True)\n",
    "\n",
    "# Cond_Source = (Spectroscopic_DF['source'] == 'J/ApJS/224/33/table2')\n",
    "# Cond_Flag   = Spectroscopic_DF[Cond_Source]['f_z'] == ''\n",
    "\n",
    "Cond_Source = (Spectroscopic_DF['source'] == 'J/ApJS/238/9/table1')\n",
    "Cond_Flag   = Spectroscopic_DF[Cond_Source]['f_z'] == 'p'\n",
    "Spectroscopic_DF.drop(Spectroscopic_DF[Cond_Source & Cond_Flag].index, inplace=True)\n",
    "\n",
    "Cond_Source = (Spectroscopic_DF['source'] == 'J/MNRAS/372/741/table3')\n",
    "Cond_Flag   = Spectroscopic_DF[Cond_Source]['f_z'] == '?'\n",
    "Spectroscopic_DF.drop(Spectroscopic_DF[Cond_Source & Cond_Flag].index, inplace=True)\n",
    "\n",
    "# Cond_Source = (Spectroscopic_DF['source'] == 'J/MNRAS/459/1626/table46')\n",
    "# Cond_Flag   = Spectroscopic_DF[Cond_Source]['f_z'] == ''\n",
    "\n",
    "Cond_Source = (Spectroscopic_DF['source'] == 'J/MNRAS/474/4151/wigglez')\n",
    "Cond_Flag   = ~(Spectroscopic_DF[Cond_Source]['f_z'].astype(float) >= 3)\n",
    "Spectroscopic_DF.drop(Spectroscopic_DF[Cond_Source & Cond_Flag].index, inplace=True)\n",
    "\n",
    "Cond_Source = (Spectroscopic_DF['source'] == 'pdsoid')\n",
    "Cond_Flag   = ~(Spectroscopic_DF[Cond_Source]['f_z'].astype(float) >= 1)\n",
    "Spectroscopic_DF.drop(Spectroscopic_DF[Cond_Source & Cond_Flag].index, inplace=True)\n",
    "\n",
    "Cond_Source = (Spectroscopic_DF['source'] == 'plancksz')\n",
    "Cond_Flag   = ~(Spectroscopic_DF[Cond_Source]['f_z'] == 'spec')\n",
    "Spectroscopic_DF.drop(Spectroscopic_DF[Cond_Source & Cond_Flag].index, inplace=True)\n",
    "\n",
    "Cond_Source = (Spectroscopic_DF['source'] == 'qso')\n",
    "Cond_Flag   = Spectroscopic_DF[Cond_Source]['f_z'] == ':'\n",
    "Spectroscopic_DF.drop(Spectroscopic_DF[Cond_Source & Cond_Flag].index, inplace=True)\n",
    "\n",
    "Cond_Source = (Spectroscopic_DF['source'] == 'rassaeqso')\n",
    "Cond_Flag   = Spectroscopic_DF[Cond_Source]['f_z'] == ':'\n",
    "Spectroscopic_DF.drop(Spectroscopic_DF[Cond_Source & Cond_Flag].index, inplace=True)\n",
    "\n",
    "Cond_Source = (Spectroscopic_DF['source'] == 'rasshgsft2')\n",
    "Cond_Flag   = Spectroscopic_DF[Cond_Source]['f_z'] == ':'\n",
    "Spectroscopic_DF.drop(Spectroscopic_DF[Cond_Source & Cond_Flag].index, inplace=True)\n",
    "\n",
    "Cond_Source = (Spectroscopic_DF['source'] == 'rbs')\n",
    "Cond_Flag   = Spectroscopic_DF[Cond_Source]['f_z'] == ':'\n",
    "Spectroscopic_DF.drop(Spectroscopic_DF[Cond_Source & Cond_Flag].index, inplace=True)\n",
    "\n",
    "Cond_Source = (Spectroscopic_DF['source'] == 'romabzcat')\n",
    "Cond_Flag   = Spectroscopic_DF[Cond_Source]['f_z'] == '?'\n",
    "Spectroscopic_DF.drop(Spectroscopic_DF[Cond_Source & Cond_Flag].index, inplace=True)\n",
    "\n",
    "Cond_Source = (Spectroscopic_DF['source'] == 'rssgrbag')\n",
    "Cond_Flag   = Spectroscopic_DF[Cond_Source]['f_z'] == '<'\n",
    "Spectroscopic_DF.drop(Spectroscopic_DF[Cond_Source & Cond_Flag].index, inplace=True)\n",
    "\n",
    "Cond_Source = (Spectroscopic_DF['source'] == 'sdssquasar')\n",
    "Cond_Flag   = ~(Spectroscopic_DF[Cond_Source]['f_z'].astype(float) == 0)\n",
    "Spectroscopic_DF.drop(Spectroscopic_DF[Cond_Source & Cond_Flag].index, inplace=True)\n",
    "\n",
    "Cond_Source = (Spectroscopic_DF['source'] == 'sdssunuqsr')\n",
    "Cond_Flag   = ~(Spectroscopic_DF[Cond_Source]['f_z'].astype(float) == 0)\n",
    "Spectroscopic_DF.drop(Spectroscopic_DF[Cond_Source & Cond_Flag].index, inplace=True)\n",
    "\n",
    "# Cond_Source = (Spectroscopic_DF['source'] == 'sptszgalcl')\n",
    "# Cond_Flag   = Spectroscopic_DF[Cond_Source]['f_z'] == ''\n",
    "\n",
    "Cond_Source = (Spectroscopic_DF['source'] == 'twodfqsoz')\n",
    "Cond_Flag   = ~(Spectroscopic_DF[Cond_Source]['f_z'].astype(float) == 1)\n",
    "Spectroscopic_DF.drop(Spectroscopic_DF[Cond_Source & Cond_Flag].index, inplace=True)\n",
    "\n",
    "Cond_Source = (Spectroscopic_DF['source'] == 'veroncat')\n",
    "Cond_Flag   = Spectroscopic_DF[Cond_Source]['f_z'] == '>'\n",
    "Spectroscopic_DF.drop(Spectroscopic_DF[Cond_Source & Cond_Flag].index, inplace=True)\n",
    "\n",
    "Cond_Source = (Spectroscopic_DF['source'] == 'VII/259/6dfgs')\n",
    "Cond_Flag   = ~(Spectroscopic_DF[Cond_Source]['f_z'].astype(float) >= 3)\n",
    "Spectroscopic_DF.drop(Spectroscopic_DF[Cond_Source & Cond_Flag].index, inplace=True)\n",
    "\n",
    "# Cond_Source = (Spectroscopic_DF['source'] == 'VII/276/table12')\n",
    "# Cond_Flag   = Spectroscopic_DF[Cond_Source]['f_z'] == ''\n",
    "\n",
    "# Cond_Source = (Spectroscopic_DF['source'] == 'VII/276/table6')\n",
    "# Cond_Flag   = Spectroscopic_DF[Cond_Source]['f_z'] == ''\n",
    "\n",
    "Cond_Source = (Spectroscopic_DF['source'] == 'VII/69/catalog')\n",
    "Cond_Flag   = Spectroscopic_DF[Cond_Source]['f_z'] == '-'\n",
    "Spectroscopic_DF.drop(Spectroscopic_DF[Cond_Source & Cond_Flag].index, inplace=True)\n",
    "\n",
    "Cond_Source = (Spectroscopic_DF['source'] == 'vlaecdfsoi')\n",
    "Cond_Flag   = ~(Spectroscopic_DF[Cond_Source]['f_z'].astype(float) >= 2)\n",
    "Spectroscopic_DF.drop(Spectroscopic_DF[Cond_Source & Cond_Flag].index, inplace=True)\n",
    "\n",
    "Cond_Source = (Spectroscopic_DF['source'] == 'vlasxdf1p4')\n",
    "Cond_Flag   = Spectroscopic_DF[Cond_Source]['f_z'] == '?'\n",
    "Spectroscopic_DF.drop(Spectroscopic_DF[Cond_Source & Cond_Flag].index, inplace=True)\n",
    "\n",
    "Cond_Source = (Spectroscopic_DF['source'] == 'vlasxdfoid')\n",
    "Cond_Flag   = Spectroscopic_DF[Cond_Source]['f_z'] == '?'\n",
    "Spectroscopic_DF.drop(Spectroscopic_DF[Cond_Source & Cond_Flag].index, inplace=True)\n",
    "\n",
    "Cond_Source = (Spectroscopic_DF['source'] == 'warps2')\n",
    "Cond_Flag   = Spectroscopic_DF[Cond_Source]['f_z'] == '?'\n",
    "Spectroscopic_DF.drop(Spectroscopic_DF[Cond_Source & Cond_Flag].index, inplace=True)\n",
    "\n",
    "Cond_Source = (Spectroscopic_DF['source'] == 'wisehspcat')\n",
    "Cond_Flag   = Spectroscopic_DF[Cond_Source]['f_z'] == ':'\n",
    "Spectroscopic_DF.drop(Spectroscopic_DF[Cond_Source & Cond_Flag].index, inplace=True)\n",
    "\n",
    "Cond_Source = (Spectroscopic_DF['source'] == 'xcs')\n",
    "Cond_Flag   = Spectroscopic_DF[Cond_Source]['f_z'] == 'phot'\n",
    "Spectroscopic_DF.drop(Spectroscopic_DF[Cond_Source & Cond_Flag].index, inplace=True)\n",
    "\n",
    "Cond_Source = (Spectroscopic_DF['source'] == 'xmmcdfs210')\n",
    "Cond_Flag   = Spectroscopic_DF[Cond_Source]['f_z'] == '0'\n",
    "Spectroscopic_DF.drop(Spectroscopic_DF[Cond_Source & Cond_Flag].index, inplace=True)\n",
    "\n",
    "Cond_Source = (Spectroscopic_DF['source'] == 'xmmcdfs510')\n",
    "Cond_Flag   = Spectroscopic_DF[Cond_Source]['f_z'] == '0'\n",
    "Spectroscopic_DF.drop(Spectroscopic_DF[Cond_Source & Cond_Flag].index, inplace=True)\n",
    "\n",
    "Cond_Source = (Spectroscopic_DF['source'] == 'xmmlssclas')\n",
    "Cond_Flag   = ~(Spectroscopic_DF[Cond_Source]['f_z'].astype(float) <= 2)\n",
    "Spectroscopic_DF.drop(Spectroscopic_DF[Cond_Source & Cond_Flag].index, inplace=True)\n",
    "\n",
    "Cond_Source = (Spectroscopic_DF['source'] == 'xmmsdssgcs')\n",
    "Cond_Flag   = Spectroscopic_DF[Cond_Source]['f_z'] == 'photo-z'\n",
    "Spectroscopic_DF.drop(Spectroscopic_DF[Cond_Source & Cond_Flag].index, inplace=True)\n",
    "\n",
    "Cond_Source = (Spectroscopic_DF['source'] == 'xrayselbll')\n",
    "Cond_Flag   = Spectroscopic_DF[Cond_Source]['f_z'] == 'U'\n",
    "Spectroscopic_DF.drop(Spectroscopic_DF[Cond_Source & Cond_Flag].index, inplace=True)\n",
    "\n",
    "# Cond_Source = (Spectroscopic_DF['source'] == 'zcat')\n",
    "# Cond_Flag   = Spectroscopic_DF[Cond_Source]['f_z'] == ''\n",
    "\n",
    "Cond_Source = (Spectroscopic_DF['source'] == 'cgrabs')\n",
    "Cond_Flag   = Spectroscopic_DF[Cond_Source]['f_z'] == ':'\n",
    "Spectroscopic_DF.drop(Spectroscopic_DF[Cond_Source & Cond_Flag].index, inplace=True)"
   ]
  },
  {
   "cell_type": "code",
   "execution_count": 65,
   "metadata": {
    "ExecuteTime": {
     "end_time": "2022-06-04T19:35:45.399503Z",
     "start_time": "2022-06-04T19:35:42.691881Z"
    },
    "hidden": true
   },
   "outputs": [],
   "source": [
    "Cond_Source = (Spectroscopic_DF['source'] == 'GALAXY')\n",
    "Spectroscopic_DF.drop(Spectroscopic_DF[Cond_Source].index, inplace=True)"
   ]
  },
  {
   "cell_type": "code",
   "execution_count": 66,
   "metadata": {
    "ExecuteTime": {
     "end_time": "2022-06-04T19:59:08.309095Z",
     "start_time": "2022-06-04T19:58:37.384665Z"
    },
    "hidden": true
   },
   "outputs": [],
   "source": [
    "Cond_Source = (Spectroscopic_DF['source'] == 'cgrabs')\n",
    "Cond_Flag   = Spectroscopic_DF[Cond_Source]['f_z'] == ':'\n",
    "Spectroscopic_DF.drop(Spectroscopic_DF[Cond_Source & Cond_Flag].index, inplace=True)\n",
    "\n",
    "Cond_Source = (Spectroscopic_DF['source'] == 'fermilatra')\n",
    "Cond_Flag   = Spectroscopic_DF[Cond_Source]['f_z'] == '??'\n",
    "Spectroscopic_DF.drop(Spectroscopic_DF[Cond_Source & Cond_Flag].index, inplace=True)\n",
    "\n",
    "Cond_Source = (Spectroscopic_DF['source'] == 'J/A+A/507/1277/table1')\n",
    "Cond_Flag   = Spectroscopic_DF[Cond_Source]['f_z'] == '>'\n",
    "Spectroscopic_DF.drop(Spectroscopic_DF[Cond_Source & Cond_Flag].index, inplace=True)\n",
    "\n",
    "Cond_Source = (Spectroscopic_DF['source'] == 'J/A+A/569/A95/tablea2')\n",
    "Cond_Flag   = Spectroscopic_DF[Cond_Source]['f_z'] == '>'\n",
    "Spectroscopic_DF.drop(Spectroscopic_DF[Cond_Source & Cond_Flag].index, inplace=True)"
   ]
  },
  {
   "cell_type": "code",
   "execution_count": 67,
   "metadata": {
    "ExecuteTime": {
     "end_time": "2022-06-04T20:00:15.625847Z",
     "start_time": "2022-06-04T19:59:08.312153Z"
    },
    "hidden": true
   },
   "outputs": [],
   "source": [
    "Cond_Source = (Spectroscopic_DF['source'] == 'J/AJ/112/407/egal')\n",
    "Cond_Flag   = (Spectroscopic_DF[Cond_Source]['f_z'] == ':')\n",
    "Spectroscopic_DF.drop(Spectroscopic_DF[Cond_Source & Cond_Flag].index, inplace=True)\n",
    "\n",
    "Cond_Source = (Spectroscopic_DF['source'] == 'J/ApJ/678/635/binQSO')\n",
    "Cond_Flag   = (Spectroscopic_DF[Cond_Source]['f_z'] == '?')\n",
    "Spectroscopic_DF.drop(Spectroscopic_DF[Cond_Source & Cond_Flag].index, inplace=True)\n",
    "\n",
    "Cond_Source = (Spectroscopic_DF['source'] == 'J/ApJ/764/135/table3')\n",
    "Cond_Flag   = (Spectroscopic_DF[Cond_Source]['f_z'] == ':')\n",
    "Spectroscopic_DF.drop(Spectroscopic_DF[Cond_Source & Cond_Flag].index, inplace=True)\n",
    "\n",
    "Cond_Source = (Spectroscopic_DF['source'] == 'J/ApJS/238/9/table1')\n",
    "Cond_Flag   = (Spectroscopic_DF[Cond_Source]['f_z'] == '>')\n",
    "Spectroscopic_DF.drop(Spectroscopic_DF[Cond_Source & Cond_Flag].index, inplace=True)\n",
    "\n",
    "Cond_Source = (Spectroscopic_DF['source'] == 'J/MNRAS/459/1626/table46')\n",
    "Cond_Flag   = (Spectroscopic_DF[Cond_Source]['f_z'] == '~')\n",
    "Spectroscopic_DF.drop(Spectroscopic_DF[Cond_Source & Cond_Flag].index, inplace=True)\n",
    "\n",
    "Cond_Source = (Spectroscopic_DF['source'] == 'sptszgalcl')\n",
    "Cond_Flag   = (Spectroscopic_DF[Cond_Source]['f_z'] == '>') | (Spectroscopic_DF[Cond_Source]['f_z'] == '>=')\n",
    "Spectroscopic_DF.drop(Spectroscopic_DF[Cond_Source & Cond_Flag].index, inplace=True)\n",
    "\n",
    "Cond_Source = (Spectroscopic_DF['source'] == 'VII/276/table12')\n",
    "Cond_Flag   = (Spectroscopic_DF[Cond_Source]['f_z'] == ':')\n",
    "Spectroscopic_DF.drop(Spectroscopic_DF[Cond_Source & Cond_Flag].index, inplace=True)\n",
    "\n",
    "Cond_Source = (Spectroscopic_DF['source'] == 'VII/276/table6')\n",
    "Cond_Flag   = (Spectroscopic_DF[Cond_Source]['f_z'] == ':')\n",
    "Spectroscopic_DF.drop(Spectroscopic_DF[Cond_Source & Cond_Flag].index, inplace=True)\n",
    "\n",
    "Cond_Source = (Spectroscopic_DF['source'] == 'wisehspcat')\n",
    "Cond_Flag   = (Spectroscopic_DF[Cond_Source]['f_z'] == '>')\n",
    "Spectroscopic_DF.drop(Spectroscopic_DF[Cond_Source & Cond_Flag].index, inplace=True)\n",
    "\n",
    "Cond_Source = (Spectroscopic_DF['source'] == 'xrayselbll')\n",
    "Cond_Flag   = (Spectroscopic_DF[Cond_Source]['f_z'] == '>')\n",
    "Spectroscopic_DF.drop(Spectroscopic_DF[Cond_Source & Cond_Flag].index, inplace=True)"
   ]
  },
  {
   "cell_type": "code",
   "execution_count": 68,
   "metadata": {
    "hidden": true
   },
   "outputs": [
    {
     "ename": "FileNotFoundError",
     "evalue": "[Errno 2] No such file or directory: 'Concatenated_Catalogue_3.csv'",
     "output_type": "error",
     "traceback": [
      "\u001b[0;31m---------------------------------------------------------------------------\u001b[0m",
      "\u001b[0;31mFileNotFoundError\u001b[0m                         Traceback (most recent call last)",
      "Input \u001b[0;32mIn [68]\u001b[0m, in \u001b[0;36m<cell line: 1>\u001b[0;34m()\u001b[0m\n\u001b[0;32m----> 1\u001b[0m Spectroscopic_DF \u001b[38;5;241m=\u001b[39m \u001b[43mpd\u001b[49m\u001b[38;5;241;43m.\u001b[39;49m\u001b[43mread_csv\u001b[49m\u001b[43m(\u001b[49m\u001b[38;5;124;43m'\u001b[39;49m\u001b[38;5;124;43mConcatenated_Catalogue_3.csv\u001b[39;49m\u001b[38;5;124;43m'\u001b[39;49m\u001b[43m)\u001b[49m\n",
      "File \u001b[0;32m~/anaconda3/lib/python3.9/site-packages/pandas/util/_decorators.py:311\u001b[0m, in \u001b[0;36mdeprecate_nonkeyword_arguments.<locals>.decorate.<locals>.wrapper\u001b[0;34m(*args, **kwargs)\u001b[0m\n\u001b[1;32m    305\u001b[0m \u001b[38;5;28;01mif\u001b[39;00m \u001b[38;5;28mlen\u001b[39m(args) \u001b[38;5;241m>\u001b[39m num_allow_args:\n\u001b[1;32m    306\u001b[0m     warnings\u001b[38;5;241m.\u001b[39mwarn(\n\u001b[1;32m    307\u001b[0m         msg\u001b[38;5;241m.\u001b[39mformat(arguments\u001b[38;5;241m=\u001b[39marguments),\n\u001b[1;32m    308\u001b[0m         \u001b[38;5;167;01mFutureWarning\u001b[39;00m,\n\u001b[1;32m    309\u001b[0m         stacklevel\u001b[38;5;241m=\u001b[39mstacklevel,\n\u001b[1;32m    310\u001b[0m     )\n\u001b[0;32m--> 311\u001b[0m \u001b[38;5;28;01mreturn\u001b[39;00m \u001b[43mfunc\u001b[49m\u001b[43m(\u001b[49m\u001b[38;5;241;43m*\u001b[39;49m\u001b[43margs\u001b[49m\u001b[43m,\u001b[49m\u001b[43m \u001b[49m\u001b[38;5;241;43m*\u001b[39;49m\u001b[38;5;241;43m*\u001b[39;49m\u001b[43mkwargs\u001b[49m\u001b[43m)\u001b[49m\n",
      "File \u001b[0;32m~/anaconda3/lib/python3.9/site-packages/pandas/io/parsers/readers.py:680\u001b[0m, in \u001b[0;36mread_csv\u001b[0;34m(filepath_or_buffer, sep, delimiter, header, names, index_col, usecols, squeeze, prefix, mangle_dupe_cols, dtype, engine, converters, true_values, false_values, skipinitialspace, skiprows, skipfooter, nrows, na_values, keep_default_na, na_filter, verbose, skip_blank_lines, parse_dates, infer_datetime_format, keep_date_col, date_parser, dayfirst, cache_dates, iterator, chunksize, compression, thousands, decimal, lineterminator, quotechar, quoting, doublequote, escapechar, comment, encoding, encoding_errors, dialect, error_bad_lines, warn_bad_lines, on_bad_lines, delim_whitespace, low_memory, memory_map, float_precision, storage_options)\u001b[0m\n\u001b[1;32m    665\u001b[0m kwds_defaults \u001b[38;5;241m=\u001b[39m _refine_defaults_read(\n\u001b[1;32m    666\u001b[0m     dialect,\n\u001b[1;32m    667\u001b[0m     delimiter,\n\u001b[0;32m   (...)\u001b[0m\n\u001b[1;32m    676\u001b[0m     defaults\u001b[38;5;241m=\u001b[39m{\u001b[38;5;124m\"\u001b[39m\u001b[38;5;124mdelimiter\u001b[39m\u001b[38;5;124m\"\u001b[39m: \u001b[38;5;124m\"\u001b[39m\u001b[38;5;124m,\u001b[39m\u001b[38;5;124m\"\u001b[39m},\n\u001b[1;32m    677\u001b[0m )\n\u001b[1;32m    678\u001b[0m kwds\u001b[38;5;241m.\u001b[39mupdate(kwds_defaults)\n\u001b[0;32m--> 680\u001b[0m \u001b[38;5;28;01mreturn\u001b[39;00m \u001b[43m_read\u001b[49m\u001b[43m(\u001b[49m\u001b[43mfilepath_or_buffer\u001b[49m\u001b[43m,\u001b[49m\u001b[43m \u001b[49m\u001b[43mkwds\u001b[49m\u001b[43m)\u001b[49m\n",
      "File \u001b[0;32m~/anaconda3/lib/python3.9/site-packages/pandas/io/parsers/readers.py:575\u001b[0m, in \u001b[0;36m_read\u001b[0;34m(filepath_or_buffer, kwds)\u001b[0m\n\u001b[1;32m    572\u001b[0m _validate_names(kwds\u001b[38;5;241m.\u001b[39mget(\u001b[38;5;124m\"\u001b[39m\u001b[38;5;124mnames\u001b[39m\u001b[38;5;124m\"\u001b[39m, \u001b[38;5;28;01mNone\u001b[39;00m))\n\u001b[1;32m    574\u001b[0m \u001b[38;5;66;03m# Create the parser.\u001b[39;00m\n\u001b[0;32m--> 575\u001b[0m parser \u001b[38;5;241m=\u001b[39m \u001b[43mTextFileReader\u001b[49m\u001b[43m(\u001b[49m\u001b[43mfilepath_or_buffer\u001b[49m\u001b[43m,\u001b[49m\u001b[43m \u001b[49m\u001b[38;5;241;43m*\u001b[39;49m\u001b[38;5;241;43m*\u001b[39;49m\u001b[43mkwds\u001b[49m\u001b[43m)\u001b[49m\n\u001b[1;32m    577\u001b[0m \u001b[38;5;28;01mif\u001b[39;00m chunksize \u001b[38;5;129;01mor\u001b[39;00m iterator:\n\u001b[1;32m    578\u001b[0m     \u001b[38;5;28;01mreturn\u001b[39;00m parser\n",
      "File \u001b[0;32m~/anaconda3/lib/python3.9/site-packages/pandas/io/parsers/readers.py:933\u001b[0m, in \u001b[0;36mTextFileReader.__init__\u001b[0;34m(self, f, engine, **kwds)\u001b[0m\n\u001b[1;32m    930\u001b[0m     \u001b[38;5;28mself\u001b[39m\u001b[38;5;241m.\u001b[39moptions[\u001b[38;5;124m\"\u001b[39m\u001b[38;5;124mhas_index_names\u001b[39m\u001b[38;5;124m\"\u001b[39m] \u001b[38;5;241m=\u001b[39m kwds[\u001b[38;5;124m\"\u001b[39m\u001b[38;5;124mhas_index_names\u001b[39m\u001b[38;5;124m\"\u001b[39m]\n\u001b[1;32m    932\u001b[0m \u001b[38;5;28mself\u001b[39m\u001b[38;5;241m.\u001b[39mhandles: IOHandles \u001b[38;5;241m|\u001b[39m \u001b[38;5;28;01mNone\u001b[39;00m \u001b[38;5;241m=\u001b[39m \u001b[38;5;28;01mNone\u001b[39;00m\n\u001b[0;32m--> 933\u001b[0m \u001b[38;5;28mself\u001b[39m\u001b[38;5;241m.\u001b[39m_engine \u001b[38;5;241m=\u001b[39m \u001b[38;5;28;43mself\u001b[39;49m\u001b[38;5;241;43m.\u001b[39;49m\u001b[43m_make_engine\u001b[49m\u001b[43m(\u001b[49m\u001b[43mf\u001b[49m\u001b[43m,\u001b[49m\u001b[43m \u001b[49m\u001b[38;5;28;43mself\u001b[39;49m\u001b[38;5;241;43m.\u001b[39;49m\u001b[43mengine\u001b[49m\u001b[43m)\u001b[49m\n",
      "File \u001b[0;32m~/anaconda3/lib/python3.9/site-packages/pandas/io/parsers/readers.py:1217\u001b[0m, in \u001b[0;36mTextFileReader._make_engine\u001b[0;34m(self, f, engine)\u001b[0m\n\u001b[1;32m   1213\u001b[0m     mode \u001b[38;5;241m=\u001b[39m \u001b[38;5;124m\"\u001b[39m\u001b[38;5;124mrb\u001b[39m\u001b[38;5;124m\"\u001b[39m\n\u001b[1;32m   1214\u001b[0m \u001b[38;5;66;03m# error: No overload variant of \"get_handle\" matches argument types\u001b[39;00m\n\u001b[1;32m   1215\u001b[0m \u001b[38;5;66;03m# \"Union[str, PathLike[str], ReadCsvBuffer[bytes], ReadCsvBuffer[str]]\"\u001b[39;00m\n\u001b[1;32m   1216\u001b[0m \u001b[38;5;66;03m# , \"str\", \"bool\", \"Any\", \"Any\", \"Any\", \"Any\", \"Any\"\u001b[39;00m\n\u001b[0;32m-> 1217\u001b[0m \u001b[38;5;28mself\u001b[39m\u001b[38;5;241m.\u001b[39mhandles \u001b[38;5;241m=\u001b[39m \u001b[43mget_handle\u001b[49m\u001b[43m(\u001b[49m\u001b[43m  \u001b[49m\u001b[38;5;66;43;03m# type: ignore[call-overload]\u001b[39;49;00m\n\u001b[1;32m   1218\u001b[0m \u001b[43m    \u001b[49m\u001b[43mf\u001b[49m\u001b[43m,\u001b[49m\n\u001b[1;32m   1219\u001b[0m \u001b[43m    \u001b[49m\u001b[43mmode\u001b[49m\u001b[43m,\u001b[49m\n\u001b[1;32m   1220\u001b[0m \u001b[43m    \u001b[49m\u001b[43mencoding\u001b[49m\u001b[38;5;241;43m=\u001b[39;49m\u001b[38;5;28;43mself\u001b[39;49m\u001b[38;5;241;43m.\u001b[39;49m\u001b[43moptions\u001b[49m\u001b[38;5;241;43m.\u001b[39;49m\u001b[43mget\u001b[49m\u001b[43m(\u001b[49m\u001b[38;5;124;43m\"\u001b[39;49m\u001b[38;5;124;43mencoding\u001b[39;49m\u001b[38;5;124;43m\"\u001b[39;49m\u001b[43m,\u001b[49m\u001b[43m \u001b[49m\u001b[38;5;28;43;01mNone\u001b[39;49;00m\u001b[43m)\u001b[49m\u001b[43m,\u001b[49m\n\u001b[1;32m   1221\u001b[0m \u001b[43m    \u001b[49m\u001b[43mcompression\u001b[49m\u001b[38;5;241;43m=\u001b[39;49m\u001b[38;5;28;43mself\u001b[39;49m\u001b[38;5;241;43m.\u001b[39;49m\u001b[43moptions\u001b[49m\u001b[38;5;241;43m.\u001b[39;49m\u001b[43mget\u001b[49m\u001b[43m(\u001b[49m\u001b[38;5;124;43m\"\u001b[39;49m\u001b[38;5;124;43mcompression\u001b[39;49m\u001b[38;5;124;43m\"\u001b[39;49m\u001b[43m,\u001b[49m\u001b[43m \u001b[49m\u001b[38;5;28;43;01mNone\u001b[39;49;00m\u001b[43m)\u001b[49m\u001b[43m,\u001b[49m\n\u001b[1;32m   1222\u001b[0m \u001b[43m    \u001b[49m\u001b[43mmemory_map\u001b[49m\u001b[38;5;241;43m=\u001b[39;49m\u001b[38;5;28;43mself\u001b[39;49m\u001b[38;5;241;43m.\u001b[39;49m\u001b[43moptions\u001b[49m\u001b[38;5;241;43m.\u001b[39;49m\u001b[43mget\u001b[49m\u001b[43m(\u001b[49m\u001b[38;5;124;43m\"\u001b[39;49m\u001b[38;5;124;43mmemory_map\u001b[39;49m\u001b[38;5;124;43m\"\u001b[39;49m\u001b[43m,\u001b[49m\u001b[43m \u001b[49m\u001b[38;5;28;43;01mFalse\u001b[39;49;00m\u001b[43m)\u001b[49m\u001b[43m,\u001b[49m\n\u001b[1;32m   1223\u001b[0m \u001b[43m    \u001b[49m\u001b[43mis_text\u001b[49m\u001b[38;5;241;43m=\u001b[39;49m\u001b[43mis_text\u001b[49m\u001b[43m,\u001b[49m\n\u001b[1;32m   1224\u001b[0m \u001b[43m    \u001b[49m\u001b[43merrors\u001b[49m\u001b[38;5;241;43m=\u001b[39;49m\u001b[38;5;28;43mself\u001b[39;49m\u001b[38;5;241;43m.\u001b[39;49m\u001b[43moptions\u001b[49m\u001b[38;5;241;43m.\u001b[39;49m\u001b[43mget\u001b[49m\u001b[43m(\u001b[49m\u001b[38;5;124;43m\"\u001b[39;49m\u001b[38;5;124;43mencoding_errors\u001b[39;49m\u001b[38;5;124;43m\"\u001b[39;49m\u001b[43m,\u001b[49m\u001b[43m \u001b[49m\u001b[38;5;124;43m\"\u001b[39;49m\u001b[38;5;124;43mstrict\u001b[39;49m\u001b[38;5;124;43m\"\u001b[39;49m\u001b[43m)\u001b[49m\u001b[43m,\u001b[49m\n\u001b[1;32m   1225\u001b[0m \u001b[43m    \u001b[49m\u001b[43mstorage_options\u001b[49m\u001b[38;5;241;43m=\u001b[39;49m\u001b[38;5;28;43mself\u001b[39;49m\u001b[38;5;241;43m.\u001b[39;49m\u001b[43moptions\u001b[49m\u001b[38;5;241;43m.\u001b[39;49m\u001b[43mget\u001b[49m\u001b[43m(\u001b[49m\u001b[38;5;124;43m\"\u001b[39;49m\u001b[38;5;124;43mstorage_options\u001b[39;49m\u001b[38;5;124;43m\"\u001b[39;49m\u001b[43m,\u001b[49m\u001b[43m \u001b[49m\u001b[38;5;28;43;01mNone\u001b[39;49;00m\u001b[43m)\u001b[49m\u001b[43m,\u001b[49m\n\u001b[1;32m   1226\u001b[0m \u001b[43m\u001b[49m\u001b[43m)\u001b[49m\n\u001b[1;32m   1227\u001b[0m \u001b[38;5;28;01massert\u001b[39;00m \u001b[38;5;28mself\u001b[39m\u001b[38;5;241m.\u001b[39mhandles \u001b[38;5;129;01mis\u001b[39;00m \u001b[38;5;129;01mnot\u001b[39;00m \u001b[38;5;28;01mNone\u001b[39;00m\n\u001b[1;32m   1228\u001b[0m f \u001b[38;5;241m=\u001b[39m \u001b[38;5;28mself\u001b[39m\u001b[38;5;241m.\u001b[39mhandles\u001b[38;5;241m.\u001b[39mhandle\n",
      "File \u001b[0;32m~/anaconda3/lib/python3.9/site-packages/pandas/io/common.py:789\u001b[0m, in \u001b[0;36mget_handle\u001b[0;34m(path_or_buf, mode, encoding, compression, memory_map, is_text, errors, storage_options)\u001b[0m\n\u001b[1;32m    784\u001b[0m \u001b[38;5;28;01melif\u001b[39;00m \u001b[38;5;28misinstance\u001b[39m(handle, \u001b[38;5;28mstr\u001b[39m):\n\u001b[1;32m    785\u001b[0m     \u001b[38;5;66;03m# Check whether the filename is to be opened in binary mode.\u001b[39;00m\n\u001b[1;32m    786\u001b[0m     \u001b[38;5;66;03m# Binary mode does not support 'encoding' and 'newline'.\u001b[39;00m\n\u001b[1;32m    787\u001b[0m     \u001b[38;5;28;01mif\u001b[39;00m ioargs\u001b[38;5;241m.\u001b[39mencoding \u001b[38;5;129;01mand\u001b[39;00m \u001b[38;5;124m\"\u001b[39m\u001b[38;5;124mb\u001b[39m\u001b[38;5;124m\"\u001b[39m \u001b[38;5;129;01mnot\u001b[39;00m \u001b[38;5;129;01min\u001b[39;00m ioargs\u001b[38;5;241m.\u001b[39mmode:\n\u001b[1;32m    788\u001b[0m         \u001b[38;5;66;03m# Encoding\u001b[39;00m\n\u001b[0;32m--> 789\u001b[0m         handle \u001b[38;5;241m=\u001b[39m \u001b[38;5;28;43mopen\u001b[39;49m\u001b[43m(\u001b[49m\n\u001b[1;32m    790\u001b[0m \u001b[43m            \u001b[49m\u001b[43mhandle\u001b[49m\u001b[43m,\u001b[49m\n\u001b[1;32m    791\u001b[0m \u001b[43m            \u001b[49m\u001b[43mioargs\u001b[49m\u001b[38;5;241;43m.\u001b[39;49m\u001b[43mmode\u001b[49m\u001b[43m,\u001b[49m\n\u001b[1;32m    792\u001b[0m \u001b[43m            \u001b[49m\u001b[43mencoding\u001b[49m\u001b[38;5;241;43m=\u001b[39;49m\u001b[43mioargs\u001b[49m\u001b[38;5;241;43m.\u001b[39;49m\u001b[43mencoding\u001b[49m\u001b[43m,\u001b[49m\n\u001b[1;32m    793\u001b[0m \u001b[43m            \u001b[49m\u001b[43merrors\u001b[49m\u001b[38;5;241;43m=\u001b[39;49m\u001b[43merrors\u001b[49m\u001b[43m,\u001b[49m\n\u001b[1;32m    794\u001b[0m \u001b[43m            \u001b[49m\u001b[43mnewline\u001b[49m\u001b[38;5;241;43m=\u001b[39;49m\u001b[38;5;124;43m\"\u001b[39;49m\u001b[38;5;124;43m\"\u001b[39;49m\u001b[43m,\u001b[49m\n\u001b[1;32m    795\u001b[0m \u001b[43m        \u001b[49m\u001b[43m)\u001b[49m\n\u001b[1;32m    796\u001b[0m     \u001b[38;5;28;01melse\u001b[39;00m:\n\u001b[1;32m    797\u001b[0m         \u001b[38;5;66;03m# Binary mode\u001b[39;00m\n\u001b[1;32m    798\u001b[0m         handle \u001b[38;5;241m=\u001b[39m \u001b[38;5;28mopen\u001b[39m(handle, ioargs\u001b[38;5;241m.\u001b[39mmode)\n",
      "\u001b[0;31mFileNotFoundError\u001b[0m: [Errno 2] No such file or directory: 'Concatenated_Catalogue_3.csv'"
     ]
    }
   ],
   "source": [
    "Spectroscopic_DF = pd.read_csv('Concatenated_Catalogue_3.csv')"
   ]
  },
  {
   "cell_type": "markdown",
   "metadata": {
    "heading_collapsed": true
   },
   "source": [
    "# Merge with SDSS\n",
    "I also download the SDSS DR17 spectroscopic redshifts using the following query:\n",
    "\n",
    "```\n",
    "SELECT spec.specObjID, spec.ra, spec.dec, spec.z as redshift, spec.zErr as z_err, spec.zWarning as z_flag, spec.class as spec_class\n",
    "INTO MyDB.SpecZ_DR17\n",
    "FROM SpecObj as spec\n",
    "WHERE\n",
    "  spec.dec <= +10 AND spec.class != 'STAR'\n",
    "```\n",
    "\n",
    "Then I changed the column names to be the same as those from the previous compilation and added a new column containing the source of the data."
   ]
  },
  {
   "cell_type": "code",
   "execution_count": 69,
   "metadata": {
    "ExecuteTime": {
     "end_time": "2022-06-04T20:09:01.511810Z",
     "start_time": "2022-06-04T20:09:00.559992Z"
    },
    "hidden": true
   },
   "outputs": [
    {
     "ename": "FileNotFoundError",
     "evalue": "[Errno 2] No such file or directory: 'SpecZ_DR17.csv'",
     "output_type": "error",
     "traceback": [
      "\u001b[0;31m---------------------------------------------------------------------------\u001b[0m",
      "\u001b[0;31mFileNotFoundError\u001b[0m                         Traceback (most recent call last)",
      "Input \u001b[0;32mIn [69]\u001b[0m, in \u001b[0;36m<cell line: 1>\u001b[0;34m()\u001b[0m\n\u001b[0;32m----> 1\u001b[0m SDSS \u001b[38;5;241m=\u001b[39m \u001b[43mpd\u001b[49m\u001b[38;5;241;43m.\u001b[39;49m\u001b[43mread_csv\u001b[49m\u001b[43m(\u001b[49m\u001b[38;5;124;43m'\u001b[39;49m\u001b[38;5;124;43mSpecZ_DR17.csv\u001b[39;49m\u001b[38;5;124;43m'\u001b[39;49m\u001b[43m)\u001b[49m\n",
      "File \u001b[0;32m~/anaconda3/lib/python3.9/site-packages/pandas/util/_decorators.py:311\u001b[0m, in \u001b[0;36mdeprecate_nonkeyword_arguments.<locals>.decorate.<locals>.wrapper\u001b[0;34m(*args, **kwargs)\u001b[0m\n\u001b[1;32m    305\u001b[0m \u001b[38;5;28;01mif\u001b[39;00m \u001b[38;5;28mlen\u001b[39m(args) \u001b[38;5;241m>\u001b[39m num_allow_args:\n\u001b[1;32m    306\u001b[0m     warnings\u001b[38;5;241m.\u001b[39mwarn(\n\u001b[1;32m    307\u001b[0m         msg\u001b[38;5;241m.\u001b[39mformat(arguments\u001b[38;5;241m=\u001b[39marguments),\n\u001b[1;32m    308\u001b[0m         \u001b[38;5;167;01mFutureWarning\u001b[39;00m,\n\u001b[1;32m    309\u001b[0m         stacklevel\u001b[38;5;241m=\u001b[39mstacklevel,\n\u001b[1;32m    310\u001b[0m     )\n\u001b[0;32m--> 311\u001b[0m \u001b[38;5;28;01mreturn\u001b[39;00m \u001b[43mfunc\u001b[49m\u001b[43m(\u001b[49m\u001b[38;5;241;43m*\u001b[39;49m\u001b[43margs\u001b[49m\u001b[43m,\u001b[49m\u001b[43m \u001b[49m\u001b[38;5;241;43m*\u001b[39;49m\u001b[38;5;241;43m*\u001b[39;49m\u001b[43mkwargs\u001b[49m\u001b[43m)\u001b[49m\n",
      "File \u001b[0;32m~/anaconda3/lib/python3.9/site-packages/pandas/io/parsers/readers.py:680\u001b[0m, in \u001b[0;36mread_csv\u001b[0;34m(filepath_or_buffer, sep, delimiter, header, names, index_col, usecols, squeeze, prefix, mangle_dupe_cols, dtype, engine, converters, true_values, false_values, skipinitialspace, skiprows, skipfooter, nrows, na_values, keep_default_na, na_filter, verbose, skip_blank_lines, parse_dates, infer_datetime_format, keep_date_col, date_parser, dayfirst, cache_dates, iterator, chunksize, compression, thousands, decimal, lineterminator, quotechar, quoting, doublequote, escapechar, comment, encoding, encoding_errors, dialect, error_bad_lines, warn_bad_lines, on_bad_lines, delim_whitespace, low_memory, memory_map, float_precision, storage_options)\u001b[0m\n\u001b[1;32m    665\u001b[0m kwds_defaults \u001b[38;5;241m=\u001b[39m _refine_defaults_read(\n\u001b[1;32m    666\u001b[0m     dialect,\n\u001b[1;32m    667\u001b[0m     delimiter,\n\u001b[0;32m   (...)\u001b[0m\n\u001b[1;32m    676\u001b[0m     defaults\u001b[38;5;241m=\u001b[39m{\u001b[38;5;124m\"\u001b[39m\u001b[38;5;124mdelimiter\u001b[39m\u001b[38;5;124m\"\u001b[39m: \u001b[38;5;124m\"\u001b[39m\u001b[38;5;124m,\u001b[39m\u001b[38;5;124m\"\u001b[39m},\n\u001b[1;32m    677\u001b[0m )\n\u001b[1;32m    678\u001b[0m kwds\u001b[38;5;241m.\u001b[39mupdate(kwds_defaults)\n\u001b[0;32m--> 680\u001b[0m \u001b[38;5;28;01mreturn\u001b[39;00m \u001b[43m_read\u001b[49m\u001b[43m(\u001b[49m\u001b[43mfilepath_or_buffer\u001b[49m\u001b[43m,\u001b[49m\u001b[43m \u001b[49m\u001b[43mkwds\u001b[49m\u001b[43m)\u001b[49m\n",
      "File \u001b[0;32m~/anaconda3/lib/python3.9/site-packages/pandas/io/parsers/readers.py:575\u001b[0m, in \u001b[0;36m_read\u001b[0;34m(filepath_or_buffer, kwds)\u001b[0m\n\u001b[1;32m    572\u001b[0m _validate_names(kwds\u001b[38;5;241m.\u001b[39mget(\u001b[38;5;124m\"\u001b[39m\u001b[38;5;124mnames\u001b[39m\u001b[38;5;124m\"\u001b[39m, \u001b[38;5;28;01mNone\u001b[39;00m))\n\u001b[1;32m    574\u001b[0m \u001b[38;5;66;03m# Create the parser.\u001b[39;00m\n\u001b[0;32m--> 575\u001b[0m parser \u001b[38;5;241m=\u001b[39m \u001b[43mTextFileReader\u001b[49m\u001b[43m(\u001b[49m\u001b[43mfilepath_or_buffer\u001b[49m\u001b[43m,\u001b[49m\u001b[43m \u001b[49m\u001b[38;5;241;43m*\u001b[39;49m\u001b[38;5;241;43m*\u001b[39;49m\u001b[43mkwds\u001b[49m\u001b[43m)\u001b[49m\n\u001b[1;32m    577\u001b[0m \u001b[38;5;28;01mif\u001b[39;00m chunksize \u001b[38;5;129;01mor\u001b[39;00m iterator:\n\u001b[1;32m    578\u001b[0m     \u001b[38;5;28;01mreturn\u001b[39;00m parser\n",
      "File \u001b[0;32m~/anaconda3/lib/python3.9/site-packages/pandas/io/parsers/readers.py:933\u001b[0m, in \u001b[0;36mTextFileReader.__init__\u001b[0;34m(self, f, engine, **kwds)\u001b[0m\n\u001b[1;32m    930\u001b[0m     \u001b[38;5;28mself\u001b[39m\u001b[38;5;241m.\u001b[39moptions[\u001b[38;5;124m\"\u001b[39m\u001b[38;5;124mhas_index_names\u001b[39m\u001b[38;5;124m\"\u001b[39m] \u001b[38;5;241m=\u001b[39m kwds[\u001b[38;5;124m\"\u001b[39m\u001b[38;5;124mhas_index_names\u001b[39m\u001b[38;5;124m\"\u001b[39m]\n\u001b[1;32m    932\u001b[0m \u001b[38;5;28mself\u001b[39m\u001b[38;5;241m.\u001b[39mhandles: IOHandles \u001b[38;5;241m|\u001b[39m \u001b[38;5;28;01mNone\u001b[39;00m \u001b[38;5;241m=\u001b[39m \u001b[38;5;28;01mNone\u001b[39;00m\n\u001b[0;32m--> 933\u001b[0m \u001b[38;5;28mself\u001b[39m\u001b[38;5;241m.\u001b[39m_engine \u001b[38;5;241m=\u001b[39m \u001b[38;5;28;43mself\u001b[39;49m\u001b[38;5;241;43m.\u001b[39;49m\u001b[43m_make_engine\u001b[49m\u001b[43m(\u001b[49m\u001b[43mf\u001b[49m\u001b[43m,\u001b[49m\u001b[43m \u001b[49m\u001b[38;5;28;43mself\u001b[39;49m\u001b[38;5;241;43m.\u001b[39;49m\u001b[43mengine\u001b[49m\u001b[43m)\u001b[49m\n",
      "File \u001b[0;32m~/anaconda3/lib/python3.9/site-packages/pandas/io/parsers/readers.py:1217\u001b[0m, in \u001b[0;36mTextFileReader._make_engine\u001b[0;34m(self, f, engine)\u001b[0m\n\u001b[1;32m   1213\u001b[0m     mode \u001b[38;5;241m=\u001b[39m \u001b[38;5;124m\"\u001b[39m\u001b[38;5;124mrb\u001b[39m\u001b[38;5;124m\"\u001b[39m\n\u001b[1;32m   1214\u001b[0m \u001b[38;5;66;03m# error: No overload variant of \"get_handle\" matches argument types\u001b[39;00m\n\u001b[1;32m   1215\u001b[0m \u001b[38;5;66;03m# \"Union[str, PathLike[str], ReadCsvBuffer[bytes], ReadCsvBuffer[str]]\"\u001b[39;00m\n\u001b[1;32m   1216\u001b[0m \u001b[38;5;66;03m# , \"str\", \"bool\", \"Any\", \"Any\", \"Any\", \"Any\", \"Any\"\u001b[39;00m\n\u001b[0;32m-> 1217\u001b[0m \u001b[38;5;28mself\u001b[39m\u001b[38;5;241m.\u001b[39mhandles \u001b[38;5;241m=\u001b[39m \u001b[43mget_handle\u001b[49m\u001b[43m(\u001b[49m\u001b[43m  \u001b[49m\u001b[38;5;66;43;03m# type: ignore[call-overload]\u001b[39;49;00m\n\u001b[1;32m   1218\u001b[0m \u001b[43m    \u001b[49m\u001b[43mf\u001b[49m\u001b[43m,\u001b[49m\n\u001b[1;32m   1219\u001b[0m \u001b[43m    \u001b[49m\u001b[43mmode\u001b[49m\u001b[43m,\u001b[49m\n\u001b[1;32m   1220\u001b[0m \u001b[43m    \u001b[49m\u001b[43mencoding\u001b[49m\u001b[38;5;241;43m=\u001b[39;49m\u001b[38;5;28;43mself\u001b[39;49m\u001b[38;5;241;43m.\u001b[39;49m\u001b[43moptions\u001b[49m\u001b[38;5;241;43m.\u001b[39;49m\u001b[43mget\u001b[49m\u001b[43m(\u001b[49m\u001b[38;5;124;43m\"\u001b[39;49m\u001b[38;5;124;43mencoding\u001b[39;49m\u001b[38;5;124;43m\"\u001b[39;49m\u001b[43m,\u001b[49m\u001b[43m \u001b[49m\u001b[38;5;28;43;01mNone\u001b[39;49;00m\u001b[43m)\u001b[49m\u001b[43m,\u001b[49m\n\u001b[1;32m   1221\u001b[0m \u001b[43m    \u001b[49m\u001b[43mcompression\u001b[49m\u001b[38;5;241;43m=\u001b[39;49m\u001b[38;5;28;43mself\u001b[39;49m\u001b[38;5;241;43m.\u001b[39;49m\u001b[43moptions\u001b[49m\u001b[38;5;241;43m.\u001b[39;49m\u001b[43mget\u001b[49m\u001b[43m(\u001b[49m\u001b[38;5;124;43m\"\u001b[39;49m\u001b[38;5;124;43mcompression\u001b[39;49m\u001b[38;5;124;43m\"\u001b[39;49m\u001b[43m,\u001b[49m\u001b[43m \u001b[49m\u001b[38;5;28;43;01mNone\u001b[39;49;00m\u001b[43m)\u001b[49m\u001b[43m,\u001b[49m\n\u001b[1;32m   1222\u001b[0m \u001b[43m    \u001b[49m\u001b[43mmemory_map\u001b[49m\u001b[38;5;241;43m=\u001b[39;49m\u001b[38;5;28;43mself\u001b[39;49m\u001b[38;5;241;43m.\u001b[39;49m\u001b[43moptions\u001b[49m\u001b[38;5;241;43m.\u001b[39;49m\u001b[43mget\u001b[49m\u001b[43m(\u001b[49m\u001b[38;5;124;43m\"\u001b[39;49m\u001b[38;5;124;43mmemory_map\u001b[39;49m\u001b[38;5;124;43m\"\u001b[39;49m\u001b[43m,\u001b[49m\u001b[43m \u001b[49m\u001b[38;5;28;43;01mFalse\u001b[39;49;00m\u001b[43m)\u001b[49m\u001b[43m,\u001b[49m\n\u001b[1;32m   1223\u001b[0m \u001b[43m    \u001b[49m\u001b[43mis_text\u001b[49m\u001b[38;5;241;43m=\u001b[39;49m\u001b[43mis_text\u001b[49m\u001b[43m,\u001b[49m\n\u001b[1;32m   1224\u001b[0m \u001b[43m    \u001b[49m\u001b[43merrors\u001b[49m\u001b[38;5;241;43m=\u001b[39;49m\u001b[38;5;28;43mself\u001b[39;49m\u001b[38;5;241;43m.\u001b[39;49m\u001b[43moptions\u001b[49m\u001b[38;5;241;43m.\u001b[39;49m\u001b[43mget\u001b[49m\u001b[43m(\u001b[49m\u001b[38;5;124;43m\"\u001b[39;49m\u001b[38;5;124;43mencoding_errors\u001b[39;49m\u001b[38;5;124;43m\"\u001b[39;49m\u001b[43m,\u001b[49m\u001b[43m \u001b[49m\u001b[38;5;124;43m\"\u001b[39;49m\u001b[38;5;124;43mstrict\u001b[39;49m\u001b[38;5;124;43m\"\u001b[39;49m\u001b[43m)\u001b[49m\u001b[43m,\u001b[49m\n\u001b[1;32m   1225\u001b[0m \u001b[43m    \u001b[49m\u001b[43mstorage_options\u001b[49m\u001b[38;5;241;43m=\u001b[39;49m\u001b[38;5;28;43mself\u001b[39;49m\u001b[38;5;241;43m.\u001b[39;49m\u001b[43moptions\u001b[49m\u001b[38;5;241;43m.\u001b[39;49m\u001b[43mget\u001b[49m\u001b[43m(\u001b[49m\u001b[38;5;124;43m\"\u001b[39;49m\u001b[38;5;124;43mstorage_options\u001b[39;49m\u001b[38;5;124;43m\"\u001b[39;49m\u001b[43m,\u001b[49m\u001b[43m \u001b[49m\u001b[38;5;28;43;01mNone\u001b[39;49;00m\u001b[43m)\u001b[49m\u001b[43m,\u001b[49m\n\u001b[1;32m   1226\u001b[0m \u001b[43m\u001b[49m\u001b[43m)\u001b[49m\n\u001b[1;32m   1227\u001b[0m \u001b[38;5;28;01massert\u001b[39;00m \u001b[38;5;28mself\u001b[39m\u001b[38;5;241m.\u001b[39mhandles \u001b[38;5;129;01mis\u001b[39;00m \u001b[38;5;129;01mnot\u001b[39;00m \u001b[38;5;28;01mNone\u001b[39;00m\n\u001b[1;32m   1228\u001b[0m f \u001b[38;5;241m=\u001b[39m \u001b[38;5;28mself\u001b[39m\u001b[38;5;241m.\u001b[39mhandles\u001b[38;5;241m.\u001b[39mhandle\n",
      "File \u001b[0;32m~/anaconda3/lib/python3.9/site-packages/pandas/io/common.py:789\u001b[0m, in \u001b[0;36mget_handle\u001b[0;34m(path_or_buf, mode, encoding, compression, memory_map, is_text, errors, storage_options)\u001b[0m\n\u001b[1;32m    784\u001b[0m \u001b[38;5;28;01melif\u001b[39;00m \u001b[38;5;28misinstance\u001b[39m(handle, \u001b[38;5;28mstr\u001b[39m):\n\u001b[1;32m    785\u001b[0m     \u001b[38;5;66;03m# Check whether the filename is to be opened in binary mode.\u001b[39;00m\n\u001b[1;32m    786\u001b[0m     \u001b[38;5;66;03m# Binary mode does not support 'encoding' and 'newline'.\u001b[39;00m\n\u001b[1;32m    787\u001b[0m     \u001b[38;5;28;01mif\u001b[39;00m ioargs\u001b[38;5;241m.\u001b[39mencoding \u001b[38;5;129;01mand\u001b[39;00m \u001b[38;5;124m\"\u001b[39m\u001b[38;5;124mb\u001b[39m\u001b[38;5;124m\"\u001b[39m \u001b[38;5;129;01mnot\u001b[39;00m \u001b[38;5;129;01min\u001b[39;00m ioargs\u001b[38;5;241m.\u001b[39mmode:\n\u001b[1;32m    788\u001b[0m         \u001b[38;5;66;03m# Encoding\u001b[39;00m\n\u001b[0;32m--> 789\u001b[0m         handle \u001b[38;5;241m=\u001b[39m \u001b[38;5;28;43mopen\u001b[39;49m\u001b[43m(\u001b[49m\n\u001b[1;32m    790\u001b[0m \u001b[43m            \u001b[49m\u001b[43mhandle\u001b[49m\u001b[43m,\u001b[49m\n\u001b[1;32m    791\u001b[0m \u001b[43m            \u001b[49m\u001b[43mioargs\u001b[49m\u001b[38;5;241;43m.\u001b[39;49m\u001b[43mmode\u001b[49m\u001b[43m,\u001b[49m\n\u001b[1;32m    792\u001b[0m \u001b[43m            \u001b[49m\u001b[43mencoding\u001b[49m\u001b[38;5;241;43m=\u001b[39;49m\u001b[43mioargs\u001b[49m\u001b[38;5;241;43m.\u001b[39;49m\u001b[43mencoding\u001b[49m\u001b[43m,\u001b[49m\n\u001b[1;32m    793\u001b[0m \u001b[43m            \u001b[49m\u001b[43merrors\u001b[49m\u001b[38;5;241;43m=\u001b[39;49m\u001b[43merrors\u001b[49m\u001b[43m,\u001b[49m\n\u001b[1;32m    794\u001b[0m \u001b[43m            \u001b[49m\u001b[43mnewline\u001b[49m\u001b[38;5;241;43m=\u001b[39;49m\u001b[38;5;124;43m\"\u001b[39;49m\u001b[38;5;124;43m\"\u001b[39;49m\u001b[43m,\u001b[49m\n\u001b[1;32m    795\u001b[0m \u001b[43m        \u001b[49m\u001b[43m)\u001b[49m\n\u001b[1;32m    796\u001b[0m     \u001b[38;5;28;01melse\u001b[39;00m:\n\u001b[1;32m    797\u001b[0m         \u001b[38;5;66;03m# Binary mode\u001b[39;00m\n\u001b[1;32m    798\u001b[0m         handle \u001b[38;5;241m=\u001b[39m \u001b[38;5;28mopen\u001b[39m(handle, ioargs\u001b[38;5;241m.\u001b[39mmode)\n",
      "\u001b[0;31mFileNotFoundError\u001b[0m: [Errno 2] No such file or directory: 'SpecZ_DR17.csv'"
     ]
    }
   ],
   "source": [
    "SDSS = pd.read_csv('SpecZ_DR17.csv')"
   ]
  },
  {
   "cell_type": "code",
   "execution_count": 70,
   "metadata": {
    "ExecuteTime": {
     "end_time": "2022-06-04T20:10:09.881090Z",
     "start_time": "2022-06-04T20:10:09.845186Z"
    },
    "hidden": true
   },
   "outputs": [
    {
     "ename": "NameError",
     "evalue": "name 'SDSS' is not defined",
     "output_type": "error",
     "traceback": [
      "\u001b[0;31m---------------------------------------------------------------------------\u001b[0m",
      "\u001b[0;31mNameError\u001b[0m                                 Traceback (most recent call last)",
      "Input \u001b[0;32mIn [70]\u001b[0m, in \u001b[0;36m<cell line: 1>\u001b[0;34m()\u001b[0m\n\u001b[0;32m----> 1\u001b[0m SDSS \u001b[38;5;241m=\u001b[39m \u001b[43mSDSS\u001b[49m[[\u001b[38;5;124m'\u001b[39m\u001b[38;5;124mra\u001b[39m\u001b[38;5;124m'\u001b[39m, \u001b[38;5;124m'\u001b[39m\u001b[38;5;124mdec\u001b[39m\u001b[38;5;124m'\u001b[39m, \u001b[38;5;124m'\u001b[39m\u001b[38;5;124mredshift\u001b[39m\u001b[38;5;124m'\u001b[39m, \u001b[38;5;124m'\u001b[39m\u001b[38;5;124mz_err\u001b[39m\u001b[38;5;124m'\u001b[39m, \u001b[38;5;124m'\u001b[39m\u001b[38;5;124mz_flag\u001b[39m\u001b[38;5;124m'\u001b[39m, \u001b[38;5;124m'\u001b[39m\u001b[38;5;124mspec_class\u001b[39m\u001b[38;5;124m'\u001b[39m]]\n\u001b[1;32m      2\u001b[0m SDSS[\u001b[38;5;124m'\u001b[39m\u001b[38;5;124msource\u001b[39m\u001b[38;5;124m'\u001b[39m] \u001b[38;5;241m=\u001b[39m \u001b[38;5;124m'\u001b[39m\u001b[38;5;124mSDSS_DR17\u001b[39m\u001b[38;5;124m'\u001b[39m\n\u001b[1;32m      3\u001b[0m SDSS\u001b[38;5;241m.\u001b[39mcolumns \u001b[38;5;241m=\u001b[39m [\u001b[38;5;124m'\u001b[39m\u001b[38;5;124mRA\u001b[39m\u001b[38;5;124m'\u001b[39m, \u001b[38;5;124m'\u001b[39m\u001b[38;5;124mDEC\u001b[39m\u001b[38;5;124m'\u001b[39m, \u001b[38;5;124m'\u001b[39m\u001b[38;5;124mz\u001b[39m\u001b[38;5;124m'\u001b[39m, \u001b[38;5;124m'\u001b[39m\u001b[38;5;124me_z\u001b[39m\u001b[38;5;124m'\u001b[39m, \u001b[38;5;124m'\u001b[39m\u001b[38;5;124mf_z\u001b[39m\u001b[38;5;124m'\u001b[39m, \u001b[38;5;124m'\u001b[39m\u001b[38;5;124mclass\u001b[39m\u001b[38;5;124m'\u001b[39m, \u001b[38;5;124m'\u001b[39m\u001b[38;5;124msource\u001b[39m\u001b[38;5;124m'\u001b[39m]\n",
      "\u001b[0;31mNameError\u001b[0m: name 'SDSS' is not defined"
     ]
    }
   ],
   "source": [
    "SDSS = SDSS[['ra', 'dec', 'redshift', 'z_err', 'z_flag', 'spec_class']]\n",
    "SDSS['source'] = 'SDSS_DR17'\n",
    "SDSS.columns = ['RA', 'DEC', 'z', 'e_z', 'f_z', 'class', 'source']"
   ]
  },
  {
   "cell_type": "code",
   "execution_count": 71,
   "metadata": {
    "ExecuteTime": {
     "end_time": "2022-06-04T20:38:49.701709Z",
     "start_time": "2022-06-04T20:38:28.378883Z"
    },
    "hidden": true
   },
   "outputs": [
    {
     "ename": "FileNotFoundError",
     "evalue": "[Errno 2] No such file or directory: 'Concatenated_Catalogue_3.csv'",
     "output_type": "error",
     "traceback": [
      "\u001b[0;31m---------------------------------------------------------------------------\u001b[0m",
      "\u001b[0;31mFileNotFoundError\u001b[0m                         Traceback (most recent call last)",
      "Input \u001b[0;32mIn [71]\u001b[0m, in \u001b[0;36m<cell line: 1>\u001b[0;34m()\u001b[0m\n\u001b[0;32m----> 1\u001b[0m Spectroscopic_DF \u001b[38;5;241m=\u001b[39m \u001b[43mpd\u001b[49m\u001b[38;5;241;43m.\u001b[39;49m\u001b[43mread_csv\u001b[49m\u001b[43m(\u001b[49m\u001b[38;5;124;43m'\u001b[39;49m\u001b[38;5;124;43mConcatenated_Catalogue_3.csv\u001b[39;49m\u001b[38;5;124;43m'\u001b[39;49m\u001b[43m)\u001b[49m\n",
      "File \u001b[0;32m~/anaconda3/lib/python3.9/site-packages/pandas/util/_decorators.py:311\u001b[0m, in \u001b[0;36mdeprecate_nonkeyword_arguments.<locals>.decorate.<locals>.wrapper\u001b[0;34m(*args, **kwargs)\u001b[0m\n\u001b[1;32m    305\u001b[0m \u001b[38;5;28;01mif\u001b[39;00m \u001b[38;5;28mlen\u001b[39m(args) \u001b[38;5;241m>\u001b[39m num_allow_args:\n\u001b[1;32m    306\u001b[0m     warnings\u001b[38;5;241m.\u001b[39mwarn(\n\u001b[1;32m    307\u001b[0m         msg\u001b[38;5;241m.\u001b[39mformat(arguments\u001b[38;5;241m=\u001b[39marguments),\n\u001b[1;32m    308\u001b[0m         \u001b[38;5;167;01mFutureWarning\u001b[39;00m,\n\u001b[1;32m    309\u001b[0m         stacklevel\u001b[38;5;241m=\u001b[39mstacklevel,\n\u001b[1;32m    310\u001b[0m     )\n\u001b[0;32m--> 311\u001b[0m \u001b[38;5;28;01mreturn\u001b[39;00m \u001b[43mfunc\u001b[49m\u001b[43m(\u001b[49m\u001b[38;5;241;43m*\u001b[39;49m\u001b[43margs\u001b[49m\u001b[43m,\u001b[49m\u001b[43m \u001b[49m\u001b[38;5;241;43m*\u001b[39;49m\u001b[38;5;241;43m*\u001b[39;49m\u001b[43mkwargs\u001b[49m\u001b[43m)\u001b[49m\n",
      "File \u001b[0;32m~/anaconda3/lib/python3.9/site-packages/pandas/io/parsers/readers.py:680\u001b[0m, in \u001b[0;36mread_csv\u001b[0;34m(filepath_or_buffer, sep, delimiter, header, names, index_col, usecols, squeeze, prefix, mangle_dupe_cols, dtype, engine, converters, true_values, false_values, skipinitialspace, skiprows, skipfooter, nrows, na_values, keep_default_na, na_filter, verbose, skip_blank_lines, parse_dates, infer_datetime_format, keep_date_col, date_parser, dayfirst, cache_dates, iterator, chunksize, compression, thousands, decimal, lineterminator, quotechar, quoting, doublequote, escapechar, comment, encoding, encoding_errors, dialect, error_bad_lines, warn_bad_lines, on_bad_lines, delim_whitespace, low_memory, memory_map, float_precision, storage_options)\u001b[0m\n\u001b[1;32m    665\u001b[0m kwds_defaults \u001b[38;5;241m=\u001b[39m _refine_defaults_read(\n\u001b[1;32m    666\u001b[0m     dialect,\n\u001b[1;32m    667\u001b[0m     delimiter,\n\u001b[0;32m   (...)\u001b[0m\n\u001b[1;32m    676\u001b[0m     defaults\u001b[38;5;241m=\u001b[39m{\u001b[38;5;124m\"\u001b[39m\u001b[38;5;124mdelimiter\u001b[39m\u001b[38;5;124m\"\u001b[39m: \u001b[38;5;124m\"\u001b[39m\u001b[38;5;124m,\u001b[39m\u001b[38;5;124m\"\u001b[39m},\n\u001b[1;32m    677\u001b[0m )\n\u001b[1;32m    678\u001b[0m kwds\u001b[38;5;241m.\u001b[39mupdate(kwds_defaults)\n\u001b[0;32m--> 680\u001b[0m \u001b[38;5;28;01mreturn\u001b[39;00m \u001b[43m_read\u001b[49m\u001b[43m(\u001b[49m\u001b[43mfilepath_or_buffer\u001b[49m\u001b[43m,\u001b[49m\u001b[43m \u001b[49m\u001b[43mkwds\u001b[49m\u001b[43m)\u001b[49m\n",
      "File \u001b[0;32m~/anaconda3/lib/python3.9/site-packages/pandas/io/parsers/readers.py:575\u001b[0m, in \u001b[0;36m_read\u001b[0;34m(filepath_or_buffer, kwds)\u001b[0m\n\u001b[1;32m    572\u001b[0m _validate_names(kwds\u001b[38;5;241m.\u001b[39mget(\u001b[38;5;124m\"\u001b[39m\u001b[38;5;124mnames\u001b[39m\u001b[38;5;124m\"\u001b[39m, \u001b[38;5;28;01mNone\u001b[39;00m))\n\u001b[1;32m    574\u001b[0m \u001b[38;5;66;03m# Create the parser.\u001b[39;00m\n\u001b[0;32m--> 575\u001b[0m parser \u001b[38;5;241m=\u001b[39m \u001b[43mTextFileReader\u001b[49m\u001b[43m(\u001b[49m\u001b[43mfilepath_or_buffer\u001b[49m\u001b[43m,\u001b[49m\u001b[43m \u001b[49m\u001b[38;5;241;43m*\u001b[39;49m\u001b[38;5;241;43m*\u001b[39;49m\u001b[43mkwds\u001b[49m\u001b[43m)\u001b[49m\n\u001b[1;32m    577\u001b[0m \u001b[38;5;28;01mif\u001b[39;00m chunksize \u001b[38;5;129;01mor\u001b[39;00m iterator:\n\u001b[1;32m    578\u001b[0m     \u001b[38;5;28;01mreturn\u001b[39;00m parser\n",
      "File \u001b[0;32m~/anaconda3/lib/python3.9/site-packages/pandas/io/parsers/readers.py:933\u001b[0m, in \u001b[0;36mTextFileReader.__init__\u001b[0;34m(self, f, engine, **kwds)\u001b[0m\n\u001b[1;32m    930\u001b[0m     \u001b[38;5;28mself\u001b[39m\u001b[38;5;241m.\u001b[39moptions[\u001b[38;5;124m\"\u001b[39m\u001b[38;5;124mhas_index_names\u001b[39m\u001b[38;5;124m\"\u001b[39m] \u001b[38;5;241m=\u001b[39m kwds[\u001b[38;5;124m\"\u001b[39m\u001b[38;5;124mhas_index_names\u001b[39m\u001b[38;5;124m\"\u001b[39m]\n\u001b[1;32m    932\u001b[0m \u001b[38;5;28mself\u001b[39m\u001b[38;5;241m.\u001b[39mhandles: IOHandles \u001b[38;5;241m|\u001b[39m \u001b[38;5;28;01mNone\u001b[39;00m \u001b[38;5;241m=\u001b[39m \u001b[38;5;28;01mNone\u001b[39;00m\n\u001b[0;32m--> 933\u001b[0m \u001b[38;5;28mself\u001b[39m\u001b[38;5;241m.\u001b[39m_engine \u001b[38;5;241m=\u001b[39m \u001b[38;5;28;43mself\u001b[39;49m\u001b[38;5;241;43m.\u001b[39;49m\u001b[43m_make_engine\u001b[49m\u001b[43m(\u001b[49m\u001b[43mf\u001b[49m\u001b[43m,\u001b[49m\u001b[43m \u001b[49m\u001b[38;5;28;43mself\u001b[39;49m\u001b[38;5;241;43m.\u001b[39;49m\u001b[43mengine\u001b[49m\u001b[43m)\u001b[49m\n",
      "File \u001b[0;32m~/anaconda3/lib/python3.9/site-packages/pandas/io/parsers/readers.py:1217\u001b[0m, in \u001b[0;36mTextFileReader._make_engine\u001b[0;34m(self, f, engine)\u001b[0m\n\u001b[1;32m   1213\u001b[0m     mode \u001b[38;5;241m=\u001b[39m \u001b[38;5;124m\"\u001b[39m\u001b[38;5;124mrb\u001b[39m\u001b[38;5;124m\"\u001b[39m\n\u001b[1;32m   1214\u001b[0m \u001b[38;5;66;03m# error: No overload variant of \"get_handle\" matches argument types\u001b[39;00m\n\u001b[1;32m   1215\u001b[0m \u001b[38;5;66;03m# \"Union[str, PathLike[str], ReadCsvBuffer[bytes], ReadCsvBuffer[str]]\"\u001b[39;00m\n\u001b[1;32m   1216\u001b[0m \u001b[38;5;66;03m# , \"str\", \"bool\", \"Any\", \"Any\", \"Any\", \"Any\", \"Any\"\u001b[39;00m\n\u001b[0;32m-> 1217\u001b[0m \u001b[38;5;28mself\u001b[39m\u001b[38;5;241m.\u001b[39mhandles \u001b[38;5;241m=\u001b[39m \u001b[43mget_handle\u001b[49m\u001b[43m(\u001b[49m\u001b[43m  \u001b[49m\u001b[38;5;66;43;03m# type: ignore[call-overload]\u001b[39;49;00m\n\u001b[1;32m   1218\u001b[0m \u001b[43m    \u001b[49m\u001b[43mf\u001b[49m\u001b[43m,\u001b[49m\n\u001b[1;32m   1219\u001b[0m \u001b[43m    \u001b[49m\u001b[43mmode\u001b[49m\u001b[43m,\u001b[49m\n\u001b[1;32m   1220\u001b[0m \u001b[43m    \u001b[49m\u001b[43mencoding\u001b[49m\u001b[38;5;241;43m=\u001b[39;49m\u001b[38;5;28;43mself\u001b[39;49m\u001b[38;5;241;43m.\u001b[39;49m\u001b[43moptions\u001b[49m\u001b[38;5;241;43m.\u001b[39;49m\u001b[43mget\u001b[49m\u001b[43m(\u001b[49m\u001b[38;5;124;43m\"\u001b[39;49m\u001b[38;5;124;43mencoding\u001b[39;49m\u001b[38;5;124;43m\"\u001b[39;49m\u001b[43m,\u001b[49m\u001b[43m \u001b[49m\u001b[38;5;28;43;01mNone\u001b[39;49;00m\u001b[43m)\u001b[49m\u001b[43m,\u001b[49m\n\u001b[1;32m   1221\u001b[0m \u001b[43m    \u001b[49m\u001b[43mcompression\u001b[49m\u001b[38;5;241;43m=\u001b[39;49m\u001b[38;5;28;43mself\u001b[39;49m\u001b[38;5;241;43m.\u001b[39;49m\u001b[43moptions\u001b[49m\u001b[38;5;241;43m.\u001b[39;49m\u001b[43mget\u001b[49m\u001b[43m(\u001b[49m\u001b[38;5;124;43m\"\u001b[39;49m\u001b[38;5;124;43mcompression\u001b[39;49m\u001b[38;5;124;43m\"\u001b[39;49m\u001b[43m,\u001b[49m\u001b[43m \u001b[49m\u001b[38;5;28;43;01mNone\u001b[39;49;00m\u001b[43m)\u001b[49m\u001b[43m,\u001b[49m\n\u001b[1;32m   1222\u001b[0m \u001b[43m    \u001b[49m\u001b[43mmemory_map\u001b[49m\u001b[38;5;241;43m=\u001b[39;49m\u001b[38;5;28;43mself\u001b[39;49m\u001b[38;5;241;43m.\u001b[39;49m\u001b[43moptions\u001b[49m\u001b[38;5;241;43m.\u001b[39;49m\u001b[43mget\u001b[49m\u001b[43m(\u001b[49m\u001b[38;5;124;43m\"\u001b[39;49m\u001b[38;5;124;43mmemory_map\u001b[39;49m\u001b[38;5;124;43m\"\u001b[39;49m\u001b[43m,\u001b[49m\u001b[43m \u001b[49m\u001b[38;5;28;43;01mFalse\u001b[39;49;00m\u001b[43m)\u001b[49m\u001b[43m,\u001b[49m\n\u001b[1;32m   1223\u001b[0m \u001b[43m    \u001b[49m\u001b[43mis_text\u001b[49m\u001b[38;5;241;43m=\u001b[39;49m\u001b[43mis_text\u001b[49m\u001b[43m,\u001b[49m\n\u001b[1;32m   1224\u001b[0m \u001b[43m    \u001b[49m\u001b[43merrors\u001b[49m\u001b[38;5;241;43m=\u001b[39;49m\u001b[38;5;28;43mself\u001b[39;49m\u001b[38;5;241;43m.\u001b[39;49m\u001b[43moptions\u001b[49m\u001b[38;5;241;43m.\u001b[39;49m\u001b[43mget\u001b[49m\u001b[43m(\u001b[49m\u001b[38;5;124;43m\"\u001b[39;49m\u001b[38;5;124;43mencoding_errors\u001b[39;49m\u001b[38;5;124;43m\"\u001b[39;49m\u001b[43m,\u001b[49m\u001b[43m \u001b[49m\u001b[38;5;124;43m\"\u001b[39;49m\u001b[38;5;124;43mstrict\u001b[39;49m\u001b[38;5;124;43m\"\u001b[39;49m\u001b[43m)\u001b[49m\u001b[43m,\u001b[49m\n\u001b[1;32m   1225\u001b[0m \u001b[43m    \u001b[49m\u001b[43mstorage_options\u001b[49m\u001b[38;5;241;43m=\u001b[39;49m\u001b[38;5;28;43mself\u001b[39;49m\u001b[38;5;241;43m.\u001b[39;49m\u001b[43moptions\u001b[49m\u001b[38;5;241;43m.\u001b[39;49m\u001b[43mget\u001b[49m\u001b[43m(\u001b[49m\u001b[38;5;124;43m\"\u001b[39;49m\u001b[38;5;124;43mstorage_options\u001b[39;49m\u001b[38;5;124;43m\"\u001b[39;49m\u001b[43m,\u001b[49m\u001b[43m \u001b[49m\u001b[38;5;28;43;01mNone\u001b[39;49;00m\u001b[43m)\u001b[49m\u001b[43m,\u001b[49m\n\u001b[1;32m   1226\u001b[0m \u001b[43m\u001b[49m\u001b[43m)\u001b[49m\n\u001b[1;32m   1227\u001b[0m \u001b[38;5;28;01massert\u001b[39;00m \u001b[38;5;28mself\u001b[39m\u001b[38;5;241m.\u001b[39mhandles \u001b[38;5;129;01mis\u001b[39;00m \u001b[38;5;129;01mnot\u001b[39;00m \u001b[38;5;28;01mNone\u001b[39;00m\n\u001b[1;32m   1228\u001b[0m f \u001b[38;5;241m=\u001b[39m \u001b[38;5;28mself\u001b[39m\u001b[38;5;241m.\u001b[39mhandles\u001b[38;5;241m.\u001b[39mhandle\n",
      "File \u001b[0;32m~/anaconda3/lib/python3.9/site-packages/pandas/io/common.py:789\u001b[0m, in \u001b[0;36mget_handle\u001b[0;34m(path_or_buf, mode, encoding, compression, memory_map, is_text, errors, storage_options)\u001b[0m\n\u001b[1;32m    784\u001b[0m \u001b[38;5;28;01melif\u001b[39;00m \u001b[38;5;28misinstance\u001b[39m(handle, \u001b[38;5;28mstr\u001b[39m):\n\u001b[1;32m    785\u001b[0m     \u001b[38;5;66;03m# Check whether the filename is to be opened in binary mode.\u001b[39;00m\n\u001b[1;32m    786\u001b[0m     \u001b[38;5;66;03m# Binary mode does not support 'encoding' and 'newline'.\u001b[39;00m\n\u001b[1;32m    787\u001b[0m     \u001b[38;5;28;01mif\u001b[39;00m ioargs\u001b[38;5;241m.\u001b[39mencoding \u001b[38;5;129;01mand\u001b[39;00m \u001b[38;5;124m\"\u001b[39m\u001b[38;5;124mb\u001b[39m\u001b[38;5;124m\"\u001b[39m \u001b[38;5;129;01mnot\u001b[39;00m \u001b[38;5;129;01min\u001b[39;00m ioargs\u001b[38;5;241m.\u001b[39mmode:\n\u001b[1;32m    788\u001b[0m         \u001b[38;5;66;03m# Encoding\u001b[39;00m\n\u001b[0;32m--> 789\u001b[0m         handle \u001b[38;5;241m=\u001b[39m \u001b[38;5;28;43mopen\u001b[39;49m\u001b[43m(\u001b[49m\n\u001b[1;32m    790\u001b[0m \u001b[43m            \u001b[49m\u001b[43mhandle\u001b[49m\u001b[43m,\u001b[49m\n\u001b[1;32m    791\u001b[0m \u001b[43m            \u001b[49m\u001b[43mioargs\u001b[49m\u001b[38;5;241;43m.\u001b[39;49m\u001b[43mmode\u001b[49m\u001b[43m,\u001b[49m\n\u001b[1;32m    792\u001b[0m \u001b[43m            \u001b[49m\u001b[43mencoding\u001b[49m\u001b[38;5;241;43m=\u001b[39;49m\u001b[43mioargs\u001b[49m\u001b[38;5;241;43m.\u001b[39;49m\u001b[43mencoding\u001b[49m\u001b[43m,\u001b[49m\n\u001b[1;32m    793\u001b[0m \u001b[43m            \u001b[49m\u001b[43merrors\u001b[49m\u001b[38;5;241;43m=\u001b[39;49m\u001b[43merrors\u001b[49m\u001b[43m,\u001b[49m\n\u001b[1;32m    794\u001b[0m \u001b[43m            \u001b[49m\u001b[43mnewline\u001b[49m\u001b[38;5;241;43m=\u001b[39;49m\u001b[38;5;124;43m\"\u001b[39;49m\u001b[38;5;124;43m\"\u001b[39;49m\u001b[43m,\u001b[49m\n\u001b[1;32m    795\u001b[0m \u001b[43m        \u001b[49m\u001b[43m)\u001b[49m\n\u001b[1;32m    796\u001b[0m     \u001b[38;5;28;01melse\u001b[39;00m:\n\u001b[1;32m    797\u001b[0m         \u001b[38;5;66;03m# Binary mode\u001b[39;00m\n\u001b[1;32m    798\u001b[0m         handle \u001b[38;5;241m=\u001b[39m \u001b[38;5;28mopen\u001b[39m(handle, ioargs\u001b[38;5;241m.\u001b[39mmode)\n",
      "\u001b[0;31mFileNotFoundError\u001b[0m: [Errno 2] No such file or directory: 'Concatenated_Catalogue_3.csv'"
     ]
    }
   ],
   "source": [
    "Spectroscopic_DF = pd.read_csv('Concatenated_Catalogue_3.csv')"
   ]
  },
  {
   "cell_type": "code",
   "execution_count": null,
   "metadata": {
    "ExecuteTime": {
     "end_time": "2022-06-09T17:32:56.362764Z",
     "start_time": "2022-06-09T17:32:56.360187Z"
    },
    "hidden": true
   },
   "outputs": [],
   "source": [
    "# Concatenate both catalogues\n",
    "Spectroscopic_DF = pd.concat([SDSS, Spectroscopic_DF])"
   ]
  },
  {
   "cell_type": "code",
   "execution_count": null,
   "metadata": {
    "hidden": true
   },
   "outputs": [],
   "source": [
    "# Save the final catalogue\n",
    "Spectroscopic_DF = pd.read_csv('Concatenated_Catalogue_Final.csv')"
   ]
  }
 ],
 "metadata": {
  "kernelspec": {
   "display_name": "Python 3 (ipykernel)",
   "language": "python",
   "name": "python3"
  },
  "language_info": {
   "codemirror_mode": {
    "name": "ipython",
    "version": 3
   },
   "file_extension": ".py",
   "mimetype": "text/x-python",
   "name": "python",
   "nbconvert_exporter": "python",
   "pygments_lexer": "ipython3",
   "version": "3.9.12"
  }
 },
 "nbformat": 4,
 "nbformat_minor": 4
}
