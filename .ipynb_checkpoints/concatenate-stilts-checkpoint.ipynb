{
 "cells": [
  {
   "cell_type": "code",
   "execution_count": 1,
   "id": "aba85d61",
   "metadata": {},
   "outputs": [],
   "source": [
    "# import numpy as np\n",
    "import os"
   ]
  },
  {
   "cell_type": "code",
   "execution_count": 2,
   "id": "8de9c75b",
   "metadata": {},
   "outputs": [],
   "source": [
    "# output_dir = 'Fields-all_dr3/'\n",
    "# fields = [s for s in os.listdir(output_dir) if s.endswith('.csv')]\n",
    "# np.savetxt('fields.txt', fields, fmt='%s')"
   ]
  },
  {
   "cell_type": "code",
   "execution_count": 4,
   "id": "9b7c3465",
   "metadata": {},
   "outputs": [],
   "source": [
    "os.chdir('Fields-all_dr3/')"
   ]
  },
  {
   "cell_type": "code",
   "execution_count": 6,
   "id": "2978253b",
   "metadata": {},
   "outputs": [
    {
     "name": "stderr",
     "output_type": "stream",
     "text": [
      "Error: Column type mismatch (ISOarea(Integer) not compatible with ISOarea(Short))\n"
     ]
    },
    {
     "data": {
      "text/plain": [
       "0"
      ]
     },
     "execution_count": 6,
     "metadata": {},
     "output_type": "execute_result"
    }
   ],
   "source": [
    "os.system(f\"\"\"java -jar ../stilts.jar tcat in=@../fields.txt \n",
    "            icmd='keepcols \"ID RA DEC e_g_aper_3 e_i_aper_3 e_J0378_aper_3 e_J0395_aper_3\n",
    "            e_J0410_aper_3 e_J0430_aper_3 e_J0515_aper_3 e_J0660_aper_3 e_J0861_aper_3\n",
    "            e_u_aper_3 e_z_aper_3 g_aper_3 i_aper_3 J0378_aper_3 J0395_aper_3 J0410_aper_3\n",
    "            J0430_aper_3 J0515_aper_3 J0660_aper_3 J0861_aper_3 nDet_aper_3 r_aper_3\n",
    "            s2n_Det_aper_3 s2n_g_aper_3 s2n_i_aper_3 s2n_J0378_aper_3 s2n_J0395_aper_3\n",
    "            s2n_J0410_aper_3 s2n_J0430_aper_3 s2n_J0515_aper_3 s2n_J0660_aper_3 s2n_J0861_aper_3\n",
    "            s2n_r_aper_3 s2n_u_aper_3 s2n_z_aper_3 u_aper_3 z_aper_3\"' \n",
    "            out=Hydra-aper_3.fits\"\"\")"
   ]
  },
  {
   "cell_type": "code",
   "execution_count": null,
   "id": "46838d62",
   "metadata": {},
   "outputs": [],
   "source": []
  }
 ],
 "metadata": {
  "kernelspec": {
   "display_name": "Python 3 (ipykernel)",
   "language": "python",
   "name": "python3"
  },
  "language_info": {
   "codemirror_mode": {
    "name": "ipython",
    "version": 3
   },
   "file_extension": ".py",
   "mimetype": "text/x-python",
   "name": "python",
   "nbconvert_exporter": "python",
   "pygments_lexer": "ipython3",
   "version": "3.9.12"
  }
 },
 "nbformat": 4,
 "nbformat_minor": 5
}
