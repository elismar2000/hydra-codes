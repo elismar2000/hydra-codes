{
 "cells": [
  {
   "cell_type": "code",
   "execution_count": 1,
   "id": "98b54b98",
   "metadata": {},
   "outputs": [],
   "source": [
    "import pandas as pd"
   ]
  },
  {
   "cell_type": "code",
   "execution_count": 3,
   "id": "58f937dc",
   "metadata": {},
   "outputs": [],
   "source": [
    "t = pd.read_csv(\"tables_photometric/Legacy_SPLUS-iDR4_match.csv\", \n",
    "            usecols=['ID', 'RA', 'DEC', 'ISOarea', 'PROB_GAL', 'PROB_STAR', 'PROB_QSO', 'PROB_STAR', 'CLASS', \n",
    "                    'odds', 'zml', 'g_petro', 'r_petro', 'u_petro', 'J0378_petro', 'J0395_petro', 'J0410_petro', \n",
    "                    'J0430_petro', 'J0515_petro', 'J0660_petro', 'i_petro', 'z_petro', 'J0861_petro', 'FWHM_n', \n",
    "                    'SEX_FLAGS_DET', 'model_flag', 'MU_MAX_INST', 'FLUX_RADIUS_50', 'FLUX_RADIUS_70', 'SG'])"
   ]
  },
  {
   "cell_type": "code",
   "execution_count": 4,
   "id": "56e7b374",
   "metadata": {},
   "outputs": [],
   "source": [
    "sg = t[\"SG\"]"
   ]
  },
  {
   "cell_type": "code",
   "execution_count": 6,
   "id": "621cbc43",
   "metadata": {},
   "outputs": [],
   "source": [
    "t.loc[sg == 0].to_csv(\"star-galaxy-tables/galaxies_legacy.csv\", \n",
    "          columns=['ID', 'RA', 'DEC', 'ISOarea', 'PROB_GAL', 'PROB_STAR', 'PROB_QSO', 'PROB_STAR', 'CLASS', \n",
    "                    'odds', 'zml', 'g_petro', 'r_petro', 'u_petro', 'J0378_petro', 'J0395_petro', 'J0410_petro', \n",
    "                    'J0430_petro', 'J0515_petro', 'J0660_petro', 'i_petro', 'z_petro', 'J0861_petro', 'FWHM_n', \n",
    "                    'SEX_FLAGS_DET', 'model_flag', 'MU_MAX_INST', 'FLUX_RADIUS_50', 'FLUX_RADIUS_70'], index=False)"
   ]
  },
  {
   "cell_type": "code",
   "execution_count": 7,
   "id": "837ab191",
   "metadata": {},
   "outputs": [],
   "source": [
    "t.loc[sg == 1].to_csv(\"star-galaxy-tables/stars_legacy.csv\", \n",
    "          columns=['ID', 'RA', 'DEC', 'ISOarea', 'PROB_GAL', 'PROB_STAR', 'PROB_QSO', 'PROB_STAR', 'CLASS', \n",
    "                    'odds', 'zml', 'g_petro', 'r_petro', 'u_petro', 'J0378_petro', 'J0395_petro', 'J0410_petro', \n",
    "                    'J0430_petro', 'J0515_petro', 'J0660_petro', 'i_petro', 'z_petro', 'J0861_petro', 'FWHM_n', \n",
    "                    'SEX_FLAGS_DET', 'model_flag', 'MU_MAX_INST', 'FLUX_RADIUS_50', 'FLUX_RADIUS_70'], index=False)"
   ]
  }
 ],
 "metadata": {
  "kernelspec": {
   "display_name": "Python 3",
   "language": "python",
   "name": "python3"
  },
  "language_info": {
   "codemirror_mode": {
    "name": "ipython",
    "version": 3
   },
   "file_extension": ".py",
   "mimetype": "text/x-python",
   "name": "python",
   "nbconvert_exporter": "python",
   "pygments_lexer": "ipython3",
   "version": "3.7.10"
  }
 },
 "nbformat": 4,
 "nbformat_minor": 5
}
