{
 "cells": [
  {
   "cell_type": "code",
   "execution_count": 36,
   "id": "616f5a46",
   "metadata": {},
   "outputs": [],
   "source": [
    "import os\n",
    "import pandas as pd"
   ]
  },
  {
   "cell_type": "code",
   "execution_count": 14,
   "id": "76f181a2",
   "metadata": {},
   "outputs": [],
   "source": [
    "Folders = [s for s in os.listdir('tables_photometric/Hydra-LegacyDR10/Hydra/')]\n",
    "\n",
    "for folder in Folders:\n",
    "    Files = [s for s in os.listdir(f\"tables_photometric/Hydra-LegacyDR10/Hydra/{folder}\")]\n",
    "    \n",
    "    for file in Files:\n",
    "        os.system(f\"\"\"java -jar stilts.jar tpipe in=tables_photometric/Hydra-LegacyDR10/Hydra/{folder}/{file} \\\n",
    "                      cmd='keepcols \"ra dec brick_primary type\"' omode=out out=tables_photometric/Hydra-LegacyDR10/HydraCSVs/{file.replace('.fits', '.csv')}\"\"\")"
   ]
  },
  {
   "cell_type": "code",
   "execution_count": 21,
   "id": "ea6a542b",
   "metadata": {},
   "outputs": [],
   "source": [
    "Folders_First_Level = [s for s in os.listdir('tables_photometric/Hydra-LegacyDR10/') if ('2022' in s)]\n",
    "\n",
    "for first_level in Folders_First_Level:\n",
    "    Folders_Second_Level = [s for s in os.listdir(f\"tables_photometric/Hydra-LegacyDR10/{first_level}/Hydra/\")]\n",
    "    \n",
    "    for folder in Folders_Second_Level:\n",
    "        Files = [s for s in os.listdir(f\"tables_photometric/Hydra-LegacyDR10/{first_level}/Hydra/{folder}\")]\n",
    "\n",
    "        for file in Files:\n",
    "            os.system(f\"\"\"java -jar stilts.jar tpipe in=tables_photometric/Hydra-LegacyDR10/{first_level}/Hydra/{folder}/{file} \\\n",
    "                          cmd='keepcols \"ra dec brick_primary type\"' omode=out out=tables_photometric/Hydra-LegacyDR10/HydraCSVs/{file.replace('.fits', '.csv')}\"\"\")"
   ]
  },
  {
   "cell_type": "code",
   "execution_count": 34,
   "id": "b59fe72c",
   "metadata": {},
   "outputs": [
    {
     "name": "stdout",
     "output_type": "stream",
     "text": [
      "Total number of files =  2501\n"
     ]
    }
   ],
   "source": [
    "Folders_First_Level = [s for s in os.listdir('tables_photometric/Hydra-LegacyDR10/') if ('2022' in s)]\n",
    "\n",
    "i = 0\n",
    "for first_level in Folders_First_Level:\n",
    "    Folders_Second_Level = [s for s in os.listdir(f\"tables_photometric/Hydra-LegacyDR10/{first_level}/Hydra/\")]\n",
    "    for folder in Folders_Second_Level:\n",
    "        Files = [s for s in os.listdir(f\"tables_photometric/Hydra-LegacyDR10/{first_level}/Hydra/{folder}\")]\n",
    "        i+=len(Files)\n",
    "        \n",
    "\n",
    "j = 0\n",
    "for folder in Folders:\n",
    "    Files = [s for s in os.listdir(f\"tables_photometric/Hydra-LegacyDR10/Hydra/{folder}\")]\n",
    "    j+=len(Files)\n",
    "    \n",
    "print(\"Total number of files = \", i+j)"
   ]
  },
  {
   "cell_type": "code",
   "execution_count": 35,
   "id": "1ac96e3f",
   "metadata": {},
   "outputs": [
    {
     "name": "stdout",
     "output_type": "stream",
     "text": [
      "Total number of csv files =  2497\n"
     ]
    }
   ],
   "source": [
    "files_csv = [s for s in os.listdir('tables_photometric/Hydra-LegacyDR10/HydraCSVs/')]\n",
    "\n",
    "print(\"Total number of csv files = \", len(files_csv))"
   ]
  },
  {
   "cell_type": "code",
   "execution_count": 37,
   "id": "3947ee60",
   "metadata": {},
   "outputs": [
    {
     "name": "stdout",
     "output_type": "stream",
     "text": [
      "# Concatenating fields...\n",
      "# Done\n"
     ]
    }
   ],
   "source": [
    "print('# Concatenating fields...')\n",
    "output_dir = 'tables_photometric/Hydra-LegacyDR10/HydraCSVs/'\n",
    "Files = [s for s in os.listdir(output_dir)]\n",
    "\n",
    "# In a loop, append each field as a Pandas DataFrame into the DFs list\n",
    "DFs = []\n",
    "for file in Files:\n",
    "    DFs.append(pd.read_csv(output_dir + file))\n",
    "\n",
    "# Concatenate the DFs\n",
    "Concat_DF = pd.concat(DFs)\n",
    "\n",
    "# Reset index\n",
    "Concat_DF = Concat_DF.reset_index(drop=True)\n",
    "\n",
    "# Save to file\n",
    "Concat_DF.to_csv(output_dir+'Hydra_LegacyDR10.csv', index=False) # Save as a final catalogue\n",
    "print('# Done')"
   ]
  }
 ],
 "metadata": {
  "kernelspec": {
   "display_name": "Python 3 (ipykernel)",
   "language": "python",
   "name": "python3"
  },
  "language_info": {
   "codemirror_mode": {
    "name": "ipython",
    "version": 3
   },
   "file_extension": ".py",
   "mimetype": "text/x-python",
   "name": "python",
   "nbconvert_exporter": "python",
   "pygments_lexer": "ipython3",
   "version": "3.9.12"
  }
 },
 "nbformat": 4,
 "nbformat_minor": 5
}
