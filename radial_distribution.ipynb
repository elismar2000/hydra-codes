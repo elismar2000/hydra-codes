{
 "cells": [
  {
   "cell_type": "code",
   "execution_count": null,
   "id": "97ffad64",
   "metadata": {},
   "outputs": [],
   "source": [
    "import matplotlib.pyplot as plt\n",
    "import numpy as np\n",
    "import pandas as pd\n",
    "\n",
    "import seaborn as sns; sns.set()\n",
    "\n",
    "sns.set_style(\"ticks\")"
   ]
  },
  {
   "cell_type": "code",
   "execution_count": null,
   "id": "98fed887",
   "metadata": {},
   "outputs": [],
   "source": [
    "hydra_table = pd.read_csv(\"Fields-DR3/hydra_probgal0.7.csv\", usecols=['RA', 'DEC', 'zml', 'r_petro', 'g_petro'])"
   ]
  },
  {
   "cell_type": "code",
   "execution_count": null,
   "id": "f4cbd366",
   "metadata": {},
   "outputs": [],
   "source": [
    "ra = hydra_table[\"RA\"]\n",
    "dec = hydra_table[\"DEC\"]"
   ]
  },
  {
   "cell_type": "code",
   "execution_count": null,
   "id": "0e7e59c2",
   "metadata": {},
   "outputs": [],
   "source": [
    "#Defining the center of Hydra (in degress) --> from NED \n",
    "ra_0 = 159.17\n",
    "dec_0 = -27.524\n",
    "\n",
    "def dist(ra, dec):\n",
    "    return np.sqrt((ra - ra_0)**2 + (dec - dec_0)**2)\n",
    "\n",
    "distances = dist(ra, dec)"
   ]
  },
  {
   "cell_type": "code",
   "execution_count": null,
   "id": "f9a01ae1",
   "metadata": {},
   "outputs": [],
   "source": []
  }
 ],
 "metadata": {
  "kernelspec": {
   "display_name": "Python 3 (ipykernel)",
   "language": "python",
   "name": "python3"
  },
  "language_info": {
   "codemirror_mode": {
    "name": "ipython",
    "version": 3
   },
   "file_extension": ".py",
   "mimetype": "text/x-python",
   "name": "python",
   "nbconvert_exporter": "python",
   "pygments_lexer": "ipython3",
   "version": "3.9.12"
  }
 },
 "nbformat": 4,
 "nbformat_minor": 5
}
