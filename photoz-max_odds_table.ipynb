{
 "cells": [
  {
   "cell_type": "code",
   "execution_count": 2,
   "id": "96c4f648",
   "metadata": {},
   "outputs": [],
   "source": [
    "import matplotlib.pyplot as plt\n",
    "import numpy as np\n",
    "import pandas as pd\n",
    "import seaborn as sns; sns.set()\n",
    "\n",
    "sns.set_style(\"ticks\")\n",
    "# sns.set_style(\"white\")\n",
    "# sns.set_style(\"whitegrid\")"
   ]
  },
  {
   "cell_type": "code",
   "execution_count": 3,
   "id": "989487e1",
   "metadata": {},
   "outputs": [],
   "source": [
    "photoz_table = pd.read_csv(\"Fields-DR3/hydra_probgal0.7.csv\", usecols=['RA', 'DEC', 'zml', 'odds', 'PROB_GAL'])\n",
    "\n",
    "specz_table = pd.read_csv(\"hydra_specz.csv\", usecols=['RA_1', 'DEC_1', 'z', 'PROB_GAL'])"
   ]
  },
  {
   "cell_type": "code",
   "execution_count": 4,
   "id": "52b7168a",
   "metadata": {},
   "outputs": [],
   "source": [
    "ra_pz = photoz_table[\"RA\"]\n",
    "dec_pz = photoz_table[\"DEC\"]\n",
    "zml = photoz_table[\"zml\"]\n",
    "odds = photoz_table[\"odds\"]\n",
    "prob_gal = photoz_table[\"PROB_GAL\"]\n",
    "\n",
    "ra_sz = specz_table[\"RA_1\"]\n",
    "dec_sz = specz_table[\"DEC_1\"]\n",
    "z = specz_table[\"z\"]\n",
    "probgal_sz = specz_table[\"PROB_GAL\"]"
   ]
  },
  {
   "cell_type": "code",
   "execution_count": 5,
   "id": "0db507eb",
   "metadata": {},
   "outputs": [],
   "source": [
    "#Defining the center of Hydra (in degress)\n",
    "ra_0 = 159.17\n",
    "dec_0 = -27.524\n",
    "\n",
    "#Defining the radius of 1R200 around the center (in degrees)\n",
    "#R200 = 1.4Mpc + scale of 0.247 Kpc/\" ==> radius = 1.5744º\n",
    "radius = 1.5744\n",
    "\n",
    "def dist(ra, dec):\n",
    "    return np.sqrt((ra - ra_0)**2 + (dec - dec_0)**2)\n",
    "\n",
    "#Defining a mask for the objects inside 1R200\n",
    "distances_pz = dist(ra_pz, dec_pz)\n",
    "distances_sz = dist(ra_sz, dec_sz)"
   ]
  },
  {
   "cell_type": "code",
   "execution_count": 6,
   "id": "14666e35",
   "metadata": {},
   "outputs": [],
   "source": [
    "for odds_min in [0.7, 0.8]:\n",
    "    t = []\n",
    "    for photoz_max in [0.03, 0.04, 0.05, 0.06]:\n",
    "        \n",
    "        mask_pz = (distances_pz < 5*radius) & (zml > 0.0) & (zml < photoz_max) & (odds > odds_min) & (prob_gal > 0.8)\n",
    "        mask_sz = (distances_sz < 5*radius) & (z > 0.0) & (z < photoz_max) & (probgal_sz > 0.8)\n",
    "        \n",
    "        numb_of_galaxies = np.sum(mask_pz)\n",
    "        numb_with_specz = np.sum(mask_sz)\n",
    "        \n",
    "        t.append(\n",
    "        {\n",
    "            'Photo-z_max': photoz_max,\n",
    "            'Number of galaxies': numb_of_galaxies,\n",
    "            'Galaxies with spec-z': numb_with_specz\n",
    "            \n",
    "        }\n",
    "    )\n",
    "\n",
    "    if odds_min == 0.7: t07 = pd.DataFrame(t)\n",
    "    if odds_min == 0.8: t08 = pd.DataFrame(t)"
   ]
  },
  {
   "cell_type": "code",
   "execution_count": 7,
   "id": "c1c5f5aa",
   "metadata": {},
   "outputs": [
    {
     "data": {
      "text/html": [
       "<div>\n",
       "<style scoped>\n",
       "    .dataframe tbody tr th:only-of-type {\n",
       "        vertical-align: middle;\n",
       "    }\n",
       "\n",
       "    .dataframe tbody tr th {\n",
       "        vertical-align: top;\n",
       "    }\n",
       "\n",
       "    .dataframe thead th {\n",
       "        text-align: right;\n",
       "    }\n",
       "</style>\n",
       "<table border=\"1\" class=\"dataframe\">\n",
       "  <thead>\n",
       "    <tr style=\"text-align: right;\">\n",
       "      <th></th>\n",
       "      <th>Photo-z_max</th>\n",
       "      <th>Number of galaxies</th>\n",
       "      <th>Galaxies with spec-z</th>\n",
       "    </tr>\n",
       "  </thead>\n",
       "  <tbody>\n",
       "    <tr>\n",
       "      <th>0</th>\n",
       "      <td>0.03</td>\n",
       "      <td>1663</td>\n",
       "      <td>427</td>\n",
       "    </tr>\n",
       "    <tr>\n",
       "      <th>1</th>\n",
       "      <td>0.04</td>\n",
       "      <td>2508</td>\n",
       "      <td>591</td>\n",
       "    </tr>\n",
       "    <tr>\n",
       "      <th>2</th>\n",
       "      <td>0.05</td>\n",
       "      <td>3558</td>\n",
       "      <td>684</td>\n",
       "    </tr>\n",
       "    <tr>\n",
       "      <th>3</th>\n",
       "      <td>0.06</td>\n",
       "      <td>5150</td>\n",
       "      <td>790</td>\n",
       "    </tr>\n",
       "  </tbody>\n",
       "</table>\n",
       "</div>"
      ],
      "text/plain": [
       "   Photo-z_max  Number of galaxies  Galaxies with spec-z\n",
       "0         0.03                1663                   427\n",
       "1         0.04                2508                   591\n",
       "2         0.05                3558                   684\n",
       "3         0.06                5150                   790"
      ]
     },
     "execution_count": 7,
     "metadata": {},
     "output_type": "execute_result"
    }
   ],
   "source": [
    "t07"
   ]
  },
  {
   "cell_type": "code",
   "execution_count": 8,
   "id": "0b45e805",
   "metadata": {},
   "outputs": [
    {
     "data": {
      "text/html": [
       "<div>\n",
       "<style scoped>\n",
       "    .dataframe tbody tr th:only-of-type {\n",
       "        vertical-align: middle;\n",
       "    }\n",
       "\n",
       "    .dataframe tbody tr th {\n",
       "        vertical-align: top;\n",
       "    }\n",
       "\n",
       "    .dataframe thead th {\n",
       "        text-align: right;\n",
       "    }\n",
       "</style>\n",
       "<table border=\"1\" class=\"dataframe\">\n",
       "  <thead>\n",
       "    <tr style=\"text-align: right;\">\n",
       "      <th></th>\n",
       "      <th>Photo-z_max</th>\n",
       "      <th>Number of galaxies</th>\n",
       "      <th>Galaxies with spec-z</th>\n",
       "    </tr>\n",
       "  </thead>\n",
       "  <tbody>\n",
       "    <tr>\n",
       "      <th>0</th>\n",
       "      <td>0.03</td>\n",
       "      <td>1410</td>\n",
       "      <td>427</td>\n",
       "    </tr>\n",
       "    <tr>\n",
       "      <th>1</th>\n",
       "      <td>0.04</td>\n",
       "      <td>2028</td>\n",
       "      <td>591</td>\n",
       "    </tr>\n",
       "    <tr>\n",
       "      <th>2</th>\n",
       "      <td>0.05</td>\n",
       "      <td>2776</td>\n",
       "      <td>684</td>\n",
       "    </tr>\n",
       "    <tr>\n",
       "      <th>3</th>\n",
       "      <td>0.06</td>\n",
       "      <td>4003</td>\n",
       "      <td>790</td>\n",
       "    </tr>\n",
       "  </tbody>\n",
       "</table>\n",
       "</div>"
      ],
      "text/plain": [
       "   Photo-z_max  Number of galaxies  Galaxies with spec-z\n",
       "0         0.03                1410                   427\n",
       "1         0.04                2028                   591\n",
       "2         0.05                2776                   684\n",
       "3         0.06                4003                   790"
      ]
     },
     "execution_count": 8,
     "metadata": {},
     "output_type": "execute_result"
    }
   ],
   "source": [
    "t08"
   ]
  },
  {
   "cell_type": "code",
   "execution_count": 37,
   "id": "0ef19fea",
   "metadata": {},
   "outputs": [
    {
     "data": {
      "image/png": "[encoded data removed]",
      "text/plain": [
       "<Figure size 576x576 with 1 Axes>"
      ]
     },
     "metadata": {},
     "output_type": "display_data"
    }
   ],
   "source": [
    "fontsize = 20\n",
    "labelsize = 17\n",
    "bar_width = 0.01\n",
    "\n",
    "colors = plt.cm.Set2(np.linspace(0, 1.0, 4))\n",
    "\n",
    "fig = plt.figure(figsize=(8, 8))\n",
    "ax = fig.add_subplot(111)\n",
    "\n",
    "ax.bar(t07[\"Photo-z_max\"], t07[\"Number of galaxies\"], bar_width, color=colors[0], label=\"Odds > 0.7\", alpha=0.6)\n",
    "ax.bar(t08[\"Photo-z_max\"], t08[\"Number of galaxies\"], bar_width, color=colors[1], label=\"Odds > 0.8\", alpha=0.6)\n",
    "ax.bar(t07[\"Photo-z_max\"], t07[\"Galaxies with spec-z\"], bar_width, color=colors[2], label=\"Galaxies with spec-z\", alpha=0.6)\n",
    "ax.set_xlabel(r\"$z_{max}$\", fontsize=fontsize)\n",
    "ax.set_ylabel(\"Number of galaxies\", fontsize=fontsize)\n",
    "ax.set_xticks(t07[\"Photo-z_max\"])\n",
    "ax.set_title(\"Total photometric galaxies\", fontsize=fontsize)\n",
    "ax.yaxis.set_tick_params(labelsize=labelsize, width=3)\n",
    "ax.xaxis.set_tick_params(labelsize=labelsize, width=3)\n",
    "ax.legend()\n",
    "\n",
    "# fig.tight_layout()\n",
    "# plt.savefig(\"../Figures/photoz-max_odds_table_v2.pdf\", format='pdf')"
   ]
  },
  {
   "cell_type": "code",
   "execution_count": null,
   "id": "681387bc",
   "metadata": {},
   "outputs": [],
   "source": []
  }
 ],
 "metadata": {
  "kernelspec": {
   "display_name": "Python 3 (ipykernel)",
   "language": "python",
   "name": "python3"
  },
  "language_info": {
   "codemirror_mode": {
    "name": "ipython",
    "version": 3
   },
   "file_extension": ".py",
   "mimetype": "text/x-python",
   "name": "python",
   "nbconvert_exporter": "python",
   "pygments_lexer": "ipython3",
   "version": "3.9.12"
  }
 },
 "nbformat": 4,
 "nbformat_minor": 5
}
