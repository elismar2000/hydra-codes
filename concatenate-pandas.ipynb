{
 "cells": [
  {
   "cell_type": "code",
   "execution_count": 2,
   "id": "97e15fbb",
   "metadata": {},
   "outputs": [],
   "source": [
    "import numpy as np\n",
    "import pandas as pd\n",
    "import os"
   ]
  },
  {
   "cell_type": "code",
   "execution_count": 3,
   "id": "919349e4",
   "metadata": {},
   "outputs": [],
   "source": [
    "Base_Filters = ['u', 'J0378', 'J0395', 'J0410', 'J0430', 'g', 'J0515', 'r', 'J0660', 'i', 'J0861', 'z']\n",
    "Petro_SPLUS  = [filt+'_petro' for filt in Base_Filters]\n",
    "Aper6_SPLUS  = [filt+'_aper_6' for filt in Base_Filters]\n",
    "#continuar"
   ]
  },
  {
   "cell_type": "code",
   "execution_count": 12,
   "id": "1e3d292b",
   "metadata": {},
   "outputs": [
    {
     "data": {
      "text/plain": [
       "'/work/Masters/Pesquisa/Codes'"
      ]
     },
     "execution_count": 12,
     "metadata": {},
     "output_type": "execute_result"
    }
   ],
   "source": [
    "os.getcwd()"
   ]
  },
  {
   "cell_type": "code",
   "execution_count": 5,
   "id": "ad75c2f3",
   "metadata": {},
   "outputs": [],
   "source": [
    "fields_dir = 'Fields-all_dr3/'\n",
    "os.chdir(fields_dir)"
   ]
  },
  {
   "cell_type": "code",
   "execution_count": 22,
   "id": "f20efede",
   "metadata": {},
   "outputs": [
    {
     "data": {
      "text/plain": [
       "['ID',\n",
       " 'RA',\n",
       " 'DEC',\n",
       " 'u_aper_6',\n",
       " 'J0378_aper_6',\n",
       " 'J0395_aper_6',\n",
       " 'J0410_aper_6',\n",
       " 'J0430_aper_6',\n",
       " 'g_aper_6',\n",
       " 'J0515_aper_6',\n",
       " 'r_aper_6',\n",
       " 'J0660_aper_6',\n",
       " 'i_aper_6',\n",
       " 'J0861_aper_6',\n",
       " 'z_aper_6']"
      ]
     },
     "execution_count": 22,
     "metadata": {},
     "output_type": "execute_result"
    }
   ],
   "source": [
    "cols=['ID', 'RA', 'DEC']+Aper6_SPLUS\n",
    "cols"
   ]
  },
  {
   "cell_type": "code",
   "execution_count": 23,
   "id": "69f2fb4f",
   "metadata": {},
   "outputs": [],
   "source": [
    "Files = [s for s in os.listdir('.') if s.endswith('.csv')]\n",
    "\n",
    "DFs = []\n",
    "\n",
    "for file in Files:\n",
    "    DFs.append(pd.read_csv(file, usecols=cols))\n",
    "\n",
    "DF = pd.concat(DFs)\n",
    "\n",
    "DF.to_csv('Hydra-Aper6.csv', index=False)"
   ]
  },
  {
   "cell_type": "code",
   "execution_count": 6,
   "id": "bd034876",
   "metadata": {},
   "outputs": [],
   "source": [
    "t = pd.read_csv('Hydra-Aper6.csv', usecols=['ID', 'RA', 'DEC', 'u_aper_6'])"
   ]
  },
  {
   "cell_type": "code",
   "execution_count": 7,
   "id": "cc5db8ab",
   "metadata": {},
   "outputs": [
    {
     "data": {
      "text/html": [
       "<div>\n",
       "<style scoped>\n",
       "    .dataframe tbody tr th:only-of-type {\n",
       "        vertical-align: middle;\n",
       "    }\n",
       "\n",
       "    .dataframe tbody tr th {\n",
       "        vertical-align: top;\n",
       "    }\n",
       "\n",
       "    .dataframe thead th {\n",
       "        text-align: right;\n",
       "    }\n",
       "</style>\n",
       "<table border=\"1\" class=\"dataframe\">\n",
       "  <thead>\n",
       "    <tr style=\"text-align: right;\">\n",
       "      <th></th>\n",
       "      <th>DEC</th>\n",
       "      <th>ID</th>\n",
       "      <th>RA</th>\n",
       "      <th>u_aper_6</th>\n",
       "    </tr>\n",
       "  </thead>\n",
       "  <tbody>\n",
       "    <tr>\n",
       "      <th>0</th>\n",
       "      <td>-24.618952</td>\n",
       "      <td>DR3.HYDRA-0015.000000</td>\n",
       "      <td>156.154573</td>\n",
       "      <td>99.000000</td>\n",
       "    </tr>\n",
       "    <tr>\n",
       "      <th>1</th>\n",
       "      <td>-24.618774</td>\n",
       "      <td>DR3.HYDRA-0015.000001</td>\n",
       "      <td>156.141346</td>\n",
       "      <td>25.445881</td>\n",
       "    </tr>\n",
       "    <tr>\n",
       "      <th>2</th>\n",
       "      <td>-24.618871</td>\n",
       "      <td>DR3.HYDRA-0015.000002</td>\n",
       "      <td>156.170359</td>\n",
       "      <td>99.000000</td>\n",
       "    </tr>\n",
       "    <tr>\n",
       "      <th>3</th>\n",
       "      <td>-24.619565</td>\n",
       "      <td>DR3.HYDRA-0015.000003</td>\n",
       "      <td>156.383932</td>\n",
       "      <td>99.000000</td>\n",
       "    </tr>\n",
       "    <tr>\n",
       "      <th>4</th>\n",
       "      <td>-24.619099</td>\n",
       "      <td>DR3.HYDRA-0015.000004</td>\n",
       "      <td>156.261943</td>\n",
       "      <td>22.559687</td>\n",
       "    </tr>\n",
       "    <tr>\n",
       "      <th>...</th>\n",
       "      <td>...</td>\n",
       "      <td>...</td>\n",
       "      <td>...</td>\n",
       "      <td>...</td>\n",
       "    </tr>\n",
       "    <tr>\n",
       "      <th>7810832</th>\n",
       "      <td>-23.897076</td>\n",
       "      <td>DR3.SPLUS-n19s01.059890</td>\n",
       "      <td>165.757445</td>\n",
       "      <td>17.065987</td>\n",
       "    </tr>\n",
       "    <tr>\n",
       "      <th>7810833</th>\n",
       "      <td>-23.541168</td>\n",
       "      <td>DR3.SPLUS-n19s01.059891</td>\n",
       "      <td>165.631696</td>\n",
       "      <td>20.811310</td>\n",
       "    </tr>\n",
       "    <tr>\n",
       "      <th>7810834</th>\n",
       "      <td>-23.890150</td>\n",
       "      <td>DR3.SPLUS-n19s01.059892</td>\n",
       "      <td>164.740244</td>\n",
       "      <td>99.000000</td>\n",
       "    </tr>\n",
       "    <tr>\n",
       "      <th>7810835</th>\n",
       "      <td>-23.892725</td>\n",
       "      <td>DR3.SPLUS-n19s01.059893</td>\n",
       "      <td>164.895574</td>\n",
       "      <td>22.756392</td>\n",
       "    </tr>\n",
       "    <tr>\n",
       "      <th>7810836</th>\n",
       "      <td>-23.542118</td>\n",
       "      <td>DR3.SPLUS-n19s01.059894</td>\n",
       "      <td>165.603211</td>\n",
       "      <td>20.038910</td>\n",
       "    </tr>\n",
       "  </tbody>\n",
       "</table>\n",
       "<p>7810837 rows × 4 columns</p>\n",
       "</div>"
      ],
      "text/plain": [
       "               DEC                       ID          RA   u_aper_6\n",
       "0       -24.618952    DR3.HYDRA-0015.000000  156.154573  99.000000\n",
       "1       -24.618774    DR3.HYDRA-0015.000001  156.141346  25.445881\n",
       "2       -24.618871    DR3.HYDRA-0015.000002  156.170359  99.000000\n",
       "3       -24.619565    DR3.HYDRA-0015.000003  156.383932  99.000000\n",
       "4       -24.619099    DR3.HYDRA-0015.000004  156.261943  22.559687\n",
       "...            ...                      ...         ...        ...\n",
       "7810832 -23.897076  DR3.SPLUS-n19s01.059890  165.757445  17.065987\n",
       "7810833 -23.541168  DR3.SPLUS-n19s01.059891  165.631696  20.811310\n",
       "7810834 -23.890150  DR3.SPLUS-n19s01.059892  164.740244  99.000000\n",
       "7810835 -23.892725  DR3.SPLUS-n19s01.059893  164.895574  22.756392\n",
       "7810836 -23.542118  DR3.SPLUS-n19s01.059894  165.603211  20.038910\n",
       "\n",
       "[7810837 rows x 4 columns]"
      ]
     },
     "execution_count": 7,
     "metadata": {},
     "output_type": "execute_result"
    }
   ],
   "source": [
    "t"
   ]
  }
 ],
 "metadata": {
  "kernelspec": {
   "display_name": "Python 3",
   "language": "python",
   "name": "python3"
  },
  "language_info": {
   "codemirror_mode": {
    "name": "ipython",
    "version": 3
   },
   "file_extension": ".py",
   "mimetype": "text/x-python",
   "name": "python",
   "nbconvert_exporter": "python",
   "pygments_lexer": "ipython3",
   "version": "3.7.10"
  }
 },
 "nbformat": 4,
 "nbformat_minor": 5
}
